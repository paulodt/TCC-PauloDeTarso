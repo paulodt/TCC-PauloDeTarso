{
 "cells": [
  {
   "cell_type": "markdown",
   "metadata": {},
   "source": [
    "# Código do TCC de Paulo de Tarso, da EMAp FGV"
   ]
  },
  {
   "cell_type": "code",
   "execution_count": 307,
   "metadata": {
    "collapsed": false
   },
   "outputs": [],
   "source": [
    "import nltk\n",
    "#Se for preciso, executar o comando abaixo\n",
    "#nltk.download()\n",
    "import unicodedata\n",
    "import string\n",
    "import os\n",
    "from sklearn.model_selection import train_test_split as tts\n",
    "from sklearn.feature_extraction.text import CountVectorizer as CV\n",
    "#Ignorar warnings\n",
    "import warnings\n",
    "warnings.filterwarnings('ignore')"
   ]
  },
  {
   "cell_type": "markdown",
   "metadata": {},
   "source": [
    "## Códigos auxiliares\n",
    "### Código para remover símbolos das strings"
   ]
  },
  {
   "cell_type": "code",
   "execution_count": 308,
   "metadata": {
    "collapsed": true
   },
   "outputs": [],
   "source": [
    "def clean_string(s):\n",
    "    s = s.replace(\"\\n\",\" \")\n",
    "    return ''.join(x for x in unicodedata.normalize('NFKD', s)\n",
    "                   if x in string.ascii_letters + \" \").lower()"
   ]
  },
  {
   "cell_type": "markdown",
   "metadata": {},
   "source": [
    "## Parâmetros"
   ]
  },
  {
   "cell_type": "code",
   "execution_count": 309,
   "metadata": {
    "collapsed": true
   },
   "outputs": [],
   "source": [
    "#Parâmetros\n",
    "inicio_atas = 104 #Utilizarei as atas a partir de 2005\n",
    "final_atas = 205\n",
    "\n",
    "total_atas = final_atas - inicio_atas + 1\n",
    "atas = range(inicio_atas,final_atas+1)\n",
    "\n",
    "path = \"D:/Users/paulotarsosantos/Documents/Documentos/TCC/Atas/\""
   ]
  },
  {
   "cell_type": "markdown",
   "metadata": {},
   "source": [
    "## Tokenização dos textos"
   ]
  },
  {
   "cell_type": "markdown",
   "metadata": {},
   "source": [
    "#### Obter textos dos arquivos"
   ]
  },
  {
   "cell_type": "code",
   "execution_count": 310,
   "metadata": {
    "collapsed": false
   },
   "outputs": [],
   "source": [
    "texts = []\n",
    "\n",
    "#Ir para a pasta com os arquivos\n",
    "os.chdir(path)\n",
    "\n",
    "#Obter o texto dos arquivos\n",
    "for n in atas:\n",
    "    file = open(\"COPOM_\" + str(n) + \".txt\")\n",
    "    texts.append(clean_string(file.read()))\n",
    "    file.close()\n",
    "    \n",
    "#Voltar uma pasta\n",
    "os.chdir(\"..\")"
   ]
  },
  {
   "cell_type": "markdown",
   "metadata": {},
   "source": [
    "#### Vetorizar os textos obtidos"
   ]
  },
  {
   "cell_type": "markdown",
   "metadata": {},
   "source": [
    "#### Stopwords"
   ]
  },
  {
   "cell_type": "code",
   "execution_count": 311,
   "metadata": {
    "collapsed": false
   },
   "outputs": [],
   "source": [
    "sw = [clean_string(word) for word in \n",
    "             open(\"stopwords.txt\",encoding=\"utf-8\").read().splitlines()[1:]]"
   ]
  },
  {
   "cell_type": "markdown",
   "metadata": {},
   "source": [
    "#### Vectorização"
   ]
  },
  {
   "cell_type": "code",
   "execution_count": 312,
   "metadata": {
    "collapsed": false
   },
   "outputs": [],
   "source": [
    "vectorizer = CV(stop_words=sw,min_df=50)\n",
    "arrays = vectorizer.fit_transform(texts).toarray()\n",
    "#d_arrays = dict(zip(range(inicio_atas,final_atas+1),arrays))"
   ]
  },
  {
   "cell_type": "markdown",
   "metadata": {},
   "source": [
    "## Obter os valores das variações na meta da Selic em cada reunião do Copom"
   ]
  },
  {
   "cell_type": "code",
   "execution_count": 313,
   "metadata": {
    "collapsed": false
   },
   "outputs": [],
   "source": [
    "file = open(\"Cortes.txt\")\n",
    "cortes = [int(line.split(\";\")[2]) for line in file.read().splitlines()[1:]]\n",
    "cortes = [int(n/abs(n)) if n != 0 else 0 for n in cortes]\n",
    "cortes.reverse()\n",
    "file.close()"
   ]
  },
  {
   "cell_type": "markdown",
   "metadata": {},
   "source": [
    "## Métodos de classificação"
   ]
  },
  {
   "cell_type": "markdown",
   "metadata": {},
   "source": [
    "### GLM"
   ]
  },
  {
   "cell_type": "code",
   "execution_count": 314,
   "metadata": {
    "collapsed": false
   },
   "outputs": [
    {
     "name": "stdout",
     "output_type": "stream",
     "text": [
      "0.519663119083 -0.794516759239\n"
     ]
    }
   ],
   "source": [
    "from sklearn.linear_model import LinearRegression as LR\n",
    "classifier = LR()\n",
    "n = 10000\n",
    "score = 0\n",
    "last_prediction = 0\n",
    "for i in range(n):\n",
    "    #Separação em dados para treino e dados para teste do modelo\n",
    "    X_train,X_test,y_train,y_test = tts(arrays[:-1],cortes[:-1],train_size=0.9)\n",
    "    \n",
    "    classifier.fit(X_train,y_train)\n",
    "    \n",
    "    score += classifier.score(X_test,y_test)\n",
    "    last_prediction += classifier.predict(arrays[-1])[0]\n",
    "score /= n\n",
    "last_prediction /= n\n",
    "print(score,last_prediction)"
   ]
  },
  {
   "cell_type": "code",
   "execution_count": 315,
   "metadata": {
    "collapsed": false
   },
   "outputs": [
    {
     "data": {
      "text/plain": [
       "102"
      ]
     },
     "execution_count": 315,
     "metadata": {},
     "output_type": "execute_result"
    }
   ],
   "source": [
    "total_atas"
   ]
  },
  {
   "cell_type": "code",
   "execution_count": 316,
   "metadata": {
    "collapsed": false
   },
   "outputs": [
    {
     "data": {
      "text/plain": [
       "(array([-1.62188524,  0.14002572, -1.13365075, -1.01922298, -0.12234857,\n",
       "        -0.19225777, -1.03604204, -0.72802043, -0.32622194,  0.75284272,\n",
       "        -1.04524001]), [-1, 0, -1, -1, 1, 1, -1, -1, -1, 1, 0])"
      ]
     },
     "execution_count": 316,
     "metadata": {},
     "output_type": "execute_result"
    }
   ],
   "source": [
    "classifier.predict(X_test),y_test"
   ]
  },
  {
   "cell_type": "markdown",
   "metadata": {},
   "source": [
    "### SVM"
   ]
  },
  {
   "cell_type": "code",
   "execution_count": 317,
   "metadata": {
    "collapsed": false
   },
   "outputs": [
    {
     "name": "stdout",
     "output_type": "stream",
     "text": [
      "0.383336363636 -1.0\n"
     ]
    }
   ],
   "source": [
    "from sklearn.svm import SVC\n",
    "classifier = SVC()\n",
    "n = 10000\n",
    "score = 0\n",
    "last_prediction = 0\n",
    "for i in range(n):\n",
    "    #Separação em dados para treino e dados para teste do modelo\n",
    "    X_train,X_test,y_train,y_test = tts(arrays[:-1],cortes[:-1],train_size=0.9)\n",
    "    \n",
    "    classifier.fit(X_train,y_train)\n",
    "    \n",
    "    score += classifier.score(X_test,y_test)\n",
    "    last_prediction += classifier.predict(arrays[-1])[0]\n",
    "score /= n\n",
    "last_prediction /= n\n",
    "print(score,last_prediction)"
   ]
  },
  {
   "cell_type": "code",
   "execution_count": 318,
   "metadata": {
    "collapsed": false
   },
   "outputs": [
    {
     "data": {
      "text/plain": [
       "(array([-1, -1,  1,  0, -1,  1, -1, -1, -1, -1, -1]),\n",
       " [0, 0, 0, 1, -1, 0, 1, 1, 0, -1, 0])"
      ]
     },
     "execution_count": 318,
     "metadata": {},
     "output_type": "execute_result"
    }
   ],
   "source": [
    "classifier.predict(X_test),y_test"
   ]
  },
  {
   "cell_type": "code",
   "execution_count": null,
   "metadata": {
    "collapsed": true
   },
   "outputs": [],
   "source": []
  }
 ],
 "metadata": {
  "kernelspec": {
   "display_name": "Python 3",
   "language": "python",
   "name": "python3"
  },
  "language_info": {
   "codemirror_mode": {
    "name": "ipython",
    "version": 3
   },
   "file_extension": ".py",
   "mimetype": "text/x-python",
   "name": "python",
   "nbconvert_exporter": "python",
   "pygments_lexer": "ipython3",
   "version": "3.6.0"
  }
 },
 "nbformat": 4,
 "nbformat_minor": 2
}
