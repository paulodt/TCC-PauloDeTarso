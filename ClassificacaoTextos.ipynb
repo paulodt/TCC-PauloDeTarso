{
 "cells": [
  {
   "cell_type": "markdown",
   "metadata": {},
   "source": [
    "# Código do TCC de Paulo de Tarso, da EMAp FGV"
   ]
  },
  {
   "cell_type": "code",
   "execution_count": 1,
   "metadata": {
    "collapsed": false
   },
   "outputs": [],
   "source": [
    "import nltk\n",
    "#Se for preciso, executar o comando abaixo\n",
    "#nltk.download()\n",
    "import unicodedata\n",
    "import string\n",
    "import os\n",
    "from sklearn.model_selection import train_test_split as tts\n",
    "from sklearn.feature_extraction.text import CountVectorizer as CV\n",
    "#Ignorar warnings\n",
    "import warnings\n",
    "warnings.filterwarnings('ignore')"
   ]
  },
  {
   "cell_type": "markdown",
   "metadata": {},
   "source": [
    "## Códigos auxiliares\n",
    "### Código para remover símbolos das strings"
   ]
  },
  {
   "cell_type": "code",
   "execution_count": 2,
   "metadata": {
    "collapsed": true
   },
   "outputs": [],
   "source": [
    "def clean_string(s):\n",
    "    s = s.replace(\"\\n\",\" \")\n",
    "    return ''.join(x for x in unicodedata.normalize('NFKD', s)\n",
    "                   if x in string.ascii_letters + \" \").lower()"
   ]
  },
  {
   "cell_type": "markdown",
   "metadata": {},
   "source": [
    "## Parâmetros"
   ]
  },
  {
   "cell_type": "code",
   "execution_count": 12,
   "metadata": {
    "collapsed": true
   },
   "outputs": [],
   "source": [
    "#Parâmetros\n",
    "inicio_atas = 104 #Utilizarei as atas a partir de 2005\n",
    "final_atas = 206\n",
    "\n",
    "total_atas = final_atas - inicio_atas + 1\n",
    "atas = range(inicio_atas,final_atas+1)\n",
    "\n",
    "path = \"D:/Users/paulotarsosantos/Documents/Documentos/TCC/Atas/\""
   ]
  },
  {
   "cell_type": "markdown",
   "metadata": {},
   "source": [
    "## Tokenização dos textos"
   ]
  },
  {
   "cell_type": "markdown",
   "metadata": {},
   "source": [
    "### Obter textos dos arquivos"
   ]
  },
  {
   "cell_type": "code",
   "execution_count": 13,
   "metadata": {
    "collapsed": false
   },
   "outputs": [],
   "source": [
    "texts = []\n",
    "\n",
    "#Ir para a pasta com os arquivos\n",
    "os.chdir(path)\n",
    "\n",
    "#Obter o texto dos arquivos\n",
    "for n in atas:\n",
    "    file = open(\"COPOM_\" + str(n) + \".txt\")\n",
    "    texts.append(clean_string(file.read()))\n",
    "    file.close()\n",
    "    \n",
    "#Voltar uma pasta\n",
    "os.chdir(\"..\")"
   ]
  },
  {
   "cell_type": "markdown",
   "metadata": {},
   "source": [
    "### Vetorizar os textos obtidos"
   ]
  },
  {
   "cell_type": "markdown",
   "metadata": {},
   "source": [
    "#### Stopwords"
   ]
  },
  {
   "cell_type": "code",
   "execution_count": 14,
   "metadata": {
    "collapsed": false
   },
   "outputs": [],
   "source": [
    "sw = [clean_string(word) for word in \n",
    "             open(\"stopwords.txt\",encoding=\"utf-8\").read().splitlines()[1:]]"
   ]
  },
  {
   "cell_type": "markdown",
   "metadata": {},
   "source": [
    "#### Vectorização"
   ]
  },
  {
   "cell_type": "code",
   "execution_count": 47,
   "metadata": {
    "collapsed": false
   },
   "outputs": [],
   "source": [
    "vectorizer = CV(stop_words=sw,min_df=50)\n",
    "arrays = vectorizer.fit_transform(texts).toarray()\n",
    "#d_arrays = dict(zip(range(inicio_atas,final_atas+1),arrays))"
   ]
  },
  {
   "cell_type": "markdown",
   "metadata": {},
   "source": [
    "## Obter os valores das variações na meta da Selic em cada reunião do Copom"
   ]
  },
  {
   "cell_type": "code",
   "execution_count": 49,
   "metadata": {
    "collapsed": false
   },
   "outputs": [],
   "source": [
    "file = open(\"Cortes.txt\")\n",
    "cortes = [int(line.split(\";\")[2]) for line in file.read().splitlines()[1:]]\n",
    "cortes = [int(n/abs(n)) if n != 0 else 0 for n in cortes]\n",
    "cortes.reverse()\n",
    "file.close()"
   ]
  },
  {
   "cell_type": "markdown",
   "metadata": {},
   "source": [
    "## Métodos de classificação\n",
    "Me basearei nos modelos contidos na biblioteca Scikit Learn. Os modelos estão em http://scikit-learn.org/stable/supervised_learning.html."
   ]
  },
  {
   "cell_type": "markdown",
   "metadata": {},
   "source": [
    "#### Função que recebe o modelo desejado e retorna o score médio e o valor predito médio para a última reunião (não presente na amostra)"
   ]
  },
  {
   "cell_type": "code",
   "execution_count": 157,
   "metadata": {
    "collapsed": false
   },
   "outputs": [],
   "source": [
    "def RunModel(model,n_executions):\n",
    "    classifier = model\n",
    "    score = 0\n",
    "    last_prediction = 0\n",
    "    for i in range(n_executions):\n",
    "        \n",
    "        #Separação em dados para treino e dados para teste do modelo\n",
    "        #(Aqui, utilizo até a antepenúltima reunião; a penúltima será\n",
    "        #utilizada para prever o resultado da última).\n",
    "        X_train,X_test,y_train,y_test = tts(arrays[:-2],cortes[:-1],train_size=0.9)\n",
    "\n",
    "        #Treino do modelo nos dados\n",
    "        classifier.fit(X_train,y_train)\n",
    "\n",
    "        #Resultados\n",
    "        score += classifier.score(X_test,y_test)\n",
    "        last_prediction += classifier.predict(arrays[-2])[0]\n",
    "        \n",
    "    score /= n_executions\n",
    "    last_prediction /= n_executions\n",
    "    return \"Score: \" + str(score) + \" Predição da última reunião: \" + str(last_prediction)"
   ]
  },
  {
   "cell_type": "code",
   "execution_count": 142,
   "metadata": {
    "collapsed": true
   },
   "outputs": [],
   "source": [
    "from sklearn.linear_model import LinearRegression as LR\n",
    "from sklearn.discriminant_analysis import LinearDiscriminantAnalysis as LDA\n",
    "from sklearn.discriminant_analysis import QuadraticDiscriminantAnalysis as QDA\n",
    "from sklearn.kernel_ridge import KernelRidge as KRR\n",
    "from sklearn.svm import SVC\n",
    "from sklearn.linear_model import SGDClassifier as SGDC\n",
    "from sklearn.neighbors import KNeighborsClassifier as KNC\n",
    "from sklearn.gaussian_process import GaussianProcessClassifier as GPC\n",
    "from sklearn.cross_decomposition import PLSRegression as PLSR\n",
    "from sklearn.naive_bayes import GaussianNB as GNB\n",
    "from sklearn.naive_bayes import MultinomialNB as MNB\n",
    "from sklearn.naive_bayes import BernoulliNB as BNB\n",
    "from sklearn.tree import DecisionTreeClassifier as DTC\n",
    "\n",
    "models = [LR,LDA,QDA,KRR,SVC,SGDC,KNC,GPC,PLSR,GNB,MNB,BNB,DTC]\n",
    "names = [\"Generalized Linear Model\",\"Linear Discriminant Analysis\",\n",
    "        \"Quadratic Discriminant Analysis\",\"Kernel Ridge Regression\",\n",
    "        \"Support Vector Machine Classifier\",\"Stochastic Gradient Descent\",\n",
    "        \"K Nearest Neighbors\",\"Gaussian Process\",\n",
    "         \"Partial Least Squares Regressors\",\"Gaussian Naive Bayes\",\n",
    "         \"Multinomial Naive Bayes\",\"Bernoulli Naive Bayes\",\n",
    "         \"Decision Tree Classifier\"]"
   ]
  },
  {
   "cell_type": "code",
   "execution_count": 148,
   "metadata": {
    "collapsed": false
   },
   "outputs": [
    {
     "name": "stdout",
     "output_type": "stream",
     "text": [
      "Generalized Linear Model\n",
      "Score: 0.531146306319 Predição da última reunião: -0.826825723391\n",
      "Linear Discriminant Analysis\n",
      "Score: 0.757909090909 Predição da última reunião: -0.974\n",
      "Quadratic Discriminant Analysis\n",
      "Score: 0.392454545455 Predição da última reunião: -0.526\n",
      "Kernel Ridge Regression\n",
      "Score: 0.516387914713 Predição da última reunião: -0.842941519853\n",
      "Support Vector Machine Classifier\n",
      "Score: 0.384272727273 Predição da última reunião: -1.0\n",
      "Stochastic Gradient Descent\n",
      "Score: 0.543272727273 Predição da última reunião: -0.901\n",
      "K Nearest Neighbors\n",
      "Score: 0.417363636364 Predição da última reunião: -0.997\n",
      "Gaussian Process\n",
      "Score: 0.312545454545 Predição da última reunião: 1.0\n",
      "Partial Least Squares Regressors\n",
      "Score: -0.0167780419141 Predição da última reunião: [-2.68361038]\n",
      "Gaussian Naive Bayes\n",
      "Score: 0.635272727273 Predição da última reunião: -0.999\n",
      "Multinomial Naive Bayes\n",
      "Score: 0.538818181818 Predição da última reunião: 0.0\n",
      "Bernoulli Naive Bayes\n",
      "Score: 0.484818181818 Predição da última reunião: -0.747\n"
     ]
    }
   ],
   "source": [
    "for i in range(len(models)):\n",
    "    print(names[i])\n",
    "    print(RunModel(models[i],1000))"
   ]
  },
  {
   "cell_type": "markdown",
   "metadata": {},
   "source": [
    "### Generalized Linear Model"
   ]
  },
  {
   "cell_type": "code",
   "execution_count": 158,
   "metadata": {
    "collapsed": false
   },
   "outputs": [
    {
     "data": {
      "text/plain": [
       "'Score: 0.530687283602 Predição da última reunião: -0.829286163544'"
      ]
     },
     "execution_count": 158,
     "metadata": {},
     "output_type": "execute_result"
    }
   ],
   "source": [
    "from sklearn.linear_model import LinearRegression as LR\n",
    "RunModel(LR(),1000)"
   ]
  },
  {
   "cell_type": "markdown",
   "metadata": {},
   "source": [
    "### Linear Discriminant Analysis"
   ]
  },
  {
   "cell_type": "code",
   "execution_count": 121,
   "metadata": {
    "collapsed": false
   },
   "outputs": [
    {
     "name": "stdout",
     "output_type": "stream",
     "text": [
      "Score: 0.768 Predição da última reunião: -0.969\n"
     ]
    }
   ],
   "source": [
    "from sklearn.discriminant_analysis import LinearDiscriminantAnalysis as LDA\n",
    "RunModel(LDA(),1000)"
   ]
  },
  {
   "cell_type": "markdown",
   "metadata": {},
   "source": [
    "### Quadratic Discriminant Analysis"
   ]
  },
  {
   "cell_type": "code",
   "execution_count": 122,
   "metadata": {
    "collapsed": false
   },
   "outputs": [
    {
     "name": "stdout",
     "output_type": "stream",
     "text": [
      "Score: 0.384090909091 Predição da última reunião: -0.558\n"
     ]
    }
   ],
   "source": [
    "from sklearn.discriminant_analysis import QuadraticDiscriminantAnalysis as QDA\n",
    "RunModel(QDA(),1000)"
   ]
  },
  {
   "cell_type": "markdown",
   "metadata": {},
   "source": [
    "### Kernel Ridge Regression"
   ]
  },
  {
   "cell_type": "code",
   "execution_count": 123,
   "metadata": {
    "collapsed": false
   },
   "outputs": [
    {
     "name": "stdout",
     "output_type": "stream",
     "text": [
      "Score: 0.526121517809 Predição da última reunião: -0.840371189118\n"
     ]
    }
   ],
   "source": [
    "from sklearn.kernel_ridge import KernelRidge as KRR\n",
    "RunModel(KR(),10000)"
   ]
  },
  {
   "cell_type": "markdown",
   "metadata": {},
   "source": [
    "### Support Vector Machine"
   ]
  },
  {
   "cell_type": "code",
   "execution_count": 124,
   "metadata": {
    "collapsed": false
   },
   "outputs": [
    {
     "name": "stdout",
     "output_type": "stream",
     "text": [
      "Score: 0.374545454545 Predição da última reunião: -1.0\n"
     ]
    }
   ],
   "source": [
    "from sklearn.svm import SVC\n",
    "RunModel(SVC(),100)"
   ]
  },
  {
   "cell_type": "markdown",
   "metadata": {},
   "source": [
    "### Stochastic Gradient Descent"
   ]
  },
  {
   "cell_type": "code",
   "execution_count": 125,
   "metadata": {
    "collapsed": false
   },
   "outputs": [
    {
     "name": "stdout",
     "output_type": "stream",
     "text": [
      "Score: 0.539727272727 Predição da última reunião: -0.918\n"
     ]
    }
   ],
   "source": [
    "from sklearn.linear_model import SGDClassifier as SGDC\n",
    "RunModel(SGDC(),1000)"
   ]
  },
  {
   "cell_type": "markdown",
   "metadata": {},
   "source": [
    "### Nearest Neighbors"
   ]
  },
  {
   "cell_type": "code",
   "execution_count": 126,
   "metadata": {
    "collapsed": false
   },
   "outputs": [
    {
     "name": "stdout",
     "output_type": "stream",
     "text": [
      "Score: 0.413181818182 Predição da última reunião: -0.991\n"
     ]
    }
   ],
   "source": [
    "from sklearn.neighbors import KNeighborsClassifier as KNC\n",
    "RunModel(KNC(),1000)"
   ]
  },
  {
   "cell_type": "markdown",
   "metadata": {},
   "source": [
    "### Gaussian Process"
   ]
  },
  {
   "cell_type": "code",
   "execution_count": 127,
   "metadata": {
    "collapsed": false
   },
   "outputs": [
    {
     "name": "stdout",
     "output_type": "stream",
     "text": [
      "Score: 0.322090909091 Predição da última reunião: 1.0\n"
     ]
    }
   ],
   "source": [
    "from sklearn.gaussian_process import GaussianProcessClassifier as GPC\n",
    "RunModel(GPC(),1000)"
   ]
  },
  {
   "cell_type": "markdown",
   "metadata": {},
   "source": [
    "### Cross Decomposition"
   ]
  },
  {
   "cell_type": "code",
   "execution_count": 131,
   "metadata": {
    "collapsed": false
   },
   "outputs": [
    {
     "name": "stdout",
     "output_type": "stream",
     "text": [
      "Score: 0.0218190452938 Predição da última reunião: [-2.66567714]\n"
     ]
    }
   ],
   "source": [
    "from sklearn.cross_decomposition import PLSRegression as PLSR\n",
    "RunModel(PLSR(),1000)"
   ]
  },
  {
   "cell_type": "markdown",
   "metadata": {},
   "source": [
    "### Gaussian Naive Bayes"
   ]
  },
  {
   "cell_type": "code",
   "execution_count": 137,
   "metadata": {
    "collapsed": false
   },
   "outputs": [
    {
     "name": "stdout",
     "output_type": "stream",
     "text": [
      "Score: 0.637636363636 Predição da última reunião: -0.998\n"
     ]
    }
   ],
   "source": [
    "from sklearn.naive_bayes import GaussianNB as GNB\n",
    "RunModel(GNB(),1000)"
   ]
  },
  {
   "cell_type": "markdown",
   "metadata": {},
   "source": [
    "### Multinomial Naive Bayes"
   ]
  },
  {
   "cell_type": "code",
   "execution_count": 138,
   "metadata": {
    "collapsed": false
   },
   "outputs": [
    {
     "name": "stdout",
     "output_type": "stream",
     "text": [
      "Score: 0.534909090909 Predição da última reunião: 0.0\n"
     ]
    }
   ],
   "source": [
    "from sklearn.naive_bayes import MultinomialNB as MNB\n",
    "RunModel(MNB(),1000)"
   ]
  },
  {
   "cell_type": "markdown",
   "metadata": {},
   "source": [
    "### Gaussian Naive Bayes"
   ]
  },
  {
   "cell_type": "code",
   "execution_count": 139,
   "metadata": {
    "collapsed": false
   },
   "outputs": [
    {
     "name": "stdout",
     "output_type": "stream",
     "text": [
      "Score: 0.483454545455 Predição da última reunião: -0.759\n"
     ]
    }
   ],
   "source": [
    "from sklearn.naive_bayes import BernoulliNB as BNB\n",
    "RunModel(BNB(),1000)"
   ]
  },
  {
   "cell_type": "markdown",
   "metadata": {},
   "source": [
    "### Decision Tree Classifier"
   ]
  },
  {
   "cell_type": "code",
   "execution_count": 149,
   "metadata": {
    "collapsed": false
   },
   "outputs": [
    {
     "data": {
      "text/plain": [
       "'Score: 0.616909090909 Predição da última reunião: -0.729'"
      ]
     },
     "execution_count": 149,
     "metadata": {},
     "output_type": "execute_result"
    }
   ],
   "source": [
    "from sklearn.tree import DecisionTreeClassifier as DTC\n",
    "RunModel(DTC(),1000)"
   ]
  },
  {
   "cell_type": "markdown",
   "metadata": {},
   "source": [
    "### Bagging meta-estimator"
   ]
  },
  {
   "cell_type": "code",
   "execution_count": 152,
   "metadata": {
    "collapsed": false
   },
   "outputs": [
    {
     "data": {
      "text/plain": [
       "'Score: 0.674545454545 Predição da última reunião: -0.86'"
      ]
     },
     "execution_count": 152,
     "metadata": {},
     "output_type": "execute_result"
    }
   ],
   "source": [
    "from sklearn.ensemble import BaggingClassifier as BC\n",
    "RunModel(BC(),100)"
   ]
  },
  {
   "cell_type": "markdown",
   "metadata": {},
   "source": [
    "### Random Forest Classifier"
   ]
  },
  {
   "cell_type": "code",
   "execution_count": 154,
   "metadata": {
    "collapsed": false
   },
   "outputs": [
    {
     "data": {
      "text/plain": [
       "'Score: 0.679363636364 Predição da última reunião: -0.971'"
      ]
     },
     "execution_count": 154,
     "metadata": {},
     "output_type": "execute_result"
    }
   ],
   "source": [
    "from sklearn.ensemble import RandomForestClassifier as RFC\n",
    "RunModel(RFC(),1000)"
   ]
  },
  {
   "cell_type": "markdown",
   "metadata": {},
   "source": [
    "### Extremely Randomized Trees"
   ]
  },
  {
   "cell_type": "code",
   "execution_count": 156,
   "metadata": {
    "collapsed": false
   },
   "outputs": [
    {
     "data": {
      "text/plain": [
       "'Score: 0.716090909091 Predição da última reunião: -0.982'"
      ]
     },
     "execution_count": 156,
     "metadata": {},
     "output_type": "execute_result"
    }
   ],
   "source": [
    "from sklearn.ensemble import ExtraTreesClassifier as ETC\n",
    "RunModel(ETC(),1000)"
   ]
  },
  {
   "cell_type": "code",
   "execution_count": null,
   "metadata": {
    "collapsed": true
   },
   "outputs": [],
   "source": []
  }
 ],
 "metadata": {
  "kernelspec": {
   "display_name": "Python 3",
   "language": "python",
   "name": "python3"
  },
  "language_info": {
   "codemirror_mode": {
    "name": "ipython",
    "version": 3
   },
   "file_extension": ".py",
   "mimetype": "text/x-python",
   "name": "python",
   "nbconvert_exporter": "python",
   "pygments_lexer": "ipython3",
   "version": "3.6.0"
  }
 },
 "nbformat": 4,
 "nbformat_minor": 2
}
