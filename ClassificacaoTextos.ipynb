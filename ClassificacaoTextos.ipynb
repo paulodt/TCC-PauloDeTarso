{
 "cells": [
  {
   "cell_type": "markdown",
   "metadata": {},
   "source": [
    "# Código do TCC de Paulo de Tarso, da EMAp FGV"
   ]
  },
  {
   "cell_type": "markdown",
   "metadata": {},
   "source": [
    "## Parâmetros"
   ]
  },
  {
   "cell_type": "code",
   "execution_count": 1,
   "metadata": {
    "collapsed": true
   },
   "outputs": [],
   "source": [
    "#Parâmetros\n",
    "inicio_atas = 104 #Utilizarei as atas a partir de 2005\n",
    "final_atas = 207\n",
    "\n",
    "total_atas = final_atas - inicio_atas + 1\n",
    "atas = range(inicio_atas,final_atas+1)\n",
    "\n",
    "path = \"D:/Users/paulotarsosantos/Documents/Documentos/TCC/\""
   ]
  },
  {
   "cell_type": "markdown",
   "metadata": {},
   "source": [
    "## Pacotes"
   ]
  },
  {
   "cell_type": "code",
   "execution_count": 2,
   "metadata": {
    "collapsed": false
   },
   "outputs": [],
   "source": [
    "import nltk\n",
    "#Se for preciso, executar o comando abaixo\n",
    "#nltk.download()\n",
    "\n",
    "#Ignorar warnings\n",
    "import warnings\n",
    "warnings.filterwarnings('ignore')\n",
    "\n",
    "import unicodedata\n",
    "import string\n",
    "from sklearn.metrics import confusion_matrix\n",
    "import os\n",
    "import matplotlib.pyplot as plt\n",
    "%matplotlib inline\n",
    "from sklearn.model_selection import train_test_split as tts\n",
    "from sklearn.feature_extraction.text import CountVectorizer as CV"
   ]
  },
  {
   "cell_type": "markdown",
   "metadata": {},
   "source": [
    "## Códigos auxiliares\n",
    "### Código para remover símbolos das strings"
   ]
  },
  {
   "cell_type": "code",
   "execution_count": 3,
   "metadata": {
    "collapsed": true
   },
   "outputs": [],
   "source": [
    "def clean_string(s):\n",
    "    s = s.replace(\"\\n\",\" \")\n",
    "    return ''.join(x for x in unicodedata.normalize('NFKD', s)\n",
    "                   if x in string.ascii_letters + \" \").lower()"
   ]
  },
  {
   "cell_type": "markdown",
   "metadata": {},
   "source": [
    "## Tokenização dos textos"
   ]
  },
  {
   "cell_type": "markdown",
   "metadata": {},
   "source": [
    "### Obter textos dos arquivos"
   ]
  },
  {
   "cell_type": "code",
   "execution_count": 4,
   "metadata": {
    "collapsed": false
   },
   "outputs": [],
   "source": [
    "texts = []\n",
    "\n",
    "#Ir para a pasta com os arquivos\n",
    "os.chdir(path + \"Atas/\")\n",
    "\n",
    "#Obter o texto dos arquivos\n",
    "for n in atas:\n",
    "    file = open(\"COPOM_\" + str(n) + \".txt\")\n",
    "    texts.append(clean_string(file.read()))\n",
    "    file.close()\n",
    "\n",
    "#Voltar uma pasta\n",
    "os.chdir(\"..\")"
   ]
  },
  {
   "cell_type": "markdown",
   "metadata": {},
   "source": [
    "### Vetorizar os textos obtidos"
   ]
  },
  {
   "cell_type": "markdown",
   "metadata": {},
   "source": [
    "#### Stopwords"
   ]
  },
  {
   "cell_type": "code",
   "execution_count": 5,
   "metadata": {
    "collapsed": false
   },
   "outputs": [],
   "source": [
    "sw = [clean_string(word) for word in \n",
    "             open(\"stopwords.txt\",encoding=\"utf-8\").read().splitlines()[1:]]"
   ]
  },
  {
   "cell_type": "markdown",
   "metadata": {},
   "source": [
    "#### Vectorização"
   ]
  },
  {
   "cell_type": "code",
   "execution_count": 6,
   "metadata": {
    "collapsed": false
   },
   "outputs": [
    {
     "name": "stdout",
     "output_type": "stream",
     "text": [
      "Textos:\n",
      "\n",
      "\"COPOM decide cortar a meta da Selic em 100 bps.\"\n",
      "\"COPOM acredita no aceleração da economia do país e reduz a meta em 200 bps.\"\n",
      "\"COPOM defende que uma taxa de juros menor gera uma aceleração do investimento no país.\"\n",
      "\n",
      "Algumas stopwords:\n",
      "['do', 'da', 'em', 'um', 'para', 'e', 'com', 'nao', 'uma', 'os']\n",
      "\n",
      "Vocabulário:\n",
      "\n",
      "['aceleracao', 'copom', 'meta', 'pais']\n",
      "\n",
      "Vetores de cada texto:\n"
     ]
    },
    {
     "data": {
      "text/plain": [
       "{'copom acredita no aceleracao da economia do pais e reduz a meta em  bps': '[1 1 1 1]',\n",
       " 'copom decide cortar a meta da selic em  bps': '[0 1 1 0]',\n",
       " 'copom defende que uma taxa de juros menor gera uma aceleracao do investimento no pais': '[1 1 0 1]'}"
      ]
     },
     "execution_count": 6,
     "metadata": {},
     "output_type": "execute_result"
    }
   ],
   "source": [
    "#Exemplo\n",
    "textos = [\"COPOM decide cortar a meta da Selic em 100 bps.\",\n",
    "         \"COPOM acredita no aceleração da economia do país e reduz a meta em 200 bps.\",\n",
    "         \"COPOM defende que uma taxa de juros menor gera uma aceleração do investimento no país.\"]\n",
    "\n",
    "print(\"Textos:\\n\")\n",
    "[print('\"' + texto + '\"') for texto in textos]\n",
    "\n",
    "print(\"\\nAlgumas stopwords:\")\n",
    "print(sw[10:20])\n",
    "\n",
    "textos = [clean_string(texto) for texto in textos]\n",
    "\n",
    "from sklearn.feature_extraction.text import CountVectorizer as CV\n",
    "\n",
    "vetorizador = CV(stop_words=sw,min_df=2)\n",
    "vetores = vetorizador.fit_transform(textos).toarray()\n",
    "\n",
    "print(\"\\nVocabulário:\\n\")\n",
    "print(vetorizador.get_feature_names())\n",
    "\n",
    "print(\"\\nVetores de cada texto:\")\n",
    "dict(zip(textos,[str(elt) for elt in vetores]))"
   ]
  },
  {
   "cell_type": "code",
   "execution_count": 136,
   "metadata": {
    "collapsed": false
   },
   "outputs": [],
   "source": [
    "vectorizer = CV(stop_words=sw,min_df=50)\n",
    "arrays = vectorizer.fit_transform(texts).toarray()\n",
    "#d_arrays = dict(zip(range(inicio_atas,final_atas+1),arrays))"
   ]
  },
  {
   "cell_type": "markdown",
   "metadata": {},
   "source": [
    "## Obter os valores das variações na meta da Selic em cada reunião do Copom"
   ]
  },
  {
   "cell_type": "code",
   "execution_count": 137,
   "metadata": {
    "collapsed": false
   },
   "outputs": [],
   "source": [
    "file = open(\"Cortes.txt\")\n",
    "cortes = [int(line.split(\";\")[2]) for line in file.read().splitlines()[1:]]\n",
    "cortes = [int(n/abs(n)) if n != 0 else 0 for n in cortes]\n",
    "cortes.reverse()\n",
    "file.close()"
   ]
  },
  {
   "cell_type": "markdown",
   "metadata": {},
   "source": [
    "## Análise exploratória"
   ]
  },
  {
   "cell_type": "code",
   "execution_count": 138,
   "metadata": {
    "collapsed": false
   },
   "outputs": [
    {
     "data": {
      "image/png": "[encoded data removed]",
      "text/plain": [
       "<matplotlib.figure.Figure at 0xc41eb70>"
      ]
     },
     "metadata": {},
     "output_type": "display_data"
    }
   ],
   "source": [
    "#Plot das quantidades por classe\n",
    "plt.figure(figsize=[8,6])\n",
    "plt.bar([-1,0,1],[cortes.count(elt)/len(cortes)*100 for elt in [-1,0,1]],width=0.6)\n",
    "plt.xticks([-1,0,1],[\"-1\",\"0\",\"1\"])\n",
    "plt.xlabel(\"Direção da variação\")\n",
    "plt.ylabel(\"Percentual\")\n",
    "plt.show()"
   ]
  },
  {
   "cell_type": "code",
   "execution_count": 139,
   "metadata": {
    "collapsed": false
   },
   "outputs": [
    {
     "data": {
      "text/plain": [
       "([('0.095', 'economia'),\n",
       "  ('0.093', 'processo'),\n",
       "  ('0.076', 'junho'),\n",
       "  ('0.076', 'ante'),\n",
       "  ('0.07', 'cenario'),\n",
       "  ('0.069', 'flexibilizacao'),\n",
       "  ('0.062', 'indicadores'),\n",
       "  ('0.06', 'continuidade'),\n",
       "  ('0.059', 'us'),\n",
       "  ('0.054', 'aumento')],\n",
       " [('-0.079', 'precos'),\n",
       "  ('-0.077', 'sobre'),\n",
       "  ('-0.073', 'relacao'),\n",
       "  ('-0.072', 'ritmo'),\n",
       "  ('-0.066', 'setor'),\n",
       "  ('-0.062', 'atingiu'),\n",
       "  ('-0.062', 'vendas'),\n",
       "  ('-0.06', 'pressoes'),\n",
       "  ('-0.059', 'trajetoria'),\n",
       "  ('-0.057', 'acima')])"
      ]
     },
     "execution_count": 139,
     "metadata": {},
     "output_type": "execute_result"
    }
   ],
   "source": [
    "aux = list(zip(arrays[:-1],cortes))\n",
    "\n",
    "cortes_aux = [elt[1] for elt in aux]\n",
    "arrays_aux = [elt[0] for elt in aux]\n",
    "\n",
    "from sklearn.linear_model import LogisticRegression as LR\n",
    "\n",
    "X_train,X_test,y_train,y_test = tts(arrays_aux[:-1],cortes_aux[:-1],train_size=0.6)\n",
    "classifier = LR()\n",
    "classifier.fit(X_train,y_train)\n",
    "\n",
    "#Coeficientes da regressão logística\n",
    "classifier_coefs = [str(round(value,3)) for value in classifier.coef_[0]]\n",
    "coefs = list(zip(classifier_coefs,vectorizer.get_feature_names()))\n",
    "\n",
    "coefs.sort(key=lambda x:float(x[0]))\n",
    "min_n = coefs[:10]\n",
    "\n",
    "coefs.reverse()\n",
    "max_n = coefs[:10]\n",
    "\n",
    "max_n,min_n"
   ]
  },
  {
   "cell_type": "code",
   "execution_count": 107,
   "metadata": {
    "collapsed": false
   },
   "outputs": [
    {
     "data": {
      "text/plain": [
       "(array([[13,  4,  0],\n",
       "        [ 2, 10,  1],\n",
       "        [ 1,  1,  9]]), 0.78048780487804881)"
      ]
     },
     "execution_count": 107,
     "metadata": {},
     "output_type": "execute_result"
    }
   ],
   "source": [
    "confusion_matrix(y_test,classifier.predict(X_test),labels=[-1,0,1]),classifier.score(X_test,y_test)"
   ]
  },
  {
   "cell_type": "markdown",
   "metadata": {},
   "source": [
    "## Métodos de classificação\n",
    "Me basearei nos modelos contidos na biblioteca Scikit Learn. Os modelos estão em http://scikit-learn.org/stable/supervised_learning.html."
   ]
  },
  {
   "cell_type": "markdown",
   "metadata": {},
   "source": [
    "#### Função que recebe o modelo desejado e retorna o score médio e o valor predito médio para a última reunião (não presente na amostra)"
   ]
  },
  {
   "cell_type": "code",
   "execution_count": 108,
   "metadata": {
    "collapsed": false
   },
   "outputs": [],
   "source": [
    "def RunModel(model,next_copom = False):\n",
    "    classifier = model\n",
    "    \n",
    "    #Separação em dados para treino e dados para teste do modelo\n",
    "    #(Aqui, utilizo até a antepenúltima reunião; a penúltima será\n",
    "    #utilizada para prever o resultado da última).\n",
    "    X_train,X_test,y_train,y_test = tts(arrays,cortes,train_size=0.6)\n",
    "\n",
    "    #Treino do modelo nos dados\n",
    "    classifier.fit(X_train,y_train)\n",
    "\n",
    "    #Resultados\n",
    "    score = classifier.score(X_test,y_test)\n",
    "    if not next_copom:\n",
    "        last_prediction = classifier.predict(arrays[-2])[0]\n",
    "    else:\n",
    "        last_prediction = classifier.predict(arrays[-1])[0]\n",
    "    \n",
    "    return [score,last_prediction]"
   ]
  },
  {
   "cell_type": "code",
   "execution_count": 109,
   "metadata": {
    "collapsed": false
   },
   "outputs": [],
   "source": [
    "from sklearn.linear_model import LinearRegression as LR\n",
    "from sklearn.discriminant_analysis import LinearDiscriminantAnalysis as LDA\n",
    "from sklearn.discriminant_analysis import QuadraticDiscriminantAnalysis as QDA\n",
    "from sklearn.kernel_ridge import KernelRidge as KRR\n",
    "from sklearn.svm import SVC\n",
    "from sklearn.linear_model import SGDClassifier as SGDC\n",
    "from sklearn.neighbors import KNeighborsClassifier as KNC\n",
    "from sklearn.gaussian_process import GaussianProcessClassifier as GPC\n",
    "from sklearn.cross_decomposition import PLSRegression as PLSR\n",
    "from sklearn.naive_bayes import GaussianNB as GNB\n",
    "from sklearn.naive_bayes import MultinomialNB as MNB\n",
    "from sklearn.naive_bayes import BernoulliNB as BNB\n",
    "from sklearn.tree import DecisionTreeClassifier as DTC\n",
    "from sklearn.ensemble import BaggingClassifier as BC\n",
    "from sklearn.ensemble import RandomForestClassifier as RFC\n",
    "from sklearn.ensemble import ExtraTreesClassifier as ETC\n",
    "from sklearn.ensemble import AdaBoostClassifier as ABC\n",
    "from sklearn.ensemble import GradientBoostingClassifier as GBC\n",
    "from sklearn.neural_network import MLPClassifier as MLPC\n",
    "from sklearn.ensemble import VotingClassifier as VC\n",
    "from sklearn.linear_model import LogisticRegression as LR\n",
    "\n",
    "models = [LR(),LDA(),QDA(),KRR(),SVC(),SGDC(),KNC(),GPC(),PLSR(),\n",
    "          GNB(),MNB(),BNB(),DTC(),BC(),RFC(),ETC(),ABC(),GBC(),MLPC(),\n",
    "          VC(estimators=[('LDA', LDA()), ('ETC', ETC()),\n",
    "                        ('GBC', GBC())], voting='hard')]\n",
    "\n",
    "names = [\"Generalized Linear Model\",\"Linear Discriminant Analysis\",\n",
    "        \"Quadratic Discriminant Analysis\",\"Kernel Ridge Regression\",\n",
    "        \"Support Vector Machine Classifier\",\"Stochastic Gradient Descent\",\n",
    "        \"K Nearest Neighbors\",\"Gaussian Process\",\n",
    "         \"Partial Least Squares Regressors\",\"Gaussian Naive Bayes\",\n",
    "         \"Multinomial Naive Bayes\",\"Bernoulli Naive Bayes\",\n",
    "         \"Decision Tree Classifier\",\"Bagging meta-estimator\",\n",
    "        \"Random Forest Classifier\",\"Extremely Randomized Trees\",\n",
    "        \"AdaBoost Classifier\",\"Gradient Tree Boosting\",\n",
    "        \"Multi-layer Perceptron Classifier\",\"Voting Classifier\"]"
   ]
  },
  {
   "cell_type": "markdown",
   "metadata": {},
   "source": [
    "Rodar os modelos"
   ]
  },
  {
   "cell_type": "code",
   "execution_count": 110,
   "metadata": {
    "collapsed": false
   },
   "outputs": [],
   "source": [
    "results = []\n",
    "\n",
    "for i in range(len(models)):\n",
    "    \n",
    "    results.append(RunModel(models[i]))"
   ]
  },
  {
   "cell_type": "markdown",
   "metadata": {},
   "source": [
    "Ordenar e mostrar os resultados"
   ]
  },
  {
   "cell_type": "code",
   "execution_count": 111,
   "metadata": {
    "collapsed": false
   },
   "outputs": [],
   "source": [
    "scores = [result[0] for result in results]\n",
    "last_predictions = [result[1] for result in results]\n",
    "\n",
    "model_results = list(zip(names,scores,last_predictions))\n",
    "\n",
    "model_results.sort(key=lambda x:x[1])\n",
    "model_results.reverse()"
   ]
  },
  {
   "cell_type": "code",
   "execution_count": 112,
   "metadata": {
    "collapsed": false
   },
   "outputs": [
    {
     "data": {
      "text/plain": [
       "[('Bagging meta-estimator', 0.7857142857142857, -1),\n",
       " ('Multinomial Naive Bayes', 0.73809523809523814, -1),\n",
       " ('Gaussian Naive Bayes', 0.7142857142857143, -1),\n",
       " ('Voting Classifier', 0.66666666666666663, -1),\n",
       " ('Extremely Randomized Trees', 0.66666666666666663, -1),\n",
       " ('Decision Tree Classifier', 0.6428571428571429, -1),\n",
       " ('Gradient Tree Boosting', 0.61904761904761907, -1),\n",
       " ('Random Forest Classifier', 0.61904761904761907, -1),\n",
       " ('Linear Discriminant Analysis', 0.61904761904761907, -1),\n",
       " ('Bernoulli Naive Bayes', 0.59523809523809523, -1),\n",
       " ('Kernel Ridge Regression', 0.55986435288231351, -0.99970641266674676),\n",
       " ('Generalized Linear Model', 0.54761904761904767, -1),\n",
       " ('AdaBoost Classifier', 0.5, -1),\n",
       " ('Support Vector Machine Classifier', 0.45238095238095238, -1),\n",
       " ('Multi-layer Perceptron Classifier', 0.42857142857142855, -1),\n",
       " ('Quadratic Discriminant Analysis', 0.42857142857142855, -1),\n",
       " ('K Nearest Neighbors', 0.38095238095238093, -1),\n",
       " ('Gaussian Process', 0.30952380952380953, -1),\n",
       " ('Stochastic Gradient Descent', 0.30952380952380953, -1),\n",
       " ('Partial Least Squares Regressors',\n",
       "  -0.20066111772397499,\n",
       "  array([-3.08186423]))]"
      ]
     },
     "execution_count": 112,
     "metadata": {},
     "output_type": "execute_result"
    }
   ],
   "source": [
    "model_results"
   ]
  },
  {
   "cell_type": "code",
   "execution_count": 113,
   "metadata": {
    "collapsed": false
   },
   "outputs": [],
   "source": [
    "file = open(\"Results.csv\",\"w\")\n",
    "[file.write(names[i] + \";\" + str(scores[i]) + \";\" +\n",
    "            str(last_predictions[i]) + \"\\n\") for i in range(len(scores))]\n",
    "file.close()"
   ]
  },
  {
   "cell_type": "markdown",
   "metadata": {},
   "source": [
    "### Generalized Linear Model"
   ]
  },
  {
   "cell_type": "code",
   "execution_count": 114,
   "metadata": {
    "collapsed": false
   },
   "outputs": [
    {
     "data": {
      "text/plain": [
       "[0.43746729340908852, -1.1467145516201525]"
      ]
     },
     "execution_count": 114,
     "metadata": {},
     "output_type": "execute_result"
    }
   ],
   "source": [
    "from sklearn.linear_model import LinearRegression as LR\n",
    "RunModel(LR(),1000)"
   ]
  },
  {
   "cell_type": "markdown",
   "metadata": {},
   "source": [
    "### Linear Discriminant Analysis"
   ]
  },
  {
   "cell_type": "code",
   "execution_count": 115,
   "metadata": {
    "collapsed": false
   },
   "outputs": [
    {
     "data": {
      "text/plain": [
       "[0.52380952380952384, -1]"
      ]
     },
     "execution_count": 115,
     "metadata": {},
     "output_type": "execute_result"
    }
   ],
   "source": [
    "from sklearn.discriminant_analysis import LinearDiscriminantAnalysis as LDA\n",
    "RunModel(LDA(),1000)"
   ]
  },
  {
   "cell_type": "markdown",
   "metadata": {},
   "source": [
    "### Quadratic Discriminant Analysis"
   ]
  },
  {
   "cell_type": "code",
   "execution_count": 116,
   "metadata": {
    "collapsed": false
   },
   "outputs": [
    {
     "data": {
      "text/plain": [
       "[0.30952380952380953, -1]"
      ]
     },
     "execution_count": 116,
     "metadata": {},
     "output_type": "execute_result"
    }
   ],
   "source": [
    "from sklearn.discriminant_analysis import QuadraticDiscriminantAnalysis as QDA\n",
    "RunModel(QDA(),1000)"
   ]
  },
  {
   "cell_type": "markdown",
   "metadata": {},
   "source": [
    "### Kernel Ridge Regression"
   ]
  },
  {
   "cell_type": "code",
   "execution_count": 117,
   "metadata": {
    "collapsed": false
   },
   "outputs": [
    {
     "data": {
      "text/plain": [
       "[0.61889372003055976, -0.79199511039309911]"
      ]
     },
     "execution_count": 117,
     "metadata": {},
     "output_type": "execute_result"
    }
   ],
   "source": [
    "from sklearn.kernel_ridge import KernelRidge as KRR\n",
    "RunModel(KRR(),10000)"
   ]
  },
  {
   "cell_type": "markdown",
   "metadata": {},
   "source": [
    "### Support Vector Machine"
   ]
  },
  {
   "cell_type": "code",
   "execution_count": 118,
   "metadata": {
    "collapsed": false
   },
   "outputs": [
    {
     "data": {
      "text/plain": [
       "[0.47619047619047616, -1]"
      ]
     },
     "execution_count": 118,
     "metadata": {},
     "output_type": "execute_result"
    }
   ],
   "source": [
    "from sklearn.svm import SVC\n",
    "RunModel(SVC(),100)"
   ]
  },
  {
   "cell_type": "markdown",
   "metadata": {},
   "source": [
    "### Stochastic Gradient Descent"
   ]
  },
  {
   "cell_type": "code",
   "execution_count": 119,
   "metadata": {
    "collapsed": false
   },
   "outputs": [
    {
     "data": {
      "text/plain": [
       "[0.47619047619047616, -1]"
      ]
     },
     "execution_count": 119,
     "metadata": {},
     "output_type": "execute_result"
    }
   ],
   "source": [
    "from sklearn.linear_model import SGDClassifier as SGDC\n",
    "RunModel(SGDC(),1000)"
   ]
  },
  {
   "cell_type": "markdown",
   "metadata": {},
   "source": [
    "### Nearest Neighbors"
   ]
  },
  {
   "cell_type": "code",
   "execution_count": 120,
   "metadata": {
    "collapsed": false
   },
   "outputs": [
    {
     "data": {
      "text/plain": [
       "[0.54761904761904767, -1]"
      ]
     },
     "execution_count": 120,
     "metadata": {},
     "output_type": "execute_result"
    }
   ],
   "source": [
    "from sklearn.neighbors import KNeighborsClassifier as KNC\n",
    "RunModel(KNC(),1000)"
   ]
  },
  {
   "cell_type": "markdown",
   "metadata": {},
   "source": [
    "### Gaussian Process"
   ]
  },
  {
   "cell_type": "code",
   "execution_count": 121,
   "metadata": {
    "collapsed": false
   },
   "outputs": [
    {
     "data": {
      "text/plain": [
       "[0.33333333333333331, -1]"
      ]
     },
     "execution_count": 121,
     "metadata": {},
     "output_type": "execute_result"
    }
   ],
   "source": [
    "from sklearn.gaussian_process import GaussianProcessClassifier as GPC\n",
    "RunModel(GPC(),1000)"
   ]
  },
  {
   "cell_type": "markdown",
   "metadata": {},
   "source": [
    "### Cross Decomposition"
   ]
  },
  {
   "cell_type": "code",
   "execution_count": 122,
   "metadata": {
    "collapsed": false
   },
   "outputs": [
    {
     "data": {
      "text/plain": [
       "[-1.2498138587635479, array([-3.26781179])]"
      ]
     },
     "execution_count": 122,
     "metadata": {},
     "output_type": "execute_result"
    }
   ],
   "source": [
    "from sklearn.cross_decomposition import PLSRegression as PLSR\n",
    "RunModel(PLSR(),1000)"
   ]
  },
  {
   "cell_type": "markdown",
   "metadata": {},
   "source": [
    "### Gaussian Naive Bayes"
   ]
  },
  {
   "cell_type": "code",
   "execution_count": 123,
   "metadata": {
    "collapsed": false
   },
   "outputs": [
    {
     "data": {
      "text/plain": [
       "[0.76190476190476186, -1]"
      ]
     },
     "execution_count": 123,
     "metadata": {},
     "output_type": "execute_result"
    }
   ],
   "source": [
    "from sklearn.naive_bayes import GaussianNB as GNB\n",
    "RunModel(GNB(),1000)"
   ]
  },
  {
   "cell_type": "markdown",
   "metadata": {},
   "source": [
    "### Multinomial Naive Bayes"
   ]
  },
  {
   "cell_type": "code",
   "execution_count": 124,
   "metadata": {
    "collapsed": false
   },
   "outputs": [
    {
     "data": {
      "text/plain": [
       "[0.52380952380952384, -1]"
      ]
     },
     "execution_count": 124,
     "metadata": {},
     "output_type": "execute_result"
    }
   ],
   "source": [
    "from sklearn.naive_bayes import MultinomialNB as MNB\n",
    "RunModel(MNB(),1000)"
   ]
  },
  {
   "cell_type": "markdown",
   "metadata": {},
   "source": [
    "### Bernoulli Naive Bayes"
   ]
  },
  {
   "cell_type": "code",
   "execution_count": 125,
   "metadata": {
    "collapsed": false
   },
   "outputs": [
    {
     "data": {
      "text/plain": [
       "[0.59523809523809523, -1]"
      ]
     },
     "execution_count": 125,
     "metadata": {},
     "output_type": "execute_result"
    }
   ],
   "source": [
    "from sklearn.naive_bayes import BernoulliNB as BNB\n",
    "RunModel(BNB(),1000)"
   ]
  },
  {
   "cell_type": "markdown",
   "metadata": {},
   "source": [
    "### Decision Tree Classifier"
   ]
  },
  {
   "cell_type": "code",
   "execution_count": 126,
   "metadata": {
    "collapsed": false
   },
   "outputs": [
    {
     "data": {
      "text/plain": [
       "[0.66666666666666663, -1]"
      ]
     },
     "execution_count": 126,
     "metadata": {},
     "output_type": "execute_result"
    }
   ],
   "source": [
    "from sklearn.tree import DecisionTreeClassifier as DTC\n",
    "RunModel(DTC(),1000)"
   ]
  },
  {
   "cell_type": "markdown",
   "metadata": {},
   "source": [
    "### Bagging meta-estimator"
   ]
  },
  {
   "cell_type": "code",
   "execution_count": 127,
   "metadata": {
    "collapsed": false
   },
   "outputs": [
    {
     "data": {
      "text/plain": [
       "[0.7142857142857143, -1]"
      ]
     },
     "execution_count": 127,
     "metadata": {},
     "output_type": "execute_result"
    }
   ],
   "source": [
    "from sklearn.ensemble import BaggingClassifier as BC\n",
    "RunModel(BC(),100)"
   ]
  },
  {
   "cell_type": "markdown",
   "metadata": {},
   "source": [
    "### Random Forest Classifier"
   ]
  },
  {
   "cell_type": "code",
   "execution_count": 128,
   "metadata": {
    "collapsed": false
   },
   "outputs": [
    {
     "data": {
      "text/plain": [
       "[0.66666666666666663, -1]"
      ]
     },
     "execution_count": 128,
     "metadata": {},
     "output_type": "execute_result"
    }
   ],
   "source": [
    "from sklearn.ensemble import RandomForestClassifier as RFC\n",
    "RunModel(RFC(),1000)"
   ]
  },
  {
   "cell_type": "markdown",
   "metadata": {},
   "source": [
    "### Extremely Randomized Trees"
   ]
  },
  {
   "cell_type": "code",
   "execution_count": 129,
   "metadata": {
    "collapsed": false
   },
   "outputs": [
    {
     "data": {
      "text/plain": [
       "[0.73809523809523814, -1]"
      ]
     },
     "execution_count": 129,
     "metadata": {},
     "output_type": "execute_result"
    }
   ],
   "source": [
    "from sklearn.ensemble import ExtraTreesClassifier as ETC\n",
    "RunModel(ETC(),1000)"
   ]
  },
  {
   "cell_type": "markdown",
   "metadata": {},
   "source": [
    "### AdaBoost Classifier"
   ]
  },
  {
   "cell_type": "code",
   "execution_count": 130,
   "metadata": {
    "collapsed": false
   },
   "outputs": [
    {
     "data": {
      "text/plain": [
       "[0.52380952380952384, 0]"
      ]
     },
     "execution_count": 130,
     "metadata": {},
     "output_type": "execute_result"
    }
   ],
   "source": [
    "from sklearn.ensemble import AdaBoostClassifier as ABC\n",
    "RunModel(ABC(),100)"
   ]
  },
  {
   "cell_type": "markdown",
   "metadata": {},
   "source": [
    "### Gradient Tree Boosting"
   ]
  },
  {
   "cell_type": "code",
   "execution_count": 131,
   "metadata": {
    "collapsed": false
   },
   "outputs": [
    {
     "data": {
      "text/plain": [
       "[0.5714285714285714, -1]"
      ]
     },
     "execution_count": 131,
     "metadata": {},
     "output_type": "execute_result"
    }
   ],
   "source": [
    "from sklearn.ensemble import GradientBoostingClassifier as GBC\n",
    "RunModel(GBC(),10)"
   ]
  },
  {
   "cell_type": "markdown",
   "metadata": {},
   "source": [
    "### Multi-layer Perceptron Classifier\n",
    "Neural Network with backpropagation"
   ]
  },
  {
   "cell_type": "code",
   "execution_count": 132,
   "metadata": {
    "collapsed": false
   },
   "outputs": [
    {
     "data": {
      "text/plain": [
       "[0.69047619047619047, -1]"
      ]
     },
     "execution_count": 132,
     "metadata": {},
     "output_type": "execute_result"
    }
   ],
   "source": [
    "from sklearn.neural_network import MLPClassifier as MLPC\n",
    "RunModel(MLPC(hidden_layer_sizes=(20, 5)),100)"
   ]
  },
  {
   "cell_type": "markdown",
   "metadata": {},
   "source": [
    "### Grid Search Voting Classifier\n",
    "Utiliza múltiplos modelos e encontra os pesos para cada modelo."
   ]
  },
  {
   "cell_type": "code",
   "execution_count": 133,
   "metadata": {
    "collapsed": false
   },
   "outputs": [
    {
     "ename": "TypeError",
     "evalue": "RunModel() got multiple values for argument 'next_copom'",
     "output_type": "error",
     "traceback": [
      "\u001b[0;31m---------------------------------------------------------------------------\u001b[0m",
      "\u001b[0;31mTypeError\u001b[0m                                 Traceback (most recent call last)",
      "\u001b[0;32m<ipython-input-133-157cd46e5370>\u001b[0m in \u001b[0;36m<module>\u001b[0;34m()\u001b[0m\n\u001b[1;32m      1\u001b[0m \u001b[1;32mfrom\u001b[0m \u001b[0msklearn\u001b[0m\u001b[1;33m.\u001b[0m\u001b[0mensemble\u001b[0m \u001b[1;32mimport\u001b[0m \u001b[0mVotingClassifier\u001b[0m\u001b[1;33m\u001b[0m\u001b[0m\n\u001b[1;32m      2\u001b[0m RunModel(VC(estimators=[('LDA', LDA()), ('ETC', ETC()),\n\u001b[0;32m----> 3\u001b[0;31m                         ('GBC', GBC())], voting='hard'),10,next_copom=True)\n\u001b[0m",
      "\u001b[0;31mTypeError\u001b[0m: RunModel() got multiple values for argument 'next_copom'"
     ]
    }
   ],
   "source": [
    "from sklearn.ensemble import VotingClassifier\n",
    "RunModel(VC(estimators=[('LDA', LDA()), ('ETC', ETC()),\n",
    "                        ('GBC', GBC())], voting='hard'),10,next_copom=True)"
   ]
  },
  {
   "cell_type": "code",
   "execution_count": null,
   "metadata": {
    "collapsed": true
   },
   "outputs": [],
   "source": []
  }
 ],
 "metadata": {
  "kernelspec": {
   "display_name": "Python 3",
   "language": "python",
   "name": "python3"
  },
  "language_info": {
   "codemirror_mode": {
    "name": "ipython",
    "version": 3
   },
   "file_extension": ".py",
   "mimetype": "text/x-python",
   "name": "python",
   "nbconvert_exporter": "python",
   "pygments_lexer": "ipython3",
   "version": "3.6.0"
  }
 },
 "nbformat": 4,
 "nbformat_minor": 2
}
