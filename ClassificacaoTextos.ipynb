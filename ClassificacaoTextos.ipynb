{
 "cells": [
  {
   "cell_type": "markdown",
   "metadata": {},
   "source": [
    "# Código do TCC de Paulo de Tarso, da EMAp FGV"
   ]
  },
  {
   "cell_type": "markdown",
   "metadata": {},
   "source": [
    "## Parâmetros"
   ]
  },
  {
   "cell_type": "code",
   "execution_count": 246,
   "metadata": {
    "collapsed": true
   },
   "outputs": [],
   "source": [
    "#Parâmetros\n",
    "inicio_atas = 104 #Utilizarei as atas a partir de 2005\n",
    "final_atas = 207\n",
    "\n",
    "total_atas = final_atas - inicio_atas + 1\n",
    "n_atas_retiradas_fim = 7\n",
    "atas = range(inicio_atas,final_atas+1)\n",
    "\n",
    "path = \"D:/Users/paulotarsosantos/Documents/Documentos/TCC/\""
   ]
  },
  {
   "cell_type": "markdown",
   "metadata": {},
   "source": [
    "## Pacotes"
   ]
  },
  {
   "cell_type": "code",
   "execution_count": 89,
   "metadata": {
    "collapsed": false
   },
   "outputs": [],
   "source": [
    "import nltk\n",
    "#Se for preciso, executar o comando abaixo\n",
    "#nltk.download()\n",
    "\n",
    "#Ignorar warnings\n",
    "import warnings\n",
    "warnings.filterwarnings('ignore')\n",
    "\n",
    "import unicodedata\n",
    "import string\n",
    "from sklearn.metrics import confusion_matrix\n",
    "import os\n",
    "import matplotlib.pyplot as plt\n",
    "import numpy as np\n",
    "%matplotlib inline\n",
    "from sklearn.model_selection import train_test_split as tts\n",
    "from sklearn.feature_extraction.text import CountVectorizer as CV\n",
    "from sklearn.linear_model import LogisticRegression as LR\n",
    "import pandas as pd"
   ]
  },
  {
   "cell_type": "markdown",
   "metadata": {},
   "source": [
    "## Códigos auxiliares\n",
    "### Código para remover símbolos das strings"
   ]
  },
  {
   "cell_type": "code",
   "execution_count": 90,
   "metadata": {
    "collapsed": true
   },
   "outputs": [],
   "source": [
    "def clean_string(s):\n",
    "    s = s.replace(\"\\n\",\" \")\n",
    "    return ''.join(x for x in unicodedata.normalize('NFKD', s)\n",
    "                   if x in string.ascii_letters + \" \").lower()"
   ]
  },
  {
   "cell_type": "markdown",
   "metadata": {},
   "source": [
    "## Tokenização dos textos"
   ]
  },
  {
   "cell_type": "markdown",
   "metadata": {},
   "source": [
    "### Obter textos dos arquivos"
   ]
  },
  {
   "cell_type": "code",
   "execution_count": 91,
   "metadata": {
    "collapsed": false
   },
   "outputs": [],
   "source": [
    "texts = []\n",
    "dates = []\n",
    "\n",
    "#Ir para a pasta com os arquivos\n",
    "os.chdir(path + \"Atas/\")\n",
    "\n",
    "#Obter o texto dos arquivos\n",
    "for n in atas:\n",
    "    file = open(\"COPOM_\" + str(n) + \".txt\")\n",
    "    text = file.read()\n",
    "    texts.append(clean_string(text))\n",
    "    \n",
    "    #Data\n",
    "    n1 = text.find(\"/\")-2\n",
    "    data = text[n1:n1+10].replace(\"\\n\",\"\").strip()\n",
    "    ##Colocar 0 à esquerda de mês/dia, quando necessário\n",
    "    data_split = data.split(\"/\")\n",
    "    data = \"0\"*(2-len(data_split[0])) + data_split[0] + \"/\" + \"0\"*(2-len(data_split[1])) + data_split[1] + \"/\" + data_split[2]\n",
    "    dates.append(data)\n",
    "    file.close()\n",
    "\n",
    "#Voltar uma pasta\n",
    "os.chdir(\"..\")"
   ]
  },
  {
   "cell_type": "markdown",
   "metadata": {},
   "source": [
    "### Vetorizar os textos obtidos"
   ]
  },
  {
   "cell_type": "markdown",
   "metadata": {},
   "source": [
    "#### Stopwords"
   ]
  },
  {
   "cell_type": "code",
   "execution_count": 92,
   "metadata": {
    "collapsed": false
   },
   "outputs": [],
   "source": [
    "sw = [clean_string(word) for word in \n",
    "             open(\"stopwords.txt\",encoding=\"utf-8\").read().splitlines()[1:]]"
   ]
  },
  {
   "cell_type": "markdown",
   "metadata": {},
   "source": [
    "#### Vectorização"
   ]
  },
  {
   "cell_type": "code",
   "execution_count": 93,
   "metadata": {
    "collapsed": false
   },
   "outputs": [
    {
     "name": "stdout",
     "output_type": "stream",
     "text": [
      "Textos:\n",
      "\n",
      "\"COPOM decide cortar a meta da Selic em 100 bps.\"\n",
      "\"COPOM acredita no aceleração da economia do país e reduz a meta em 200 bps.\"\n",
      "\"COPOM defende que uma taxa de juros menor gera uma aceleração do investimento no país.\"\n",
      "\n",
      "Algumas stopwords:\n",
      "['setembro', 'outubro', 'novembro', 'dezembro', 'us', 'bps', 'aa', 'aaa', 'aaao', 'aarefletindo']\n",
      "\n",
      "Vocabulário:\n",
      "\n",
      "['aceleracao', 'copom', 'meta', 'pais']\n",
      "\n",
      "Vetores de cada texto:\n"
     ]
    },
    {
     "data": {
      "text/plain": [
       "{'copom acredita no aceleracao da economia do pais e reduz a meta em  bps': '[1 1 1 1]',\n",
       " 'copom decide cortar a meta da selic em  bps': '[0 1 1 0]',\n",
       " 'copom defende que uma taxa de juros menor gera uma aceleracao do investimento no pais': '[1 1 0 1]'}"
      ]
     },
     "execution_count": 93,
     "metadata": {},
     "output_type": "execute_result"
    }
   ],
   "source": [
    "#Exemplo\n",
    "textos = [\"COPOM decide cortar a meta da Selic em 100 bps.\",\n",
    "         \"COPOM acredita no aceleração da economia do país e reduz a meta em 200 bps.\",\n",
    "         \"COPOM defende que uma taxa de juros menor gera uma aceleração do investimento no país.\"]\n",
    "\n",
    "print(\"Textos:\\n\")\n",
    "[print('\"' + texto + '\"') for texto in textos]\n",
    "\n",
    "print(\"\\nAlgumas stopwords:\")\n",
    "print(sw[10:20])\n",
    "\n",
    "textos = [clean_string(texto) for texto in textos]\n",
    "\n",
    "from sklearn.feature_extraction.text import CountVectorizer as CV\n",
    "\n",
    "vetorizador = CV(stop_words=sw,min_df=2)\n",
    "vetores = vetorizador.fit_transform(textos).toarray()\n",
    "\n",
    "print(\"\\nVocabulário:\\n\")\n",
    "print(vetorizador.get_feature_names())\n",
    "\n",
    "print(\"\\nVetores de cada texto:\")\n",
    "dict(zip(textos,[str(elt) for elt in vetores]))"
   ]
  },
  {
   "cell_type": "code",
   "execution_count": 94,
   "metadata": {
    "collapsed": false
   },
   "outputs": [],
   "source": [
    "vectorizer = CV(stop_words=sw,min_df=50)\n",
    "arrays = vectorizer.fit_transform(texts).toarray()\n",
    "#d_arrays = dict(zip(range(inicio_atas,final_atas+1),arrays))"
   ]
  },
  {
   "cell_type": "markdown",
   "metadata": {},
   "source": [
    "## Obter os valores das variações na meta da Selic em cada reunião do Copom"
   ]
  },
  {
   "cell_type": "code",
   "execution_count": 95,
   "metadata": {
    "collapsed": false
   },
   "outputs": [],
   "source": [
    "file = open(\"Cortes.txt\")\n",
    "cortes = [int(line.split(\";\")[2]) for line in file.read().splitlines()[1:]]\n",
    "cortes = [int(n/abs(n)) if n != 0 else 0 for n in cortes]\n",
    "cortes.reverse()\n",
    "file.close()"
   ]
  },
  {
   "cell_type": "markdown",
   "metadata": {},
   "source": [
    "## Análise exploratória"
   ]
  },
  {
   "cell_type": "code",
   "execution_count": 96,
   "metadata": {
    "collapsed": false
   },
   "outputs": [
    {
     "data": {
      "image/png": "[encoded data removed]",
      "text/plain": [
       "<matplotlib.figure.Figure at 0xe9776a0>"
      ]
     },
     "metadata": {},
     "output_type": "display_data"
    }
   ],
   "source": [
    "#Plot das quantidades por classe\n",
    "plt.figure(figsize=[8,6])\n",
    "plt.bar([-1,0,1],[cortes.count(elt)/len(cortes)*100 for elt in [-1,0,1]],width=0.6)\n",
    "plt.xticks([-1,0,1],[\"-1\",\"0\",\"1\"])\n",
    "plt.xlabel(\"Direção da variação\")\n",
    "plt.ylabel(\"Percentual\")\n",
    "plt.show()"
   ]
  },
  {
   "cell_type": "markdown",
   "metadata": {},
   "source": [
    "## Regressão logística com ordem temporal utilizando uma reunião"
   ]
  },
  {
   "cell_type": "code",
   "execution_count": 97,
   "metadata": {
    "collapsed": false
   },
   "outputs": [],
   "source": [
    "aux = list(zip(arrays[:-1],cortes[1:]))\n",
    "\n",
    "cortes_aux = [elt[1] for elt in aux]\n",
    "arrays_aux = [elt[0] for elt in aux]\n",
    "\n",
    "p = 0.7\n",
    "X_train = arrays_aux[:int(p*len(arrays_aux))]\n",
    "X_test = arrays_aux[int(p*len(arrays_aux)):]\n",
    "y_train = cortes_aux[:int(p*len(cortes_aux))]\n",
    "y_test = cortes_aux[int(p*len(cortes_aux)):]\n",
    "\n",
    "classifier = LR()\n",
    "classifier.fit(X_train,y_train)\n",
    "\n",
    "score1 = classifier.score(X_test,y_test)"
   ]
  },
  {
   "cell_type": "markdown",
   "metadata": {},
   "source": [
    "## Retirando a ordem temporal"
   ]
  },
  {
   "cell_type": "code",
   "execution_count": 98,
   "metadata": {
    "collapsed": false
   },
   "outputs": [
    {
     "name": "stdout",
     "output_type": "stream",
     "text": [
      "100%\r"
     ]
    }
   ],
   "source": [
    "aux = list(zip(arrays[:-1],cortes[1:]))\n",
    "\n",
    "cortes_aux = [elt[1] for elt in aux]\n",
    "arrays_aux = [elt[0] for elt in aux]\n",
    "\n",
    "n = 1000\n",
    "scores = []\n",
    "\n",
    "for i in range(n):\n",
    "    print(\"%i%%\" % (round(i*100/n)),end=\"\\r\", flush=True)\n",
    "    \n",
    "    X_train,X_test,y_train,y_test = tts(arrays_aux,cortes_aux,train_size=0.7)\n",
    "    \n",
    "    classifier = LR()\n",
    "    classifier.fit(X_train,y_train)\n",
    "    scores.append(classifier.score(X_test,y_test))\n",
    "    \n",
    "#Taxa média de acerto\n",
    "score = np.average(scores)\n",
    "\n",
    "score2 = score"
   ]
  },
  {
   "cell_type": "code",
   "execution_count": 99,
   "metadata": {
    "collapsed": false
   },
   "outputs": [
    {
     "name": "stdout",
     "output_type": "stream",
     "text": [
      "Score: 78.777%\n",
      "Amostra para treino/teste: 72/31\n"
     ]
    },
    {
     "data": {
      "image/png": "[encoded data removed]",
      "text/plain": [
       "<matplotlib.figure.Figure at 0xe481240>"
      ]
     },
     "metadata": {},
     "output_type": "display_data"
    },
    {
     "data": {
      "text/plain": [
       "array([[15,  1,  0],\n",
       "       [ 1,  7,  0],\n",
       "       [ 0,  2,  5]])"
      ]
     },
     "execution_count": 99,
     "metadata": {},
     "output_type": "execute_result"
    }
   ],
   "source": [
    "print(\"Score: %.3f%%\" % (np.average(scores)*100))\n",
    "print(\"Amostra para treino/teste: %i/%i\" % (len(X_train),len(X_test)))\n",
    "plt.hist(scores,bins=10)\n",
    "plt.title(\"Histograma de acertos\")\n",
    "plt.show()\n",
    "confusion_matrix(y_test,classifier.predict(X_test),labels=[-1,0,1])"
   ]
  },
  {
   "cell_type": "markdown",
   "metadata": {},
   "source": [
    "## Utilizando duas votações, com ordem temporal"
   ]
  },
  {
   "cell_type": "code",
   "execution_count": 100,
   "metadata": {
    "collapsed": false
   },
   "outputs": [],
   "source": [
    "aux = list(zip(arrays[:-1],cortes[1:]))\n",
    "\n",
    "cortes_aux = [aux[i+1][1] for i in range(len(aux)-1)]\n",
    "arrays_aux = [aux[i][0] + aux[i+1][0] for i in range(len(aux)-1)]\n",
    "\n",
    "from sklearn.linear_model import LogisticRegression as LR\n",
    "\n",
    "p = 0.7\n",
    "X_train = arrays_aux[:int(p*len(arrays_aux))]\n",
    "X_test = arrays_aux[int(p*len(arrays_aux)):]\n",
    "y_train = cortes_aux[:int(p*len(cortes_aux))]\n",
    "y_test = cortes_aux[int(p*len(cortes_aux)):]\n",
    "\n",
    "classifier = LR()\n",
    "classifier.fit(X_train,y_train)\n",
    "\n",
    "score3 = classifier.score(X_test,y_test)"
   ]
  },
  {
   "cell_type": "markdown",
   "metadata": {},
   "source": [
    "## Duas reuniões, sem ordem temporal"
   ]
  },
  {
   "cell_type": "code",
   "execution_count": 117,
   "metadata": {
    "collapsed": false
   },
   "outputs": [
    {
     "name": "stdout",
     "output_type": "stream",
     "text": [
      "100%\r"
     ]
    }
   ],
   "source": [
    "aux = list(zip(arrays[:-1-n_atas_retiradas_fim],cortes[1:-n_atas_retiradas_fim]))\n",
    "\n",
    "cortes_aux = [aux[i+1][1] for i in range(len(aux)-1)]\n",
    "arrays_aux = [aux[i][0] + aux[i+1][0] for i in range(len(aux)-1)]\n",
    "\n",
    "#N últimas reuniões\n",
    "cortes_aux2 = [cortes[i+1] for i in range(len(cortes)-1)]\n",
    "arrays_aux2 = [arrays[i] + arrays[i+1] for i in range(len(arrays)-1)]\n",
    "\n",
    "from sklearn.linear_model import LogisticRegression as LR\n",
    "\n",
    "n = 1000\n",
    "scores = []\n",
    "\n",
    "for i in range(n):\n",
    "    print(\"%i%%\" % (round(i*100/n)),end=\"\\r\", flush=True)\n",
    "    \n",
    "    X_train,X_test,y_train,y_test = tts(arrays_aux,cortes_aux,train_size=0.7)\n",
    "    \n",
    "    classifier = LR()\n",
    "    classifier.fit(X_train,y_train)\n",
    "    scores.append(classifier.score(arrays_aux2,cortes_aux2))\n",
    "    \n",
    "#Taxa média de acerto\n",
    "classifier = LR()\n",
    "classifier.fit(arrays_aux,cortes_aux)\n",
    "score = classifier.score(arrays_aux2,cortes_aux2)"
   ]
  },
  {
   "cell_type": "code",
   "execution_count": 120,
   "metadata": {
    "collapsed": false
   },
   "outputs": [
    {
     "name": "stdout",
     "output_type": "stream",
     "text": [
      "Score: 77.670%\n"
     ]
    },
    {
     "data": {
      "image/png": "[encoded data removed]",
      "text/plain": [
       "<matplotlib.figure.Figure at 0xea239b0>"
      ]
     },
     "metadata": {},
     "output_type": "display_data"
    }
   ],
   "source": [
    "print(\"Score: %.3f%%\" % (score*100))\n",
    "plt.hist(scores,bins=10)\n",
    "plt.title(\"Histograma de acertos\")\n",
    "plt.show()"
   ]
  },
  {
   "cell_type": "markdown",
   "metadata": {},
   "source": [
    "## Usei a equipe anterior para prever a equipe atual"
   ]
  },
  {
   "cell_type": "code",
   "execution_count": 298,
   "metadata": {
    "collapsed": false
   },
   "outputs": [
    {
     "data": {
      "text/plain": [
       "0.83333333333333337"
      ]
     },
     "execution_count": 298,
     "metadata": {},
     "output_type": "execute_result"
    }
   ],
   "source": [
    "n_atas_retiradas_fim = 7\n",
    "aux = list(zip(arrays[:-1-n_atas_retiradas_fim],cortes[1:-n_atas_retiradas_fim]))\n",
    "aux2 = list(zip(arrays[-n_atas_retiradas_fim:-1],cortes[-n_atas_retiradas_fim+1:]))\n",
    "scores = []\n",
    "\n",
    "cortes_aux = [aux[i][1] for i in range(len(aux))]\n",
    "arrays_aux = [aux[i][0] for i in range(len(aux))]\n",
    "\n",
    "cortes_aux2 = [aux2[i][1] for i in range(len(aux2))]\n",
    "arrays_aux2 = [aux2[i][0] for i in range(len(aux2))]\n",
    "\n",
    "for k in range(n_atas_retiradas_fim-1):\n",
    "\n",
    "    classifier = LR()\n",
    "    classifier.fit(arrays_aux + arrays_aux2[:k],cortes_aux + cortes_aux2[:k])\n",
    "    scores.append(classifier.score(arrays_aux2[k:],cortes_aux2[k:]))\n",
    "    \n",
    "np.average(scores)"
   ]
  },
  {
   "cell_type": "code",
   "execution_count": 329,
   "metadata": {
    "collapsed": false
   },
   "outputs": [],
   "source": [
    "scores = []\n",
    "for n_atas_retiradas_fim in range(7,30):\n",
    "    aux = list(zip(arrays[:-1-n_atas_retiradas_fim],cortes[1:-n_atas_retiradas_fim]))\n",
    "    aux2 = list(zip(arrays[-n_atas_retiradas_fim:-1],cortes[-n_atas_retiradas_fim+1:]))\n",
    "    scores_aux = []\n",
    "\n",
    "    cortes_aux = [aux[i][1] for i in range(len(aux))]\n",
    "    arrays_aux = [aux[i][0] for i in range(len(aux))]\n",
    "\n",
    "    cortes_aux2 = [aux2[i][1] for i in range(len(aux2))]\n",
    "    arrays_aux2 = [aux2[i][0] for i in range(len(aux2))]\n",
    "\n",
    "    for k in range(n_atas_retiradas_fim-1):\n",
    "\n",
    "        classifier = SVC()\n",
    "        classifier.fit(arrays_aux + arrays_aux2[:k],cortes_aux + cortes_aux2[:k])\n",
    "        scores_aux.append(classifier.score(arrays_aux2[k:],cortes_aux2[k:]))\n",
    "        \n",
    "    scores.append([1-n_atas_retiradas_fim/104,np.average(scores_aux)])"
   ]
  },
  {
   "cell_type": "code",
   "execution_count": 330,
   "metadata": {
    "collapsed": false
   },
   "outputs": [
    {
     "data": {
      "image/png": "[encoded data removed]",
      "text/plain": [
       "<matplotlib.figure.Figure at 0xeff2f60>"
      ]
     },
     "metadata": {},
     "output_type": "display_data"
    }
   ],
   "source": [
    "plt.plot([elt[0] for elt in scores],[elt[1] for elt in scores])\n",
    "plt.xlabel(\"Percentual da amostra usado para treino\")\n",
    "plt.ylabel(\"Taxa de acertos\")\n",
    "plt.show()"
   ]
  },
  {
   "cell_type": "markdown",
   "metadata": {},
   "source": [
    "## Relação entre número de atas e erro"
   ]
  },
  {
   "cell_type": "code",
   "execution_count": 237,
   "metadata": {
    "collapsed": false
   },
   "outputs": [
    {
     "ename": "KeyboardInterrupt",
     "evalue": "",
     "output_type": "error",
     "traceback": [
      "\u001b[0;31m---------------------------------------------------------------------------\u001b[0m",
      "\u001b[0;31mKeyboardInterrupt\u001b[0m                         Traceback (most recent call last)",
      "\u001b[0;32m<ipython-input-237-5becdff557e9>\u001b[0m in \u001b[0;36m<module>\u001b[0;34m()\u001b[0m\n\u001b[1;32m     19\u001b[0m \u001b[1;33m\u001b[0m\u001b[0m\n\u001b[1;32m     20\u001b[0m         \u001b[0mclassifier\u001b[0m \u001b[1;33m=\u001b[0m \u001b[0mLR\u001b[0m\u001b[1;33m(\u001b[0m\u001b[1;33m)\u001b[0m\u001b[1;33m\u001b[0m\u001b[0m\n\u001b[0;32m---> 21\u001b[0;31m         \u001b[0mclassifier\u001b[0m\u001b[1;33m.\u001b[0m\u001b[0mfit\u001b[0m\u001b[1;33m(\u001b[0m\u001b[0marrays_aux\u001b[0m\u001b[1;33m,\u001b[0m\u001b[0mcortes_aux\u001b[0m\u001b[1;33m)\u001b[0m\u001b[1;33m\u001b[0m\u001b[0m\n\u001b[0m\u001b[1;32m     22\u001b[0m         \u001b[0mscores\u001b[0m\u001b[1;33m[\u001b[0m\u001b[0mi\u001b[0m\u001b[1;33m]\u001b[0m \u001b[1;33m=\u001b[0m \u001b[0mscores\u001b[0m\u001b[1;33m[\u001b[0m\u001b[0mi\u001b[0m\u001b[1;33m]\u001b[0m \u001b[1;33m+\u001b[0m \u001b[1;33m[\u001b[0m\u001b[1;33m[\u001b[0m\u001b[0mk\u001b[0m\u001b[1;33m+\u001b[0m\u001b[1;36m1\u001b[0m\u001b[1;33m,\u001b[0m\u001b[0mclassifier\u001b[0m\u001b[1;33m.\u001b[0m\u001b[0mscore\u001b[0m\u001b[1;33m(\u001b[0m\u001b[0marrays_aux2\u001b[0m\u001b[1;33m,\u001b[0m\u001b[0mcortes_aux2\u001b[0m\u001b[1;33m)\u001b[0m\u001b[1;33m]\u001b[0m\u001b[1;33m]\u001b[0m\u001b[1;33m\u001b[0m\u001b[0m\n",
      "\u001b[0;32mD:\\Users\\paulotarsosantos\\AppData\\Local\\Continuum\\Anaconda3\\lib\\site-packages\\sklearn\\linear_model\\logistic.py\u001b[0m in \u001b[0;36mfit\u001b[0;34m(self, X, y, sample_weight)\u001b[0m\n\u001b[1;32m   1184\u001b[0m                 \u001b[0mself\u001b[0m\u001b[1;33m.\u001b[0m\u001b[0mclass_weight\u001b[0m\u001b[1;33m,\u001b[0m \u001b[0mself\u001b[0m\u001b[1;33m.\u001b[0m\u001b[0mpenalty\u001b[0m\u001b[1;33m,\u001b[0m \u001b[0mself\u001b[0m\u001b[1;33m.\u001b[0m\u001b[0mdual\u001b[0m\u001b[1;33m,\u001b[0m \u001b[0mself\u001b[0m\u001b[1;33m.\u001b[0m\u001b[0mverbose\u001b[0m\u001b[1;33m,\u001b[0m\u001b[1;33m\u001b[0m\u001b[0m\n\u001b[1;32m   1185\u001b[0m                 \u001b[0mself\u001b[0m\u001b[1;33m.\u001b[0m\u001b[0mmax_iter\u001b[0m\u001b[1;33m,\u001b[0m \u001b[0mself\u001b[0m\u001b[1;33m.\u001b[0m\u001b[0mtol\u001b[0m\u001b[1;33m,\u001b[0m \u001b[0mself\u001b[0m\u001b[1;33m.\u001b[0m\u001b[0mrandom_state\u001b[0m\u001b[1;33m,\u001b[0m\u001b[1;33m\u001b[0m\u001b[0m\n\u001b[0;32m-> 1186\u001b[0;31m                 sample_weight=sample_weight)\n\u001b[0m\u001b[1;32m   1187\u001b[0m             \u001b[0mself\u001b[0m\u001b[1;33m.\u001b[0m\u001b[0mn_iter_\u001b[0m \u001b[1;33m=\u001b[0m \u001b[0mnp\u001b[0m\u001b[1;33m.\u001b[0m\u001b[0marray\u001b[0m\u001b[1;33m(\u001b[0m\u001b[1;33m[\u001b[0m\u001b[0mn_iter_\u001b[0m\u001b[1;33m]\u001b[0m\u001b[1;33m)\u001b[0m\u001b[1;33m\u001b[0m\u001b[0m\n\u001b[1;32m   1188\u001b[0m             \u001b[1;32mreturn\u001b[0m \u001b[0mself\u001b[0m\u001b[1;33m\u001b[0m\u001b[0m\n",
      "\u001b[0;32mD:\\Users\\paulotarsosantos\\AppData\\Local\\Continuum\\Anaconda3\\lib\\site-packages\\sklearn\\svm\\base.py\u001b[0m in \u001b[0;36m_fit_liblinear\u001b[0;34m(X, y, C, fit_intercept, intercept_scaling, class_weight, penalty, dual, verbose, max_iter, tol, random_state, multi_class, loss, epsilon, sample_weight)\u001b[0m\n\u001b[1;32m    910\u001b[0m         \u001b[0mX\u001b[0m\u001b[1;33m,\u001b[0m \u001b[0my_ind\u001b[0m\u001b[1;33m,\u001b[0m \u001b[0msp\u001b[0m\u001b[1;33m.\u001b[0m\u001b[0misspmatrix\u001b[0m\u001b[1;33m(\u001b[0m\u001b[0mX\u001b[0m\u001b[1;33m)\u001b[0m\u001b[1;33m,\u001b[0m \u001b[0msolver_type\u001b[0m\u001b[1;33m,\u001b[0m \u001b[0mtol\u001b[0m\u001b[1;33m,\u001b[0m \u001b[0mbias\u001b[0m\u001b[1;33m,\u001b[0m \u001b[0mC\u001b[0m\u001b[1;33m,\u001b[0m\u001b[1;33m\u001b[0m\u001b[0m\n\u001b[1;32m    911\u001b[0m         \u001b[0mclass_weight_\u001b[0m\u001b[1;33m,\u001b[0m \u001b[0mmax_iter\u001b[0m\u001b[1;33m,\u001b[0m \u001b[0mrnd\u001b[0m\u001b[1;33m.\u001b[0m\u001b[0mrandint\u001b[0m\u001b[1;33m(\u001b[0m\u001b[0mnp\u001b[0m\u001b[1;33m.\u001b[0m\u001b[0miinfo\u001b[0m\u001b[1;33m(\u001b[0m\u001b[1;34m'i'\u001b[0m\u001b[1;33m)\u001b[0m\u001b[1;33m.\u001b[0m\u001b[0mmax\u001b[0m\u001b[1;33m)\u001b[0m\u001b[1;33m,\u001b[0m\u001b[1;33m\u001b[0m\u001b[0m\n\u001b[0;32m--> 912\u001b[0;31m         epsilon, sample_weight)\n\u001b[0m\u001b[1;32m    913\u001b[0m     \u001b[1;31m# Regarding rnd.randint(..) in the above signature:\u001b[0m\u001b[1;33m\u001b[0m\u001b[1;33m\u001b[0m\u001b[0m\n\u001b[1;32m    914\u001b[0m     \u001b[1;31m# seed for srand in range [0..INT_MAX); due to limitations in Numpy\u001b[0m\u001b[1;33m\u001b[0m\u001b[1;33m\u001b[0m\u001b[0m\n",
      "\u001b[0;31mKeyboardInterrupt\u001b[0m: "
     ]
    }
   ],
   "source": [
    "n_atas_retiradas_fim = 15\n",
    "\n",
    "aux = list(zip(arrays[:-1-n_atas_retiradas_fim],cortes[1:-n_atas_retiradas_fim]))\n",
    "\n",
    "#N últimas reuniões\n",
    "aux2 = list(zip(arrays[-n_atas_retiradas_fim:-1],cortes[-n_atas_retiradas_fim+1:]))\n",
    "\n",
    "\n",
    "scores = [[]]*100\n",
    "\n",
    "for i in range(100):\n",
    "    for k in range(n_atas_retiradas_fim-2):\n",
    "\n",
    "        cortes_aux = [aux[i+k+1][1] for i in range(len(aux)-1-k)]\n",
    "        arrays_aux = [np.concatenate([aux[i+j][0] for j in range(k+1)],0) for i in range(len(aux)-1-k)]\n",
    "\n",
    "        cortes_aux2 = [aux2[i+k+1][1] for i in range(len(aux2)-1-k)]\n",
    "        arrays_aux2 = [np.concatenate([aux2[i+j][0] for j in range(k+1)],0) for i in range(len(aux2)-1-k)]\n",
    "\n",
    "        classifier = LR()\n",
    "        classifier.fit(arrays_aux,cortes_aux)\n",
    "        scores[i] = scores[i] + [[k+1,classifier.score(arrays_aux2,cortes_aux2)]]"
   ]
  },
  {
   "cell_type": "code",
   "execution_count": null,
   "metadata": {
    "collapsed": false
   },
   "outputs": [],
   "source": [
    "scores = [[j+1,np.average([score[j][1] for score in scores])] for j in range(len(scores[0]))]"
   ]
  },
  {
   "cell_type": "code",
   "execution_count": null,
   "metadata": {
    "collapsed": false
   },
   "outputs": [],
   "source": [
    "plt.plot([elt[0] for elt in scores],[elt[1] for elt in scores])\n",
    "plt.show()"
   ]
  },
  {
   "cell_type": "code",
   "execution_count": 450,
   "metadata": {
    "collapsed": false
   },
   "outputs": [
    {
     "name": "stdout",
     "output_type": "stream",
     "text": [
      "*média de scores em 1000 amostras sorteadas aleatoriamente utilizando a função sklearn.model_selection.train_test_split.\n"
     ]
    },
    {
     "data": {
      "text/html": [
       "<div>\n",
       "<table border=\"1\" class=\"dataframe\">\n",
       "  <thead>\n",
       "    <tr style=\"text-align: right;\">\n",
       "      <th></th>\n",
       "      <th>Uma reunião</th>\n",
       "      <th>Duas reuniões</th>\n",
       "    </tr>\n",
       "  </thead>\n",
       "  <tbody>\n",
       "    <tr>\n",
       "      <th>Com ordem temporal</th>\n",
       "      <td>0.387097</td>\n",
       "      <td>0.387097</td>\n",
       "    </tr>\n",
       "    <tr>\n",
       "      <th>Sem ordem temporal</th>\n",
       "      <td>0.788580645161*</td>\n",
       "      <td>0.813*</td>\n",
       "    </tr>\n",
       "  </tbody>\n",
       "</table>\n",
       "</div>"
      ],
      "text/plain": [
       "                        Uma reunião Duas reuniões\n",
       "Com ordem temporal         0.387097      0.387097\n",
       "Sem ordem temporal  0.788580645161*        0.813*"
      ]
     },
     "execution_count": 450,
     "metadata": {},
     "output_type": "execute_result"
    }
   ],
   "source": [
    "df_acertos = pd.DataFrame([[score1,score3],[str(score2)+ \"*\",str(score4)+ \"*\"]],index=[\"Com ordem temporal\",\"Sem ordem temporal\"],columns=[\"Uma reunião\",\"Duas reuniões\"])\n",
    "print(\"*média de scores em 1000 amostras sorteadas aleatoriamente utilizando a função sklearn.model_selection.train_test_split.\")\n",
    "df_acertos"
   ]
  },
  {
   "cell_type": "code",
   "execution_count": null,
   "metadata": {
    "collapsed": true
   },
   "outputs": [],
   "source": [
    "## Obter a quantidade ótima de atas para prever um corte"
   ]
  },
  {
   "cell_type": "markdown",
   "metadata": {},
   "source": [
    "## Coeficientes das palavras"
   ]
  },
  {
   "cell_type": "code",
   "execution_count": 451,
   "metadata": {
    "collapsed": false
   },
   "outputs": [
    {
     "data": {
      "text/plain": [
       "([('0.072', 'queda'),\n",
       "  ('0.071', 'reducao'),\n",
       "  ('0.071', 'membros'),\n",
       "  ('0.063', 'trimestre'),\n",
       "  ('0.063', 'maior'),\n",
       "  ('0.059', 'banco'),\n",
       "  ('0.054', 'central'),\n",
       "  ('0.05', 'considerando'),\n",
       "  ('0.05', 'cenario'),\n",
       "  ('0.048', 'ultimo')],\n",
       " [('-0.085', 'credito'),\n",
       "  ('-0.085', 'relacao'),\n",
       "  ('-0.065', 'vendas'),\n",
       "  ('-0.061', 'recuperacao'),\n",
       "  ('-0.055', 'ritmo'),\n",
       "  ('-0.051', 'aumento'),\n",
       "  ('-0.048', 'mensal'),\n",
       "  ('-0.047', 'semestre'),\n",
       "  ('-0.046', 'bem'),\n",
       "  ('-0.046', 'taxa')])"
      ]
     },
     "execution_count": 451,
     "metadata": {},
     "output_type": "execute_result"
    }
   ],
   "source": [
    "#Coeficientes da regressão logística\n",
    "classifier_coefs = [str(round(value,3)) for value in classifier.coef_[0]]\n",
    "coefs = list(zip(classifier_coefs,vectorizer.get_feature_names()))\n",
    "\n",
    "coefs.sort(key=lambda x:float(x[0]))\n",
    "min_n = coefs[:10]\n",
    "\n",
    "coefs.reverse()\n",
    "max_n = coefs[:10]\n",
    "\n",
    "max_n,min_n"
   ]
  },
  {
   "cell_type": "markdown",
   "metadata": {},
   "source": [
    "## Métodos de classificação\n",
    "Me basearei nos modelos contidos na biblioteca Scikit Learn. Os modelos estão em http://scikit-learn.org/stable/supervised_learning.html."
   ]
  },
  {
   "cell_type": "markdown",
   "metadata": {},
   "source": [
    "#### Função que recebe o modelo desejado e retorna o score médio e o valor predito médio para a última reunião (não presente na amostra)"
   ]
  },
  {
   "cell_type": "code",
   "execution_count": 452,
   "metadata": {
    "collapsed": false
   },
   "outputs": [],
   "source": [
    "aux = list(zip(arrays[:-1],cortes[1:]))\n",
    "\n",
    "arrays_aux = [aux[i][0] + aux[i+1][0] for i in range(len(aux)-1)]\n",
    "cortes_aux = [aux[i+1][1] for i in range(len(aux)-1)]\n",
    "\n",
    "def RunModel(model,next_copom = False):\n",
    "    classifier = model\n",
    "    \n",
    "    #Separação em dados para treino e dados para teste do modelo\n",
    "    #(Aqui, utilizo até a antepenúltima reunião; a penúltima será\n",
    "    #utilizada para prever o resultado da última).\n",
    "    X_train,X_test,y_train,y_test = tts(arrays_aux,cortes_aux,train_size=0.6)\n",
    "\n",
    "    #Treino do modelo nos dados\n",
    "    classifier.fit(X_train,y_train)\n",
    "\n",
    "    #Resultados\n",
    "    score = classifier.score(X_test,y_test)\n",
    "    if not next_copom:\n",
    "        last_prediction = classifier.predict(arrays[-2])[0]\n",
    "    else:\n",
    "        last_prediction = classifier.predict(arrays[-1])[0]\n",
    "    \n",
    "    return [score,last_prediction]"
   ]
  },
  {
   "cell_type": "code",
   "execution_count": 148,
   "metadata": {
    "collapsed": false
   },
   "outputs": [],
   "source": [
    "from sklearn.linear_model import LinearRegression as LR\n",
    "from sklearn.discriminant_analysis import LinearDiscriminantAnalysis as LDA\n",
    "from sklearn.discriminant_analysis import QuadraticDiscriminantAnalysis as QDA\n",
    "from sklearn.kernel_ridge import KernelRidge as KRR\n",
    "from sklearn.svm import SVC\n",
    "from sklearn.linear_model import SGDClassifier as SGDC\n",
    "from sklearn.neighbors import KNeighborsClassifier as KNC\n",
    "from sklearn.gaussian_process import GaussianProcessClassifier as GPC\n",
    "from sklearn.cross_decomposition import PLSRegression as PLSR\n",
    "from sklearn.naive_bayes import GaussianNB as GNB\n",
    "from sklearn.naive_bayes import MultinomialNB as MNB\n",
    "from sklearn.naive_bayes import BernoulliNB as BNB\n",
    "from sklearn.tree import DecisionTreeClassifier as DTC\n",
    "from sklearn.ensemble import BaggingClassifier as BC\n",
    "from sklearn.ensemble import RandomForestClassifier as RFC\n",
    "from sklearn.ensemble import ExtraTreesClassifier as ETC\n",
    "from sklearn.ensemble import AdaBoostClassifier as ABC\n",
    "from sklearn.ensemble import GradientBoostingClassifier as GBC\n",
    "from sklearn.neural_network import MLPClassifier as MLPC\n",
    "from sklearn.ensemble import VotingClassifier as VC\n",
    "from sklearn.linear_model import LogisticRegression as LR\n",
    "\n",
    "models = [LR(),LDA(),QDA(),KRR(),SVC(),SGDC(),KNC(),GPC(),PLSR(),\n",
    "          GNB(),MNB(),BNB(),DTC(),BC(),RFC(),ETC(),ABC(),GBC(),MLPC(),\n",
    "          VC(estimators=[('LDA', LDA()), ('ETC', ETC()),\n",
    "                        ('GBC', GBC())], voting='hard')]\n",
    "\n",
    "names = [\"Generalized Linear Model\",\"Linear Discriminant Analysis\",\n",
    "        \"Quadratic Discriminant Analysis\",\"Kernel Ridge Regression\",\n",
    "        \"Support Vector Machine Classifier\",\"Stochastic Gradient Descent\",\n",
    "        \"K Nearest Neighbors\",\"Gaussian Process\",\n",
    "         \"Partial Least Squares Regressors\",\"Gaussian Naive Bayes\",\n",
    "         \"Multinomial Naive Bayes\",\"Bernoulli Naive Bayes\",\n",
    "         \"Decision Tree Classifier\",\"Bagging meta-estimator\",\n",
    "        \"Random Forest Classifier\",\"Extremely Randomized Trees\",\n",
    "        \"AdaBoost Classifier\",\"Gradient Tree Boosting\",\n",
    "        \"Multi-layer Perceptron Classifier\",\"Voting Classifier\"]"
   ]
  },
  {
   "cell_type": "markdown",
   "metadata": {},
   "source": [
    "Rodar os modelos"
   ]
  },
  {
   "cell_type": "code",
   "execution_count": 454,
   "metadata": {
    "collapsed": false
   },
   "outputs": [],
   "source": [
    "results = []\n",
    "\n",
    "for i in range(len(models)):\n",
    "    \n",
    "    results.append(RunModel(models[i]))"
   ]
  },
  {
   "cell_type": "markdown",
   "metadata": {},
   "source": [
    "Ordenar e mostrar os resultados"
   ]
  },
  {
   "cell_type": "code",
   "execution_count": 455,
   "metadata": {
    "collapsed": false
   },
   "outputs": [],
   "source": [
    "scores = [result[0] for result in results]\n",
    "last_predictions = [result[1] for result in results]\n",
    "\n",
    "model_results = list(zip(names,scores,last_predictions))\n",
    "\n",
    "model_results.sort(key=lambda x:x[1])\n",
    "model_results.reverse()"
   ]
  },
  {
   "cell_type": "code",
   "execution_count": 456,
   "metadata": {
    "collapsed": false
   },
   "outputs": [
    {
     "data": {
      "text/plain": [
       "[('Extremely Randomized Trees', 0.85365853658536583, -1),\n",
       " ('Decision Tree Classifier', 0.78048780487804881, -1),\n",
       " ('Voting Classifier', 0.75609756097560976, -1),\n",
       " ('Random Forest Classifier', 0.75609756097560976, -1),\n",
       " ('Bernoulli Naive Bayes', 0.75609756097560976, -1),\n",
       " ('Linear Discriminant Analysis', 0.75609756097560976, -1),\n",
       " ('Generalized Linear Model', 0.75609756097560976, -1),\n",
       " ('Kernel Ridge Regression', 0.74932681396625966, -0.51748052990190274),\n",
       " ('Gaussian Naive Bayes', 0.73170731707317072, -1),\n",
       " ('Gradient Tree Boosting', 0.68292682926829273, -1),\n",
       " ('Bagging meta-estimator', 0.63414634146341464, -1),\n",
       " ('Support Vector Machine Classifier', 0.58536585365853655, -1),\n",
       " ('AdaBoost Classifier', 0.56097560975609762, -1),\n",
       " ('K Nearest Neighbors', 0.53658536585365857, 0),\n",
       " ('Quadratic Discriminant Analysis', 0.48780487804878048, -1),\n",
       " ('Multi-layer Perceptron Classifier', 0.46341463414634149, 1),\n",
       " ('Multinomial Naive Bayes', 0.41463414634146339, -1),\n",
       " ('Partial Least Squares Regressors',\n",
       "  0.39302746588003601,\n",
       "  array([-1.5799711])),\n",
       " ('Gaussian Process', 0.31707317073170732, 1),\n",
       " ('Stochastic Gradient Descent', 0.31707317073170732, -1)]"
      ]
     },
     "execution_count": 456,
     "metadata": {},
     "output_type": "execute_result"
    }
   ],
   "source": [
    "model_results"
   ]
  },
  {
   "cell_type": "code",
   "execution_count": 457,
   "metadata": {
    "collapsed": false
   },
   "outputs": [],
   "source": [
    "file = open(\"Results.csv\",\"w\")\n",
    "[file.write(names[i] + \";\" + str(scores[i]) + \";\" +\n",
    "            str(last_predictions[i]) + \"\\n\") for i in range(len(scores))]\n",
    "file.close()"
   ]
  },
  {
   "cell_type": "markdown",
   "metadata": {},
   "source": [
    "### Generalized Linear Model"
   ]
  },
  {
   "cell_type": "code",
   "execution_count": 458,
   "metadata": {
    "collapsed": false
   },
   "outputs": [
    {
     "data": {
      "text/plain": [
       "[0.7114856783355531, -0.71153750262137461]"
      ]
     },
     "execution_count": 458,
     "metadata": {},
     "output_type": "execute_result"
    }
   ],
   "source": [
    "from sklearn.linear_model import LinearRegression as LR\n",
    "RunModel(LR(),1000)"
   ]
  },
  {
   "cell_type": "markdown",
   "metadata": {},
   "source": [
    "### Linear Discriminant Analysis"
   ]
  },
  {
   "cell_type": "code",
   "execution_count": 459,
   "metadata": {
    "collapsed": false
   },
   "outputs": [
    {
     "data": {
      "text/plain": [
       "[0.75609756097560976, -1]"
      ]
     },
     "execution_count": 459,
     "metadata": {},
     "output_type": "execute_result"
    }
   ],
   "source": [
    "from sklearn.discriminant_analysis import LinearDiscriminantAnalysis as LDA\n",
    "RunModel(LDA(),1000)"
   ]
  },
  {
   "cell_type": "markdown",
   "metadata": {},
   "source": [
    "### Quadratic Discriminant Analysis"
   ]
  },
  {
   "cell_type": "code",
   "execution_count": 460,
   "metadata": {
    "collapsed": false
   },
   "outputs": [
    {
     "data": {
      "text/plain": [
       "[0.48780487804878048, -1]"
      ]
     },
     "execution_count": 460,
     "metadata": {},
     "output_type": "execute_result"
    }
   ],
   "source": [
    "from sklearn.discriminant_analysis import QuadraticDiscriminantAnalysis as QDA\n",
    "RunModel(QDA(),1000)"
   ]
  },
  {
   "cell_type": "markdown",
   "metadata": {},
   "source": [
    "### Kernel Ridge Regression"
   ]
  },
  {
   "cell_type": "code",
   "execution_count": 461,
   "metadata": {
    "collapsed": false
   },
   "outputs": [
    {
     "data": {
      "text/plain": [
       "[0.79355199650273422, -0.53169712760044874]"
      ]
     },
     "execution_count": 461,
     "metadata": {},
     "output_type": "execute_result"
    }
   ],
   "source": [
    "from sklearn.kernel_ridge import KernelRidge as KRR\n",
    "RunModel(KRR(),10000)"
   ]
  },
  {
   "cell_type": "markdown",
   "metadata": {},
   "source": [
    "### Support Vector Machine"
   ]
  },
  {
   "cell_type": "code",
   "execution_count": 462,
   "metadata": {
    "collapsed": false
   },
   "outputs": [
    {
     "data": {
      "text/plain": [
       "[0.53658536585365857, -1]"
      ]
     },
     "execution_count": 462,
     "metadata": {},
     "output_type": "execute_result"
    }
   ],
   "source": [
    "from sklearn.svm import SVC\n",
    "RunModel(SVC(),100)"
   ]
  },
  {
   "cell_type": "markdown",
   "metadata": {},
   "source": [
    "### Stochastic Gradient Descent"
   ]
  },
  {
   "cell_type": "code",
   "execution_count": 463,
   "metadata": {
    "collapsed": false
   },
   "outputs": [
    {
     "data": {
      "text/plain": [
       "[0.53658536585365857, -1]"
      ]
     },
     "execution_count": 463,
     "metadata": {},
     "output_type": "execute_result"
    }
   ],
   "source": [
    "from sklearn.linear_model import SGDClassifier as SGDC\n",
    "RunModel(SGDC(),1000)"
   ]
  },
  {
   "cell_type": "markdown",
   "metadata": {},
   "source": [
    "### Nearest Neighbors"
   ]
  },
  {
   "cell_type": "code",
   "execution_count": 464,
   "metadata": {
    "collapsed": false
   },
   "outputs": [
    {
     "data": {
      "text/plain": [
       "[0.68292682926829273, -1]"
      ]
     },
     "execution_count": 464,
     "metadata": {},
     "output_type": "execute_result"
    }
   ],
   "source": [
    "from sklearn.neighbors import KNeighborsClassifier as KNC\n",
    "RunModel(KNC(),1000)"
   ]
  },
  {
   "cell_type": "markdown",
   "metadata": {},
   "source": [
    "### Gaussian Process"
   ]
  },
  {
   "cell_type": "code",
   "execution_count": 465,
   "metadata": {
    "collapsed": false
   },
   "outputs": [
    {
     "data": {
      "text/plain": [
       "[0.31707317073170732, 1]"
      ]
     },
     "execution_count": 465,
     "metadata": {},
     "output_type": "execute_result"
    }
   ],
   "source": [
    "from sklearn.gaussian_process import GaussianProcessClassifier as GPC\n",
    "RunModel(GPC(),1000)"
   ]
  },
  {
   "cell_type": "markdown",
   "metadata": {},
   "source": [
    "### Cross Decomposition"
   ]
  },
  {
   "cell_type": "code",
   "execution_count": 466,
   "metadata": {
    "collapsed": false
   },
   "outputs": [
    {
     "data": {
      "text/plain": [
       "[0.34520448250052305, array([-1.21630758])]"
      ]
     },
     "execution_count": 466,
     "metadata": {},
     "output_type": "execute_result"
    }
   ],
   "source": [
    "from sklearn.cross_decomposition import PLSRegression as PLSR\n",
    "RunModel(PLSR(),1000)"
   ]
  },
  {
   "cell_type": "markdown",
   "metadata": {},
   "source": [
    "### Gaussian Naive Bayes"
   ]
  },
  {
   "cell_type": "code",
   "execution_count": 467,
   "metadata": {
    "collapsed": false
   },
   "outputs": [
    {
     "data": {
      "text/plain": [
       "[0.6097560975609756, -1]"
      ]
     },
     "execution_count": 467,
     "metadata": {},
     "output_type": "execute_result"
    }
   ],
   "source": [
    "from sklearn.naive_bayes import GaussianNB as GNB\n",
    "RunModel(GNB(),1000)"
   ]
  },
  {
   "cell_type": "markdown",
   "metadata": {},
   "source": [
    "### Multinomial Naive Bayes"
   ]
  },
  {
   "cell_type": "code",
   "execution_count": 468,
   "metadata": {
    "collapsed": false
   },
   "outputs": [
    {
     "data": {
      "text/plain": [
       "[0.48780487804878048, -1]"
      ]
     },
     "execution_count": 468,
     "metadata": {},
     "output_type": "execute_result"
    }
   ],
   "source": [
    "from sklearn.naive_bayes import MultinomialNB as MNB\n",
    "RunModel(MNB(),1000)"
   ]
  },
  {
   "cell_type": "markdown",
   "metadata": {},
   "source": [
    "### Bernoulli Naive Bayes"
   ]
  },
  {
   "cell_type": "code",
   "execution_count": 469,
   "metadata": {
    "collapsed": false
   },
   "outputs": [
    {
     "data": {
      "text/plain": [
       "[0.41463414634146339, -1]"
      ]
     },
     "execution_count": 469,
     "metadata": {},
     "output_type": "execute_result"
    }
   ],
   "source": [
    "from sklearn.naive_bayes import BernoulliNB as BNB\n",
    "RunModel(BNB(),1000)"
   ]
  },
  {
   "cell_type": "markdown",
   "metadata": {},
   "source": [
    "### Decision Tree Classifier"
   ]
  },
  {
   "cell_type": "code",
   "execution_count": 470,
   "metadata": {
    "collapsed": false
   },
   "outputs": [
    {
     "data": {
      "text/plain": [
       "[0.58536585365853655, -1]"
      ]
     },
     "execution_count": 470,
     "metadata": {},
     "output_type": "execute_result"
    }
   ],
   "source": [
    "from sklearn.tree import DecisionTreeClassifier as DTC\n",
    "RunModel(DTC(),1000)"
   ]
  },
  {
   "cell_type": "markdown",
   "metadata": {},
   "source": [
    "### Bagging meta-estimator"
   ]
  },
  {
   "cell_type": "code",
   "execution_count": 471,
   "metadata": {
    "collapsed": false
   },
   "outputs": [
    {
     "data": {
      "text/plain": [
       "[0.80487804878048785, -1]"
      ]
     },
     "execution_count": 471,
     "metadata": {},
     "output_type": "execute_result"
    }
   ],
   "source": [
    "from sklearn.ensemble import BaggingClassifier as BC\n",
    "RunModel(BC(),100)"
   ]
  },
  {
   "cell_type": "markdown",
   "metadata": {},
   "source": [
    "### Random Forest Classifier"
   ]
  },
  {
   "cell_type": "code",
   "execution_count": 472,
   "metadata": {
    "collapsed": false
   },
   "outputs": [
    {
     "data": {
      "text/plain": [
       "[0.78048780487804881, -1]"
      ]
     },
     "execution_count": 472,
     "metadata": {},
     "output_type": "execute_result"
    }
   ],
   "source": [
    "from sklearn.ensemble import RandomForestClassifier as RFC\n",
    "RunModel(RFC(),1000)"
   ]
  },
  {
   "cell_type": "markdown",
   "metadata": {},
   "source": [
    "### Extremely Randomized Trees"
   ]
  },
  {
   "cell_type": "code",
   "execution_count": 473,
   "metadata": {
    "collapsed": false
   },
   "outputs": [
    {
     "data": {
      "text/plain": [
       "[0.80487804878048785, -1]"
      ]
     },
     "execution_count": 473,
     "metadata": {},
     "output_type": "execute_result"
    }
   ],
   "source": [
    "from sklearn.ensemble import ExtraTreesClassifier as ETC\n",
    "RunModel(ETC(),1000)"
   ]
  },
  {
   "cell_type": "markdown",
   "metadata": {},
   "source": [
    "### AdaBoost Classifier"
   ]
  },
  {
   "cell_type": "code",
   "execution_count": 474,
   "metadata": {
    "collapsed": false
   },
   "outputs": [
    {
     "data": {
      "text/plain": [
       "[0.58536585365853655, -1]"
      ]
     },
     "execution_count": 474,
     "metadata": {},
     "output_type": "execute_result"
    }
   ],
   "source": [
    "from sklearn.ensemble import AdaBoostClassifier as ABC\n",
    "RunModel(ABC(),100)"
   ]
  },
  {
   "cell_type": "markdown",
   "metadata": {},
   "source": [
    "### Gradient Tree Boosting"
   ]
  },
  {
   "cell_type": "code",
   "execution_count": 475,
   "metadata": {
    "collapsed": false
   },
   "outputs": [
    {
     "data": {
      "text/plain": [
       "[0.6097560975609756, -1]"
      ]
     },
     "execution_count": 475,
     "metadata": {},
     "output_type": "execute_result"
    }
   ],
   "source": [
    "from sklearn.ensemble import GradientBoostingClassifier as GBC\n",
    "RunModel(GBC(),10)"
   ]
  },
  {
   "cell_type": "markdown",
   "metadata": {},
   "source": [
    "### Multi-layer Perceptron Classifier\n",
    "Neural Network with backpropagation"
   ]
  },
  {
   "cell_type": "code",
   "execution_count": 476,
   "metadata": {
    "collapsed": false
   },
   "outputs": [
    {
     "data": {
      "text/plain": [
       "[0.73170731707317072, -1]"
      ]
     },
     "execution_count": 476,
     "metadata": {},
     "output_type": "execute_result"
    }
   ],
   "source": [
    "from sklearn.neural_network import MLPClassifier as MLPC\n",
    "RunModel(MLPC(hidden_layer_sizes=(10, 2000)),100)"
   ]
  },
  {
   "cell_type": "markdown",
   "metadata": {},
   "source": [
    "### Grid Search Voting Classifier\n",
    "Utiliza múltiplos modelos e encontra os pesos para cada modelo."
   ]
  },
  {
   "cell_type": "code",
   "execution_count": 477,
   "metadata": {
    "collapsed": false
   },
   "outputs": [
    {
     "data": {
      "text/plain": [
       "[0.82926829268292679, -1]"
      ]
     },
     "execution_count": 477,
     "metadata": {},
     "output_type": "execute_result"
    }
   ],
   "source": [
    "from sklearn.ensemble import VotingClassifier\n",
    "RunModel(VC(estimators=[('LDA', LDA()), ('ETC', ETC()),\n",
    "                        ('GBC', GBC())], voting='hard'),10)"
   ]
  }
 ],
 "metadata": {
  "kernelspec": {
   "display_name": "Python 3",
   "language": "python",
   "name": "python3"
  },
  "language_info": {
   "codemirror_mode": {
    "name": "ipython",
    "version": 3
   },
   "file_extension": ".py",
   "mimetype": "text/x-python",
   "name": "python",
   "nbconvert_exporter": "python",
   "pygments_lexer": "ipython3",
   "version": "3.6.0"
  }
 },
 "nbformat": 4,
 "nbformat_minor": 2
}
