{
 "cells": [
  {
   "cell_type": "code",
   "execution_count": 1,
   "metadata": {
    "collapsed": false
   },
   "outputs": [],
   "source": [
    "import urllib.request as url\n",
    "import ssl\n",
    "from bs4 import BeautifulSoup as BS"
   ]
  },
  {
   "cell_type": "markdown",
   "metadata": {},
   "source": [
    "# Obter atas do Copom"
   ]
  },
  {
   "cell_type": "markdown",
   "metadata": {},
   "source": [
    "## Código para transformar os pdfs em texto"
   ]
  },
  {
   "cell_type": "markdown",
   "metadata": {},
   "source": [
    "Criado a partir da modificação de:\n",
    "\n",
    "http://stackoverflow.com/questions/5725278/how-do-i-use-pdfminer-as-a-library"
   ]
  },
  {
   "cell_type": "code",
   "execution_count": 2,
   "metadata": {
    "collapsed": false
   },
   "outputs": [],
   "source": [
    "from pdfminer.pdfinterp import PDFResourceManager, process_pdf\n",
    "from pdfminer.converter import TextConverter\n",
    "from pdfminer.layout import LAParams\n",
    "from io import StringIO\n",
    "\n",
    "def convert_pdf(path):\n",
    "\n",
    "    rsrcmgr = PDFResourceManager()\n",
    "    retstr = StringIO()\n",
    "    codec = 'utf-8'\n",
    "    laparams = LAParams()\n",
    "    device = TextConverter(rsrcmgr, retstr, laparams=laparams)\n",
    "\n",
    "    fp = open(path, 'rb')\n",
    "    process_pdf(rsrcmgr, device, fp)\n",
    "    fp.close()\n",
    "    device.close()\n",
    "\n",
    "    str = retstr.getvalue()\n",
    "    retstr.close()\n",
    "    return str"
   ]
  },
  {
   "cell_type": "markdown",
   "metadata": {},
   "source": [
    "## Baixar as atas do COPOM"
   ]
  },
  {
   "cell_type": "markdown",
   "metadata": {},
   "source": [
    "Para ignorar a verificação de certificados, me baseio em:\n",
    "http://stackoverflow.com/questions/36600583/python-3-urllib-ignore-ssl-certificate-verification"
   ]
  },
  {
   "cell_type": "code",
   "execution_count": 4,
   "metadata": {
    "collapsed": true
   },
   "outputs": [],
   "source": [
    "#Ignorar a verificação de certificados no \"urlopen\"\n",
    "ctx = ssl.create_default_context()\n",
    "ctx.check_hostname = False\n",
    "ctx.verify_mode = ssl.CERT_NONE"
   ]
  },
  {
   "cell_type": "markdown",
   "metadata": {},
   "source": [
    "Aqui, se a ata estiver em pdf, utilizo o programa acima para transformar em um txt. Se for um html, transformo em um txt diretamente."
   ]
  },
  {
   "cell_type": "code",
   "execution_count": 20,
   "metadata": {
    "collapsed": false
   },
   "outputs": [],
   "source": [
    "atas = range(200,201)\n",
    "path = \"D:/Users/paulotarsosantos/Documents/Documentos/TCC/\"\n",
    "\n",
    "for ata in atas:\n",
    "    ata = str(ata)\n",
    "    link = \"https://www.bcb.gov.br/?COPOM\" + ata\n",
    "\n",
    "    #Obter o arquivo\n",
    "    filename = path + \"COPOM_\" + ata\n",
    "    site = url.urlopen(link,context=ctx)\n",
    "    content_type = dict(site.getheaders())[\"Content-Type\"]\n",
    "    \n",
    "    #Checar se é um PDF ou um HTML\n",
    "    if \"pdf\" in content_type:\n",
    "\n",
    "        #Baixar o arquivo\n",
    "        with open(filename + \".pdf\",\"wb\") as file_in:\n",
    "            file_in.write(site.read())\n",
    "        file_in.close()\n",
    "        \n",
    "        full_text = convert_pdf(filename + \".pdf\")\n",
    "\n",
    "        #Escrever no arquivo txt\n",
    "        file_out = open(filename + \".txt\",\"w\")\n",
    "        file_out.write(full_text[full_text.index(\"Data:\"):])\n",
    "        file_out.close()\n",
    "        \n",
    "    else:\n",
    "        soup = BS(site.read(),\"lxml\")\n",
    "        full_text = \"\\n\".join(soup.findAll(text=True))\n",
    "        \n",
    "        #Escrever no arquivo txt\n",
    "        file_out = open(filename + \".txt\",\"w\")\n",
    "        file_out.write(full_text[full_text.index(\"Data:\"):])\n",
    "        file_out.close()"
   ]
  },
  {
   "cell_type": "code",
   "execution_count": null,
   "metadata": {
    "collapsed": true
   },
   "outputs": [],
   "source": []
  }
 ],
 "metadata": {
  "kernelspec": {
   "display_name": "Python 3",
   "language": "python",
   "name": "python3"
  },
  "language_info": {
   "codemirror_mode": {
    "name": "ipython",
    "version": 3
   },
   "file_extension": ".py",
   "mimetype": "text/x-python",
   "name": "python",
   "nbconvert_exporter": "python",
   "pygments_lexer": "ipython3",
   "version": "3.6.0"
  }
 },
 "nbformat": 4,
 "nbformat_minor": 2
}
