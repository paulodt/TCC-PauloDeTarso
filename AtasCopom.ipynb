{
 "cells": [
  {
   "cell_type": "code",
   "execution_count": 1,
   "metadata": {
    "collapsed": false
   },
   "outputs": [],
   "source": [
    "import urllib.request as url\n",
    "import ssl\n",
    "from multiprocessing import Pool\n",
    "from bs4 import BeautifulSoup as BS\n",
    "import time\n",
    "import os\n",
    "import re"
   ]
  },
  {
   "cell_type": "markdown",
   "metadata": {},
   "source": [
    "# Obter atas do Copom\n",
    "### Repositório do Github: https://github.com/paulodt/TCC-PauloDeTarso"
   ]
  },
  {
   "cell_type": "markdown",
   "metadata": {},
   "source": [
    "## Códigos auxiliares"
   ]
  },
  {
   "cell_type": "markdown",
   "metadata": {},
   "source": [
    "Código para transformar os pdfs em texto. Criado a partir da modificação de:\n",
    "\n",
    "http://stackoverflow.com/questions/5725278/how-do-i-use-pdfminer-as-a-library"
   ]
  },
  {
   "cell_type": "code",
   "execution_count": 2,
   "metadata": {
    "collapsed": false
   },
   "outputs": [],
   "source": [
    "from pdfminer.pdfinterp import PDFResourceManager, process_pdf\n",
    "from pdfminer.converter import TextConverter\n",
    "from pdfminer.layout import LAParams\n",
    "from io import StringIO\n",
    "\n",
    "def convert_pdf(path):\n",
    "\n",
    "    rsrcmgr = PDFResourceManager()\n",
    "    retstr = StringIO()\n",
    "    codec = 'utf-8'\n",
    "    laparams = LAParams()\n",
    "    device = TextConverter(rsrcmgr, retstr, laparams=laparams)\n",
    "\n",
    "    fp = open(path, 'rb')\n",
    "    process_pdf(rsrcmgr, device, fp)\n",
    "    fp.close()\n",
    "    device.close()\n",
    "\n",
    "    str = retstr.getvalue()\n",
    "    retstr.close()\n",
    "    return str"
   ]
  },
  {
   "cell_type": "markdown",
   "metadata": {},
   "source": [
    "Código para remover símbolos das strings"
   ]
  },
  {
   "cell_type": "code",
   "execution_count": 107,
   "metadata": {
    "collapsed": true
   },
   "outputs": [],
   "source": [
    "def clean_string(s):\n",
    "    #Remover símbolos\n",
    "    s = re.sub(r'[^\\w]', ' ', s)\n",
    "    #Trocar espaço múltiplo por simples\n",
    "    s = re.sub( '\\s+', ' ', s)\n",
    "    return s"
   ]
  },
  {
   "cell_type": "markdown",
   "metadata": {},
   "source": [
    "## Baixar as atas do COPOM"
   ]
  },
  {
   "cell_type": "markdown",
   "metadata": {},
   "source": [
    "Para ignorar a verificação de certificados, me baseio em:\n",
    "http://stackoverflow.com/questions/36600583/python-3-urllib-ignore-ssl-certificate-verification"
   ]
  },
  {
   "cell_type": "code",
   "execution_count": 108,
   "metadata": {
    "collapsed": true
   },
   "outputs": [],
   "source": [
    "#Ignorar a verificação de certificados no \"urlopen\"\n",
    "ctx = ssl.create_default_context()\n",
    "ctx.check_hostname = False\n",
    "ctx.verify_mode = ssl.CERT_NONE"
   ]
  },
  {
   "cell_type": "markdown",
   "metadata": {},
   "source": [
    "Se a ata estiver em pdf, utilizo o programa \"convert_pdf\" acima para transformar em um txt. Se for um html, transformo em um txt diretamente."
   ]
  },
  {
   "cell_type": "code",
   "execution_count": null,
   "metadata": {
    "collapsed": true
   },
   "outputs": [],
   "source": [
    "#Parâmetros\n",
    "inicio_atas = 21\n",
    "final_atas = 206\n",
    "total_atas = (final_atas - inicio_atas + 1) + 1\n",
    "atas = range(inicio_atas,final_atas+1)\n",
    "\n",
    "path = \"D:/Users/paulotarsosantos/Documents/Documentos/TCC/Atas/\"\n",
    "\n",
    "for n_ata in atas:\n",
    "    #Progresso\n",
    "    print(\"Progresso: \" + str(round(100*(n_ata-inicio_atas+1)/total_atas)) + \"%\",end=\"\\r\")\n",
    "\n",
    "    #Parâmetros\n",
    "    ata = str(n_ata)\n",
    "    link = \"https://www.bcb.gov.br/?COPOM\" + ata\n",
    "    filename = \"COPOM_\" + ata\n",
    "\n",
    "    #Acessar o site e obter o tipo (html ou PDF)\n",
    "    site = url.urlopen(link,context=ctx)\n",
    "    content_type = dict(site.getheaders())[\"Content-Type\"]\n",
    "    if \"pdf\" not in content_type:\n",
    "        full_text = site.read()\n",
    "        full_text = \"\\n\".join(BS(full_text,\"lxml\").findAll(text=True))\n",
    "        clean_text = full_text[full_text.index(\"Data\"):]\n",
    "\n",
    "        file_out = open(path + filename + \".txt\",\"wb\")\n",
    "        file_out.write(clean_text.encode(\"utf-8\",errors=\"replace\"))\n",
    "        file_out.close()\n",
    "        \n",
    "    else:\n",
    "        #Baixar o arquivo\n",
    "        with open(path + filename + \".pdf\",\"wb\") as file_in:\n",
    "            file_in.write(site.read())\n",
    "        file_in.close()\n",
    "\n",
    "        full_text = convert_pdf(path + filename + \".pdf\")\n",
    "        full_text = full_text[full_text.index(\"Data\"):]\n",
    "\n",
    "        #Escrever no arquivo txt\n",
    "        file_out = open(path + filename + \".txt\",\"wb\")\n",
    "        file_out.write(full_text.encode(\"utf-8\"))\n",
    "        file_out.close()\n",
    "\n",
    "        #Remover o arquivo original\n",
    "        os.remove(filename + \".pdf\")"
   ]
  },
  {
   "cell_type": "code",
   "execution_count": null,
   "metadata": {
    "collapsed": true
   },
   "outputs": [],
   "source": [
    "for file in os.listdir(path):\n",
    "    if open(path + file).readline() == \"\":\n",
    "        print(\"O arquivo \" + file + \" está vazio!\")"
   ]
  }
 ],
 "metadata": {
  "kernelspec": {
   "display_name": "Python 3",
   "language": "python",
   "name": "python3"
  },
  "language_info": {
   "codemirror_mode": {
    "name": "ipython",
    "version": 3
   },
   "file_extension": ".py",
   "mimetype": "text/x-python",
   "name": "python",
   "nbconvert_exporter": "python",
   "pygments_lexer": "ipython3",
   "version": "3.6.0"
  }
 },
 "nbformat": 4,
 "nbformat_minor": 2
}
