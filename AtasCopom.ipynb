{
 "cells": [
  {
   "cell_type": "code",
   "execution_count": 79,
   "metadata": {
    "collapsed": false
   },
   "outputs": [],
   "source": [
    "import urllib.request as url\n",
    "import ssl\n",
    "from multiprocessing import Pool\n",
    "from bs4 import BeautifulSoup as BS\n",
    "import time\n",
    "import os\n",
    "import re"
   ]
  },
  {
   "cell_type": "markdown",
   "metadata": {},
   "source": [
    "# Obter atas do Copom\n",
    "### Repositório do Github: https://github.com/paulodt/TCC-PauloDeTarso"
   ]
  },
  {
   "cell_type": "markdown",
   "metadata": {},
   "source": [
    "## Código para transformar os pdfs em texto"
   ]
  },
  {
   "cell_type": "markdown",
   "metadata": {},
   "source": [
    "Criado a partir da modificação de:\n",
    "\n",
    "http://stackoverflow.com/questions/5725278/how-do-i-use-pdfminer-as-a-library"
   ]
  },
  {
   "cell_type": "code",
   "execution_count": 84,
   "metadata": {
    "collapsed": false
   },
   "outputs": [],
   "source": [
    "from pdfminer.pdfinterp import PDFResourceManager, process_pdf\n",
    "from pdfminer.converter import TextConverter\n",
    "from pdfminer.layout import LAParams\n",
    "from io import StringIO\n",
    "\n",
    "def convert_pdf(path):\n",
    "\n",
    "    rsrcmgr = PDFResourceManager()\n",
    "    retstr = StringIO()\n",
    "    codec = 'utf-8'\n",
    "    laparams = LAParams()\n",
    "    device = TextConverter(rsrcmgr, retstr, laparams=laparams)\n",
    "\n",
    "    fp = open(path, 'rb')\n",
    "    process_pdf(rsrcmgr, device, fp)\n",
    "    fp.close()\n",
    "    device.close()\n",
    "\n",
    "    str = retstr.getvalue()\n",
    "    retstr.close()\n",
    "    return str\n",
    "\n",
    "def clean_string(s):\n",
    "    #Remover símbolos\n",
    "    s = re.sub(r'[^\\w]', ' ', s)\n",
    "    #Trocar espaço múltiplo por simples\n",
    "    s = re.sub( '\\s+', ' ', s)\n",
    "    return s"
   ]
  },
  {
   "cell_type": "markdown",
   "metadata": {},
   "source": [
    "## Baixar as atas do COPOM"
   ]
  },
  {
   "cell_type": "markdown",
   "metadata": {},
   "source": [
    "Para ignorar a verificação de certificados, me baseio em:\n",
    "http://stackoverflow.com/questions/36600583/python-3-urllib-ignore-ssl-certificate-verification"
   ]
  },
  {
   "cell_type": "code",
   "execution_count": 3,
   "metadata": {
    "collapsed": true
   },
   "outputs": [],
   "source": [
    "#Ignorar a verificação de certificados no \"urlopen\"\n",
    "ctx = ssl.create_default_context()\n",
    "ctx.check_hostname = False\n",
    "ctx.verify_mode = ssl.CERT_NONE"
   ]
  },
  {
   "cell_type": "markdown",
   "metadata": {},
   "source": [
    "Aqui, crio uma função para tratar de cada ata e poder paralelizar o processo.\n",
    "\n",
    "Se a ata estiver em pdf, utilizo o programa \"convert_pdf\" acima para transformar em um txt. Se for um html, transformo em um txt diretamente."
   ]
  },
  {
   "cell_type": "code",
   "execution_count": 28,
   "metadata": {
    "collapsed": false
   },
   "outputs": [
    {
     "name": "stdout",
     "output_type": "stream",
     "text": [
      "Progresso: 100%\r"
     ]
    }
   ],
   "source": [
    "#Parâmetros\n",
    "total_atas = 207\n",
    "atas = range(total_atas)\n",
    "path = \"D:/Users/paulotarsosantos/Documents/Documentos/TCC/Atas/\"\n",
    "\n",
    "for n_ata in atas:\n",
    "    try:\n",
    "        #Progresso\n",
    "        print(\"Progresso: \" + str(round(100*n_ata/total_atas)) + \"%\",end=\"\\r\")\n",
    "        \n",
    "        #Parâmetros\n",
    "        ata = str(n_ata)\n",
    "        link = \"https://www.bcb.gov.br/?COPOM\" + ata\n",
    "        filename = \"COPOM_\" + ata\n",
    "\n",
    "        #Acessar o site e obter o tipo (html ou PDF)\n",
    "        site = url.urlopen(link,context=ctx)\n",
    "        content_type = dict(site.getheaders())[\"Content-Type\"]\n",
    "\n",
    "        #Checar se é um PDF ou um HTML\n",
    "        if \"pdf\" in content_type:\n",
    "\n",
    "            #Baixar o arquivo\n",
    "            with open(path + filename + \".pdf\",\"wb\") as file_in:\n",
    "                file_in.write(site.read())\n",
    "            file_in.close()\n",
    "\n",
    "            full_text = convert_pdf(filename + \".pdf\")\n",
    "\n",
    "            #Escrever no arquivo txt\n",
    "            file_out = open(path + filename + \".txt\",\"w\")\n",
    "            file_out.write(full_text[full_text.index(\"Horário de início\"):])\n",
    "            file_out.close()\n",
    "\n",
    "            #Remover o arquivo original\n",
    "            os.remove(path + filename + \".pdf\")\n",
    "\n",
    "        else:\n",
    "            soup = BS(site.read(),\"lxml\")\n",
    "            full_text = \"\\n\".join(soup.findAll(text=True))\n",
    "\n",
    "            #Escrever no arquivo txt\n",
    "            file_out = open(path + filename + \".txt\",\"w\")\n",
    "            \n",
    "            try:\n",
    "                full_text = full_text[full_text.index(\"Data:\"):]\n",
    "            except:\n",
    "                full_text = full_text[full_text.index(\"Data\\n:\"):]\n",
    "                \n",
    "            file_out.write(full_text)\n",
    "            file_out.close()\n",
    "    \n",
    "    except:\n",
    "        continue"
   ]
  },
  {
   "cell_type": "code",
   "execution_count": 53,
   "metadata": {
    "collapsed": false
   },
   "outputs": [
    {
     "name": "stdout",
     "output_type": "stream",
     "text": [
      "21ogresso: 0%\n",
      "22ogresso: 1%\n",
      "23ogresso: 1%\n",
      "24ogresso: 2%\n",
      "25ogresso: 2%\n",
      "26ogresso: 3%\n",
      "27ogresso: 3%\n",
      "28ogresso: 4%\n",
      "29ogresso: 4%\n",
      "30ogresso: 5%\n",
      "31ogresso: 5%\n",
      "32ogresso: 6%\n",
      "33ogresso: 6%\n",
      "34ogresso: 7%\n",
      "35ogresso: 8%\n",
      "36ogresso: 8%\n",
      "37ogresso: 9%\n",
      "38ogresso: 9%\n",
      "39ogresso: 10%\n",
      "40ogresso: 10%\n",
      "41ogresso: 11%\n",
      "42ogresso: 11%\n",
      "43ogresso: 12%\n",
      "44ogresso: 12%\n",
      "45ogresso: 13%\n",
      "46ogresso: 13%\n",
      "47ogresso: 14%\n",
      "48ogresso: 15%\n",
      "49ogresso: 15%\n",
      "50ogresso: 16%\n",
      "51ogresso: 16%\n",
      "52ogresso: 17%\n",
      "53ogresso: 17%\n",
      "54ogresso: 18%\n",
      "55ogresso: 18%\n",
      "56ogresso: 19%\n",
      "57ogresso: 19%\n",
      "58ogresso: 20%\n",
      "59ogresso: 20%\n",
      "60ogresso: 21%\n",
      "61ogresso: 22%\n",
      "62ogresso: 22%\n",
      "63ogresso: 23%\n",
      "64ogresso: 23%\n",
      "65ogresso: 24%\n",
      "66ogresso: 24%\n",
      "67ogresso: 25%\n",
      "68ogresso: 25%\n",
      "69ogresso: 26%\n",
      "70ogresso: 26%\n",
      "71ogresso: 27%\n",
      "72ogresso: 27%\n",
      "73ogresso: 28%\n",
      "74ogresso: 28%\n",
      "75ogresso: 29%\n",
      "76ogresso: 30%\n",
      "77ogresso: 30%\n",
      "78ogresso: 31%\n",
      "79ogresso: 31%\n",
      "80ogresso: 32%\n",
      "81ogresso: 32%\n",
      "82ogresso: 33%\n",
      "83ogresso: 33%\n",
      "84ogresso: 34%\n",
      "85ogresso: 34%\n",
      "86ogresso: 35%\n",
      "87ogresso: 35%\n",
      "88ogresso: 36%\n",
      "89ogresso: 37%\n",
      "90ogresso: 37%\n",
      "91ogresso: 38%\n",
      "92ogresso: 38%\n",
      "93ogresso: 39%\n",
      "94ogresso: 39%\n",
      "95ogresso: 40%\n",
      "96ogresso: 40%\n",
      "97ogresso: 41%\n",
      "98ogresso: 41%\n",
      "99ogresso: 42%\n",
      "100gresso: 42%\n",
      "101gresso: 43%\n",
      "102gresso: 44%\n",
      "103gresso: 44%\n",
      "104gresso: 45%\n",
      "105gresso: 45%\n",
      "106gresso: 46%\n",
      "107gresso: 46%\n",
      "108gresso: 47%\n",
      "109gresso: 47%\n",
      "110gresso: 48%\n",
      "111gresso: 48%\n",
      "112gresso: 49%\n",
      "113gresso: 49%\n",
      "114gresso: 50%\n",
      "115gresso: 51%\n",
      "116gresso: 51%\n",
      "117gresso: 52%\n",
      "118gresso: 52%\n",
      "119gresso: 53%\n",
      "120gresso: 53%\n",
      "121gresso: 54%\n",
      "122gresso: 54%\n",
      "123gresso: 55%\n",
      "124gresso: 55%\n",
      "125gresso: 56%\n",
      "126gresso: 56%\n",
      "127gresso: 57%\n",
      "128gresso: 58%\n",
      "129gresso: 58%\n",
      "130gresso: 59%\n",
      "131gresso: 59%\n",
      "132gresso: 60%\n",
      "133gresso: 60%\n",
      "134gresso: 61%\n",
      "135gresso: 61%\n",
      "136gresso: 62%\n",
      "137gresso: 62%\n",
      "138gresso: 63%\n",
      "139gresso: 63%\n",
      "140gresso: 64%\n",
      "141gresso: 65%\n",
      "142gresso: 65%\n",
      "143gresso: 66%\n",
      "144gresso: 66%\n",
      "145gresso: 67%\n",
      "146gresso: 67%\n",
      "147gresso: 68%\n",
      "148gresso: 68%\n",
      "149gresso: 69%\n",
      "150gresso: 69%\n",
      "151gresso: 70%\n",
      "152gresso: 70%\n",
      "153gresso: 71%\n",
      "154gresso: 72%\n",
      "155gresso: 72%\n",
      "156gresso: 73%\n",
      "157gresso: 73%\n",
      "158gresso: 74%\n",
      "159gresso: 74%\n",
      "160gresso: 75%\n",
      "161gresso: 75%\n",
      "162gresso: 76%\n",
      "163gresso: 76%\n",
      "164gresso: 77%\n",
      "165gresso: 77%\n",
      "166gresso: 78%\n",
      "167gresso: 78%\n",
      "168gresso: 79%\n",
      "169gresso: 80%\n",
      "170gresso: 80%\n",
      "171gresso: 81%\n",
      "172gresso: 81%\n",
      "173gresso: 82%\n",
      "174gresso: 82%\n",
      "175gresso: 83%\n",
      "176gresso: 83%\n",
      "177gresso: 84%\n",
      "178gresso: 84%\n",
      "179gresso: 85%\n",
      "180gresso: 85%\n",
      "181gresso: 86%\n",
      "182gresso: 87%\n",
      "183gresso: 87%\n",
      "184gresso: 88%\n",
      "185gresso: 88%\n"
     ]
    }
   ],
   "source": [
    "#Parâmetros\n",
    "inicio_atas = 21\n",
    "final_atas = 206\n",
    "total_atas = final_atas - inicio_atas + 1\n",
    "atas = range(inicio_atas,total_atas)\n",
    "\n",
    "path = \"D:/Users/paulotarsosantos/Documents/Documentos/TCC/Atas/\"\n",
    "\n",
    "for n_ata in atas:\n",
    "    #Progresso\n",
    "    print(\"Progresso: \" + str(round(100*(n_ata-inicio_atas)/total_atas)) + \"%\",end=\"\\r\")\n",
    "\n",
    "    #Parâmetros\n",
    "    ata = str(n_ata)\n",
    "    link = \"https://www.bcb.gov.br/?COPOM\" + ata\n",
    "    filename = \"COPOM_\" + ata\n",
    "\n",
    "    #Acessar o site e obter o tipo (html ou PDF)\n",
    "    site = url.urlopen(link,context=ctx)\n",
    "    full_text = site.read()\n",
    "\n",
    "    file_out = open(path + filename + \".txt\",\"wb\")\n",
    "    try:\n",
    "        print(ata)\n",
    "        file_out.write(full_text[full_text.find(bytes(\"Data:\",'utf-8')):])\n",
    "    except:\n",
    "        print(ata)\n",
    "        file_out.write(full_text[full_text.find(bytes(\"Data\\n:\",'utf-8')):])\n",
    "    file_out.close()"
   ]
  },
  {
   "cell_type": "code",
   "execution_count": 55,
   "metadata": {
    "collapsed": false,
    "scrolled": true
   },
   "outputs": [
    {
     "name": "stdout",
     "output_type": "stream",
     "text": [
      "Arquivo da reunião de número 186 está vazio!\n",
      "Arquivo da reunião de número 187 está vazio!\n",
      "Arquivo da reunião de número 188 está vazio!\n",
      "Arquivo da reunião de número 189 está vazio!\n",
      "Arquivo da reunião de número 190 está vazio!\n",
      "Arquivo da reunião de número 191 está vazio!\n",
      "Arquivo da reunião de número 192 está vazio!\n",
      "Arquivo da reunião de número 193 está vazio!\n",
      "Arquivo da reunião de número 194 está vazio!\n",
      "Arquivo da reunião de número 195 está vazio!\n",
      "Arquivo da reunião de número 196 está vazio!\n",
      "Arquivo da reunião de número 197 está vazio!\n",
      "Arquivo da reunião de número 198 está vazio!\n",
      "Arquivo da reunião de número 199 está vazio!\n",
      "Arquivo da reunião de número 200 está vazio!\n",
      "Arquivo da reunião de número 201 está vazio!\n",
      "Arquivo da reunião de número 202 está vazio!\n",
      "Arquivo da reunião de número 203 está vazio!\n",
      "Arquivo da reunião de número 204 está vazio!\n",
      "Arquivo da reunião de número 205 está vazio!\n",
      "Arquivo da reunião de número 206 está vazio!\n"
     ]
    }
   ],
   "source": [
    "for ata in range(21,207):\n",
    "    file = open(\"Atas/COPOM_\" + str(ata) + \".txt\")\n",
    "    if file.read() == \"\":\n",
    "        print(\"Arquivo da reunião de número \" + str(ata) + \" está vazio!\")"
   ]
  },
  {
   "cell_type": "code",
   "execution_count": 77,
   "metadata": {
    "collapsed": false
   },
   "outputs": [
    {
     "ename": "TypeError",
     "evalue": "must be str, not bytes",
     "output_type": "error",
     "traceback": [
      "\u001b[0;31m---------------------------------------------------------------------------\u001b[0m",
      "\u001b[0;31mTypeError\u001b[0m                                 Traceback (most recent call last)",
      "\u001b[0;32m<ipython-input-77-9a7dcdcf5d7f>\u001b[0m in \u001b[0;36m<module>\u001b[0;34m()\u001b[0m\n\u001b[1;32m      6\u001b[0m \u001b[0mfull_text\u001b[0m \u001b[1;33m=\u001b[0m \u001b[1;34m\"\\n\"\u001b[0m\u001b[1;33m.\u001b[0m\u001b[0mjoin\u001b[0m\u001b[1;33m(\u001b[0m\u001b[0msoup\u001b[0m\u001b[1;33m.\u001b[0m\u001b[0mfindAll\u001b[0m\u001b[1;33m(\u001b[0m\u001b[0mtext\u001b[0m\u001b[1;33m=\u001b[0m\u001b[1;32mTrue\u001b[0m\u001b[1;33m)\u001b[0m\u001b[1;33m)\u001b[0m\u001b[1;33m\u001b[0m\u001b[0m\n\u001b[1;32m      7\u001b[0m \u001b[1;33m\u001b[0m\u001b[0m\n\u001b[0;32m----> 8\u001b[0;31m \u001b[0mfull_text\u001b[0m \u001b[1;33m=\u001b[0m \u001b[0mfull_text\u001b[0m\u001b[1;33m[\u001b[0m\u001b[0mfull_text\u001b[0m\u001b[1;33m.\u001b[0m\u001b[0mfind\u001b[0m\u001b[1;33m(\u001b[0m\u001b[0mbytes\u001b[0m\u001b[1;33m(\u001b[0m\u001b[1;34m\"Data\"\u001b[0m\u001b[1;33m,\u001b[0m\u001b[1;34m\"ascii\"\u001b[0m\u001b[1;33m)\u001b[0m\u001b[1;33m)\u001b[0m\u001b[1;33m:\u001b[0m\u001b[1;33m]\u001b[0m\u001b[1;33m\u001b[0m\u001b[0m\n\u001b[0m\u001b[1;32m      9\u001b[0m \u001b[0mfull_text\u001b[0m\u001b[1;33m\u001b[0m\u001b[0m\n",
      "\u001b[0;31mTypeError\u001b[0m: must be str, not bytes"
     ]
    }
   ],
   "source": [
    "ata = str(112)\n",
    "link = \"https://www.bcb.gov.br/?COPOM\" + ata\n",
    "filename = \"COPOM_\" + ata\n",
    "site = url.urlopen(link,context=ctx)\n",
    "soup = BS(site,\"lxml\",from_encoding='utf-8')\n",
    "full_text = \"\\n\".join(soup.findAll(text=True))\n",
    "\n",
    "full_text = full_text[full_text.find(bytes(\"Data\",\"ascii\")):]\n",
    "full_text"
   ]
  },
  {
   "cell_type": "code",
   "execution_count": 85,
   "metadata": {
    "collapsed": false
   },
   "outputs": [
    {
     "data": {
      "text/plain": [
       "' Antes da Trilha 19 32 37 Depois da Trilha 19 32 37 HTML PUBLIC W3C DTD HTML 4 01 Transitional EN http www w3 org TR html4 loose dtd document ready function finiciar trackGA document title 112ª Reunião var t_idioma P Zona se Salto DosVOX Página principal do site Notícias Mapa do site Perguntas Frequentes Ajuda Ouvidoria Política de privacidade Fale conosco Detalhes das teclas de atalho Saltar para o início da página corrente Saltar para o menu principal Saltar para o novo conteúdo Portal do Governo Brasileiro Atualize sua Barra de Governo Sobre a Instituição Perguntas frequentes Glossário Mapa do site Sisbacen Fale conosco Links English function utf8_encode argString http kevin vanzonneveld net original by Webtoolkit info http www webtoolkit info improved by Kevin van Zonneveld http kevin vanzonneveld net improved by sowberry tweaked by Jack bugfixed by Onno Marsman improved by Yves Sucaet bugfixed by Onno Marsman bugfixed by Ulrich bugfixed by Rafal Kukawski improved by kirilloid example 1 utf8_encode Kevin van Zonneveld returns 1 Kevin van Zonneveld if argString null typeof argString undefined return var string argString replace r n g n replace r g n var utftext start end stringl 0 start end 0 stringl string length for var n 0 n stringl n var c1 string charCodeAt n var enc null if c1 128 end else if c1 127 c1 2048 enc String fromCharCode c1 6 192 c1 63 128 else enc String fromCharCode c1 12 224 c1 6 63 128 c1 63 128 if enc null if end start utftext string slice start end utftext enc start end n 1 if end start utftext string slice start stringl return utftext function submeterBusca consulta if consulta consulta window location pt br busca encodeURIComponent consulta trim Início Busca Busca avançada html item Titulo subitem Titulo var appMenuSP function appMenuSP angular module appMenuSP appMenuSP directive onLastRepeat function return function scope element attrs if scope last setTimeout function scope emit onRepeatLast element attrs 1 appMenuSP controller MainCtrl scope http function scope http scope on onRepeatLast function scope element attrs menu if typeof t_PaginaPrincipal undefined t_PaginaPrincipal criar_menu_rodape var nomeArquivoJSONMenu api navegacao pt br menu niveis 2 server asp if typeof t_idioma undefined t_idioma I nomeArquivoJSONMenu api navegacao pt br menu_en niveis 2 server asp http get nomeArquivoJSONMenu success function response scope menu response item agruparFilhos scope menu 5 function agruparFilhos item qtdeNoGrupo item gruposFilhos var indiceDoGrupo 0 if typeof t_idioma undefined t_idioma I if item Link indexOf http 1 item Link en item Link item Link item ID if item Descendentes null for var i 0 i item Descendentes length i var indiceNoGrupo i qtdeNoGrupo if indiceNoGrupo 0 item gruposFilhos indiceDoGrupo item gruposFilhos indiceDoGrupo indiceNoGrupo item Descendentes i agruparFilhos item Descendentes i qtdeNoGrupo if indiceNoGrupo qtdeNoGrupo 1 indiceDoGrupo fim do header fim do noindex estrutura da trilha Início Sistema de Metas para a Inflação Copom Notas do Copom 112ª Reunião estrutura da trilha FIM 112ª Reunião TAG_ID COPOM112 TAG_DATA_PUBLICACAO 2005 09 22 TAG_CONTEUDO_INICIO conteudo Sumário Evolução recente da economia Avaliação prospectiva das tendências da inflação Implementação da política monetária Inflação Atividade econômica Mercado de trabalho Crédito e inadimplência Ambiente externo Comércio exterior e reservas internacionais Mercado monetário e operações de mercado aberto Data 13 e 14 9 2005 Local Sala de reuniões do 8º andar 13 9 e do 20º andar 14 9 do Edifício Sede do Banco Central Brasília DF Horário de início 16h55 13 9 e 16h30 14 9 Horário de término 19h15 13 9 e 19h30 14 9 Presentes Membros do Copom Henrique de Campos Meirelles Presidente Afonso Sant Anna Bevilaqua Alexandre Antonio Tombini Alexandre Schwartsman Antonio Gustavo Matos do Vale João Antônio Fleury Teixeira Rodrigo Telles da Rocha Azevedo Paulo Sérgio Cavalheiro Sérgio Darcy da Silva Alves Chefes de Departamento todos presentes no dia 13 Altamir Lopes Departamento Econômico Ivan Luís Gonçalves de Oliveira Lima Departamento de Operações do Mercado Aberto Jose Antônio Marciano Departamento de Operações Bancárias e de Sistema de Pagamentos José Pedro Ramos Fachada Gerência Executiva de Relacionamento com Investidores Marcelo Kfoury Muinhos Departamento de Estudos e Pesquisas também presente no dia 14 Daso Maranhão Coimbra Departamento de Operações das Reservas Internacionais Demais participantes presentes no dia 13 Alexandre Pundek Rocha Consultor da Diretoria Carlos Hamilton Vasconcelos Araújo Chefe Adjunto do Departamento de Estudos e Pesquisas Katherine Hennings Consultora da Diretoria Flávio Pinheiro de Melo Consultor da Diretoria Jocimar Nastari Assessor de Imprensa Os membros do Copom analisaram a evolução recente e as perspectivas para a economia brasileira e para a economia internacional no contexto do regime de política monetária cujo objetivo é atingir as metas fixadas pelo governo para a inflação Evolução recente da economia 1 A variação do Índice Nacional de Preços ao Consumidor Amplo IPCA em agosto confirmou as expectativas de continuidade do processo de acomodação da inflação em níveis inferiores aos verificados nos meses iniciais de 2005 Com a taxa de 0 17 observada nesse mês o trimestre junho agosto registrou inflação média mensal de 0 13 e acumulada de 0 40 contra valores de 0 66 e de 1 98 respectivamente no período março maio A mudança de patamar sugerida pelos dados foi potencializada pela redução dos preços dos alimentos em intensidade superior à usual Sem deixar de reconhecer o papel da queda dos preços dos alimentos sobre o índice de inflação cabe notar que a variação média de todos os nove grupos do IPCA no período junho agosto esteve abaixo da observada em março maio exceção feita a despesas pessoais e comunicações Os preços dos bens comercializáveis recuaram no período junho agosto favorecidos pelo comportamento da taxa de câmbio Também a inflação dos bens não comercializáveis apresentou redução de patamar nos últimos meses caindo do valor médio de 0 5 no trimestre março maio para 0 2 no período junho agosto Destaque se ainda que o índice de difusão em agosto alcançou 48 4 o menor nível desde agosto de 1998 sinalizando que a redução das taxas de inflação não se deve ao efeito de poucos produtos mas a um comportamento disseminado dos preços 2 O recuo dos indicadores inflacionários foi visível não apenas na variação dos índices de preços plenos mas também nas respectivas medidas de inflação subjacente O núcleo por exclusão o núcleo com suavização de itens preestabelecidos e o núcleo sem suavização que tiveram variação média de 0 56 0 66 e 0 55 respectivamente no trimestre terminado em maio registraram valores médios de 0 33 0 43 e 0 28 no trimestre findo em agosto Assim como no caso da inflação plena os dados sugerem mudança de patamar embora em magnitude mais modesta Essa conjectura é avalizada pela análise das médias móveis trimestrais dos núcleos que têm nos valores registrados em agosto os mínimos históricos desde o início de 2001 Cabe ressaltar ainda que após oscilarem em torno de valores relativamente elevados nos cinco primeiros meses do ano as três séries de médias móveis vêm consistentemente se deslocando para baixo 3 Em agosto o Índice Geral de Preços Disponibilidade Interna IGP DI apresentou redução de 0 79 a maior de quatro observadas consecutivamente Uma vez mais esse comportamento foi bastante afetado pelo expressivo declínio do Índice de Preços por Atacado Disponibilidade Interna IPA DI que no mês registrou deflação de 1 04 acompanhado de queda de 0 44 no Índice de Preços ao Consumidor Disponibilidade Interna IPC DI e virtual estabilidade do Índice Nacional do Custo da Construção INCC a 0 02 Atualmente o IGP DI está posicionado em patamar inferior ao de janeiro de 2005 acumulando uma variação de apenas 0 32 ao longo do ano Por sua vez o IPA DI também registrou quatro recuos no intervalo maio agosto acumulando variação de 1 57 em 2005 Esse movimento pouco usual do IPA DI reflete a redução tanto nos preços dos bens de consumo a despeito do aumento nos preços dos bens de consumo duráveis quanto nos preços dos bens de produção Em outra perspectiva a queda deve ser atribuída à igualmente rara confluência de uma forte redução do IPA agrícola de 5 19 no ano com a ligeira redução do IPA industrial de 0 33 As estimativas disponíveis para setembro apontam continuidade dos movimentos de retração tanto do IGP DI quanto do IPA DI dados do Índice Geral de Preços Mercado IGP M para o primeiro decêndio de setembro assinalam o quinto recuo em cinco meses 0 56 o maior da série histórica Tanto em 2005 como nos últimos doze meses os índices gerais de preços registram variações inferiores à do IPCA Dessa forma acumulam se evidências de acomodação consistente dos preços no atacado com efeitos favoráveis sobre a variação dos preços ao consumidor incluindo os preços administrados do próximo ano Conforme destacado nas Notas de reuniões recentes do Copom a intensidade de tais efeitos nos próximos meses bem como sua própria continuidade dependerá das condições prospectivas da demanda e das expectativas dos formadores de preços em relação à trajetória futura da inflação 4 No segundo trimestre de 2005 o crescimento da economia voltou a se acelerar confirmando o diagnóstico expresso no Relatório de Inflação de junho A taxa dessazonalizada de 1 4 em relação ao período imediatamente anterior a oitava taxa positiva consecutiva elevou o resultado do semestre para 3 4 em relação ao mesmo período de 2004 Os três setores foram positivamente afetados em especial a indústria que cresceu 3 0 na comparação com o primeiro trimestre com serviços e agropecuária sendo contemplados respectivamente com taxas de 1 2 e 1 1 A intensificação da atividade foi mais visível nos componentes da demanda doméstica Houve expansão de 4 5 na formação bruta de capital fixo após dois trimestres de redução e de 0 9 no consumo das famílias após um trimestre de contração As exportações de bens e serviços cresceram 2 6 nono resultado positivo em série e as importações 2 4 A retomada do crescimento do consumo e do investimento privado fortalece a perspectiva de que no médio e longo prazos esses componentes da demanda agregada continuem como principais fatores de sustentação do crescimento da economia Os dados do primeiro trimestre de 2005 foram revisados pelo Instituto Brasileiro de Geografia e Estatística IBGE e indicam agora crescimento dessazonalizado de 0 4 em relação ao último trimestre de 2004 em vez de 0 3 como inicialmente estimado Tendo em vista o comportamento dos indicadores antecedentes da atividade econômica a continuidade do processo de crescimento da economia deverá se confirmar ao longo dos próximos trimestres 5 A produção industrial diminuiu 2 5 em julho em termos dessazonalizados na comparação com junho ratificando tendência sugerida pelos indicadores antecedentes e coincidentes da série A magnitude do movimento porém reflete provavelmente a ocorrência muito rara de um número menor de dias úteis em julho 21 do que em junho 22 decorrente de feriados móveis não considerados pela metodologia de ajuste sazonal feriado de Corpus Christi em maio em vez de junho e da incidência de cinco finais de semana em julho Note se ademais que essa queda ocorreu após quatro aumentos consecutivos sendo que desde o final de 2004 os valores mensais da série dessazonalizada intercalam momentos de crescimento estabilidade e redução embora a tendência aponte para crescimento De fato tal oscilação ocorre em momento no qual a produção industrial de modo geral registra valores historicamente elevados Essa avaliação é corroborada pela análise de uma série mais estável de médias móveis trimestrais que em julho registra o terceiro mês consecutivo com crescimento e novo máximo histórico 4 1 superior ao valor de julho de 2004 Os indicadores antecedentes e coincidentes da série apontam para a retomada dos aumentos da produção industrial em agosto e continuidade do crescimento na série de médias móveis trimestrais 6 Considerando se a composição da produção industrial todas as categorias de uso registraram queda na série dessazonalizada A produção de bens de capital com redução de 7 6 foi a que mais caiu seguida pela redução de bens intermediários e de bens de consumo com retração de 1 9 e 1 7 respectivamente Assim como no comportamento agregado da indústria esses números estão contaminados pelas alterações do calendário mencionadas no parágrafo anterior No acumulado do ano o saldo é positivo com a produção de bens de capital de bens intermediários e de bens de consumo crescendo respectivamente 2 6 1 8 e 8 2 Além disso com o desempenho de julho as séries de médias móveis trimestrais mostraram elevação de 0 4 para a produção de bens de capital de 0 1 para a de bens intermediários e de 2 1 para a produção de bens de consumo duráveis atingindo nos três casos novos máximos históricos No caso do último grupo o mais dinâmico no período recente houve crescimento pelo sexto mês consecutivo acumulando expansão de 19 2 em relação a julho de 2004 Da mesma forma pelo critério das médias móveis trimestrais para os bens semi e não duráveis houve crescimento de 0 1 a terceira taxa positiva em série o mesmo ocorrendo para a indústria em geral 7 O mercado de trabalho tem evoluído em compasso com os níveis historicamente elevados de atividade com os números relativos a julho confirmando o bom desempenho que vem se verificando ao longo do corrente ano Segundo pesquisa do IBGE a taxa de desocupação para julho foi estimada em 9 4 mesmo valor de junho e o menor nível da série iniciada em outubro de 2001 A população ocupada aumentou 3 4 no acumulado do ano em comparação ao mesmo período de 2004 Em julho o rendimento médio real habitual das pessoas ocupadas cresceu 2 3 no confronto com o mês anterior em parte reflexo da retração na variação nos índices de preços ao consumidor e dos ganhos obtidos pelos trabalhadores em negociações salariais O emprego na indústria de transformação decresceu 0 2 em julho segundo dados da Confederação Nacional da Indústria CNI dessazonalizados pelo Banco Central interrompendo a série de taxas positivas iniciada em janeiro de 2004 Entretanto ainda acumula crescimento de 6 0 e de 6 1 respectivamente em 2005 e em doze meses A massa salarial real na indústria de transformação subiu 0 8 em julho acumulando crescimento de 9 0 no ano e de 9 7 em doze meses superando o crescimento do emprego e sinalizando aumento do salário médio Nota se portanto a ocorrência de um processo que alia aumento da quantidade de vagas à melhoria na qualidade do emprego industrial O emprego formal computado pelo Ministério do Trabalho e Emprego MTE também continua em trajetória de expansão Com a criação de 117 473 postos de trabalho em julho a geração de emprego formal supera um milhão de novas vagas em 2005 e 1 3 milhão em doze meses 8 Conforme assinalam as Notas da última reunião do Copom as vendas no comércio varejista aumentaram 1 2 em junho segundo dados dessazonalizados do IBGE perfazendo uma expansão acumulada de 4 6 em 2005 refletindo desenvolvimentos favoráveis no mercado de trabalho e no mercado de crédito Como em meses anteriores e em linha com o comportamento da produção industrial em meses recentes o crescimento foi liderado pelas vendas de móveis e eletrodomésticos que aumentaram 4 3 em junho O comportamento favorável das vendas foi atestado também pela revisão divulgada pelo IBGE dos dados referentes a maio que passaram a mostrar um crescimento dessazonalizado de 1 2 ante os 0 4 originalmente anunciados Considerando o valor revisado a média móvel trimestral da série mostra crescimento de 0 9 em junho em relação a maio A revisão dos dados de maio fez com que todas as atividades com exceção de tecidos vestuário e calçados passassem a registrar crescimento nos últimos dois meses No caso dos hiper e supermercados a revisão dos dados de maio transformou uma queda de 0 4 em elevação de 0 7 A despeito da ausência de dados mais atualizados sobre vendas os indicadores disponíveis não antecipam movimentos significativos em julho em comparação a junho Além disso para os meses seguintes as perspectivas são de fortalecimento do comércio varejista apesar de em setembro o índice de confiança do consumidor medido pela Federação do Comércio do Estado de São Paulo Fecomercio SP ter apresentado a segunda redução consecutiva e o menor nível desde abril de 2004 9 De acordo com dados da CNI dessazonalizados pelo Banco Central a utilização da capacidade instalada na indústria de transformação voltou a cair em julho atingindo 81 8 ante 82 7 em junho Por sua vez dados da FGV dessazonalizados pelo Banco Central assinalam que o nível de utilização atingiu 84 7 em julho representando acréscimo marginal em relação à taxa de 84 2 observada em abril passado A despeito das pequenas variações em relação aos níveis imediatamente anteriores as duas séries mostram que a utilização da capacidade continua em patamar historicamente elevado A relativa estabilidade da UCI parece estar associada à maturação de investimentos dado que a produção industrial aumentou no período Como ressaltado em Notas das reuniões do Copom a persistência de elevada utilização da capacidade instalada acentua a dependência da trajetória da inflação com relação a desenvolvimentos correntes e prospectivos no tocante à ampliação da oferta de bens e serviços para o adequado atendimento da demanda O indicador de investimento representado pela absorção de bens de capital anota retração de 5 5 em julho também afetado pelo problema de dias úteis mas com expansão de 3 8 no acumulado em 2005 Além disso deve se considerar que os dados mensais de investimento tendem a apresentar certa volatilidade sendo mais apropriado o foco em medidas que capturem a sua tendência Evidências positivas nesse sentido são o crescimento da Formação Bruta de Capital Fixo FBCF de 4 5 no segundo trimestre de 2005 em relação ao primeiro acumulando 8 6 nos últimos quatro trimestres contra 4 3 para o PIB no mesmo período e o aumento já salientado nas Notas de agosto de 28 3 no volume das importações de bens de capital no acumulado até julho quando comparado ao mesmo período de 2004 10 No tocante ao comércio exterior os dados mais recentes confirmam que em 2005 o comércio com o resto do mundo terá desempenho superior ao do ano passado O saldo acumulado em doze meses até agosto pela primeira vez ultrapassou a marca dos US 40 bilhões com exportações atingindo US 111 bilhões e importações US 71 bilhões ou seja um volume de comércio de US 182 bilhões Nos doze meses encerrados em agosto as exportações cresceram 25 em valor em relação aos doze meses anteriores apresentando desaceleração no crescimento em termos marginais enquanto as importações aumentaram 23 9 Na margem a expansão das importações também vem se desacelerando a despeito da elevação significativa dos preços do petróleo Em contraponto as importações de bens de capital cresceram 41 3 em agosto na comparação com o mesmo mês de 2004 e 24 nos últimos doze meses a maior taxa desde março de 1998 O bom desempenho dos saldos comerciais no período de doze meses encerrado em agosto proporcionou superávit em transações correntes de US 12 5 bilhões equivalente a 1 8 do PIB Embora a contribuição da demanda externa para a expansão da economia se mostre menor do que no passado recente esta permanece positiva e superior ao que se esperava no início deste ano 11 No âmbito dos mercados financeiros internacionais a volatilidade permaneceu relativamente elevada e não houve alteração significativa em relação ao cenário considerado por ocasião da reunião de agosto do Copom Parece prematura qualquer avaliação a respeito dos efeitos do furacão Katrina sobre a economia mundial apesar da convergência das expectativas no sentido de que o crescimento da economia norte americana deverá ser temporariamente afetado O prêmio de risco Brasil no início de agosto voltou a recuar e se aproxima dos níveis mínimos históricos observados em outubro de 1997 Como seria natural esperar no caso de uma grande economia emergente que adota o regime de câmbio flutuante a redução do prêmio de risco Brasil tem sido acompanhada por movimentos similares da taxa de câmbio As condições de liquidez e a estabilidade dos mercados continuam sujeitas ao quadro macroeconômico nos países industrializados especialmente nos Estados Unidos e à possível resposta da política monetária do Federal Reserve Fed à sua evolução De maneira geral os indicadores recentes sugerem perspectivas favoráveis no sentido de que o Fed prossiga em sua política de aumento moderado nas taxas de juros Um fator de preocupação adicional está associado aos desequilíbrios nas contas externas de algumas das principais economias mundiais e à possibilidade de que eventuais ajustes em suas trajetórias determinem grandes flutuações cambiais Apesar desse quadro no qual há incertezas relevantes o Copom continua atribuindo baixa probabilidade a um cenário de deterioração significativa nos mercados financeiros internacionais 12 Os preços do petróleo no mercado internacional após terem registrado recordes históricos em agosto apresentaram alguns sinais de arrefecimento Embora tenha havido recuo considerável em relação aos valores máximos os preços ainda continuam em níveis elevados e conforme destacado nas Notas da reunião do Copom de agosto um dos temores é de que se sustentem por mais tempo em um nível acima do que vinha sendo prognosticado Diante das incertezas que ainda cercavam a trajetória dos preços do petróleo aquele documento reconhecia que o cenário central de trabalho para a evolução dos preços do petróleo vinha se tornando progressivamente menos plausível e que portanto haviam aumentado significativamente os riscos à sua concretização riscos que poderiam se materializar em uma elevação nos preços domésticos da gasolina em 2005 Essa conjectura foi confirmada pelos aumentos recentes nos preços dos combustíveis Embora a elevação dos preços internacionais do petróleo continue a representar fator de risco para a trajetória futura da inflação dado que se transmite à economia doméstica por intermédio dos seus efeitos sobre os preços de insumos derivados do petróleo bem como sobre as expectativas dos agentes econômicos o aumento recente nos preços dos combustíveis proporcionou maior segurança sobre os desdobramentos internos futuros da dinâmica recente dos preços internacionais do petróleo Em particular no cenário de referência com que trabalha o Copom não se considera outro aumento nos preços domésticos da gasolina em 2005 Avaliação prospectiva das tendências da inflação 13 Os choques identificados e seus impactos foram reavaliados de acordo com as novas informações disponíveis O cenário considerado nas simulações contempla as seguintes hipóteses a as projeções para os reajustes totais nos preços da gasolina aumentaram em relação à reunião anterior passando de 0 para 7 5 para o acumulado de 2005 Por outro lado as projeções para o gás de botijão nesse período foram reduzidas de 0 para 1 7 b os reajustes projetados para as tarifas de telefonia fixa sofreram aumento de 0 6 p p para o acumulado em 2005 passando de 6 1 na reunião de agosto para 6 7 na de setembro As projeções para as tarifas de energia elétrica residencial para 2005 foram reduzidas para 7 6 em comparação com 8 2 projetado na reunião de agosto c considerando todo o conjunto de itens administrados por contrato e monitorados com peso de 29 8 no IPCA de agosto o Copom aumentou a projeção para o acumulado de 2005 em 0 8 p p passando de 7 0 na reunião de agosto para 7 8 na reunião de setembro d a projeção de reajustes dos itens administrados por contrato e monitorados para 2006 foi reduzida para 5 3 em comparação com 5 7 da reunião do Copom passada A redução na projeção teve como base a queda acentuada dos IGPs e de suas projeções doze meses à frente Houve um acréscimo significativo nas informações disponíveis em relação à reunião passada possibilitando a projeção individual de um maior número de itens desses preços para 2006 Para os demais itens as projeções permaneceram sendo estimadas pelo modelo de determinação endógena de preços administrados que considera componentes sazonais variações cambiais inflação de preços livres e inflação medida pelo Índice Geral de Preços IGP e a projeção para o spread de seis meses sobre a taxa Selic seguindo especificação de um modelo VAR que utiliza Selic e swap em níveis a partir dos valores vigentes nos dias que antecederam a reunião do Copom parte de uma média de 90 p b no terceiro trimestre de 2005 e alcança 34 p b no último trimestre de 2006 14 Em relação à política fiscal supõe se o cumprimento da meta de superávit primário de 4 25 do Produto Interno Bruto PIB em 2005 e 2006 São mantidas as demais hipóteses consideradas na reunião anterior 15 Desde a reunião de agosto do Copom houve nova redução na mediana das expectativas coletadas pela Gerência Executiva de Relacionamento com Investidores do Banco Central do Brasil Gerin para a variação do IPCA em 2005 que passou de 5 40 para 5 19 Embora esse valor seja passível de revisão em virtude de haver captado apenas parcialmente os efeitos dos recentes reajustes nos preços dos combustíveis destaca se que essa redução ocorreu pelo quarto mês consecutivo em parte devido à desaceleração não antecipada da inflação captada no IPCA de agosto Com isso as expectativas se aproximaram ainda mais do objetivo de 5 1 perseguido pela política monetária para o ano Para 2006 as expectativas diminuíram de 4 98 para 4 80 Além disso a distribuição de projeções tem se deslocado em direção a um formato cuja moda se posiciona em torno da meta estabelecida pelo CMN para o próximo ano Como mencionado em Notas de reuniões anteriores do Copom esses desenvolvimentos sugerem que as decisões de política monetária dos últimos meses além de conter as pressões inflacionárias de curto prazo estão contribuindo de forma importante para a consolidação de um ambiente macroeconômico cada vez mais favorável em horizontes mais longos 16 A projeção de inflação do cenário de referência que pressupõe a manutenção da taxa Selic em 19 75 a a e da taxa de câmbio em R 2 35 ao longo de todo o horizonte de projeção apresentou redução em relação à reunião anterior do Copom situando se abaixo do objetivo de 5 1 para o ano A melhora deveu se fundamentalmente à surpresa positiva na inflação de agosto ao alargamento do hiato do produto e à reavaliação das estimativas de reajustes de alguns preços administrados para o restante do ano que contrabalançaram os efeitos adversos do aumento nos preços da gasolina As projeções baseadas no cenário de mercado que incorpora as trajetórias de câmbio e da taxa Selic esperadas pelo mercado no período imediatamente anterior à reunião do Copom situam se acima do objetivo de 5 1 mas se reduziram em relação ao mês anterior Para 2006 a projeção de inflação associada ao cenário de referência se reduziu permanecendo abaixo da meta estabelecida pelo Conselho Monetário Nacional CMN No cenário de mercado houve também ligeira redução da projeção mas ainda mantendo se acima da meta 17 O Copom também considerou as projeções de inflação para horizontes situados entre dezembro de 2005 e dezembro de 2006 como os períodos de doze meses que se encerram em março de 2006 junho de 2006 e setembro de 2006 Trata se de horizontes cujos resultados são mais sensíveis às decisões correntes de política monetária do que os do ano calendário de 2005 sendo ao mesmo tempo períodos cobertos por projeções de inflação mais confiáveis do que as já disponíveis para o ano calendário de 2006 As projeções do cenário de referência para os períodos de doze meses que se encerram em março de 2006 junho de 2006 e setembro de 2006 se encontram abaixo dos valores que dizem respeito a esses períodos na trajetória de metas obtida pela interpolação do objetivo de inflação de 5 1 para 2005 e da meta de 4 5 estabelecida pelo CMN para 2006 Implementação da política monetária 18 O Copom reafirma o diagnóstico expresso nas Notas das últimas reuniões de que os resultados recentes da inflação bem como as projeções de inflação realizadas pelo Banco Central e pelos analistas do setor privado sugerem que além de conter as pressões inflacionárias de curto prazo a postura de política monetária adotada desde setembro de 2004 tem contribuído de maneira importante para a consolidação de um ambiente macroeconômico cada vez mais favorável em horizontes mais longos A atividade econômica deverá continuar em expansão mas em ritmo condizente com as condições de oferta de modo a não resultar em pressões significativas sobre a inflação Além disso o cenário externo permanece favorável particularmente no que diz respeito às perspectivas de financiamento para a economia brasileira Mesmo que os preços internacionais do petróleo se mantenham nos níveis elevados dos últimos meses o recente reajuste do preço doméstico da gasolina reduziu um foco de incerteza importante na construção de cenários para a evolução dos preços em 2005 e principalmente em 2006 Assim continua se configurando de maneira cada vez mais definida um cenário benigno para a evolução da inflação Tal como na reunião de agosto o Copom enfatiza que o principal desafio da política monetária nesse contexto é garantir a consolidação dos desenvolvimentos favoráveis que se antecipam para o futuro 19 No regime de metas para a inflação a autoridade monetária orienta suas decisões de acordo com os valores projetados para a inflação futura analisando diversos cenários alternativos para a evolução das principais variáveis que determinam a dinâmica dos preços A consolidação dos desenvolvimentos favoráveis que vêm sendo observados para os principais índices de preços deverá contribuir de forma importante para reduzir a incerteza em relação ao comportamento futuro da inflação tornando mais fácil tanto a avaliação de cenários pela autoridade monetária quanto a coordenação de expectativas dos agentes privados Da mesma forma a persistência de uma postura mais ativa de política monetária em um contexto em que os indicadores de atividade sugerem a manutenção da trajetória de crescimento da economia e uma parcela dos resultados favoráveis para a inflação de curto prazo responde a fatores pontuais que tendem a apresentar alguma reversão no futuro poderá fazer com que a inflação se aproxime de forma mais consistente dos objetivos estabelecidos para horizontes mais curtos Como conseqüência desse processo as expectativas para horizontes mais longos poderão ser afetadas de forma mais duradoura reduzindo sobremaneira os custos associados à convergência da inflação para a trajetória de metas estabelecida para a atuação da autoridade monetária 20 A convergência ininterrupta da inflação para a trajetória de metas e a resultante consolidação de um cenário de estabilidade macroeconômica duradoura contribuirão para a manutenção do processo de redução progressiva da percepção de risco macroeconômico que vem ocorrendo nos últimos anos O espaço para que observemos juros reais menores no futuro continuará se consolidando de forma natural como conseqüência dessa melhora de percepção O Copom avalia que a atuação cautelosa da política monetária tem sido fundamental para aumentar a probabilidade de que a inflação convirja para a trajetória de metas Para que essa maior probabilidade continue se traduzindo em resultados efetivos entretanto é preciso que os indicadores prospectivos de inflação sigam apresentando elementos compatíveis com o cenário benigno que tem se configurado Dessa forma a flexibilização da política monetária não comprometerá as importantes conquistas dos últimos meses no combate à inflação e na preservação do crescimento econômico com geração de empregos 21 Diante disso o Copom decidiu por unanimidade reduzir a meta para a taxa Selic para 19 50 a a sem viés e acompanhar atentamente a evolução do cenário prospectivo para a inflação até a sua próxima reunião para então definir os próximos passos na sua estratégia de política monetária 22 Ao final da reunião foi registrado que o Comitê voltaria a se reunir em 18 de outubro de 2005 para as apresentações técnicas e no dia seguinte para deliberar sobre a política monetária conforme estabelecido pelo Comunicado 12 631 de 29 10 2004 SUMÁRIO DOS DADOS ANALISADOS PELO COPOM Inflação 23 O IPCA registrou taxa de 0 17 em agosto acumulando variações de 3 59 no ano e de 6 02 nos últimos doze meses O crescimento do IPCA no mês decorreu exclusivamente do aumento de preços de itens monitorados cujo grupo registrou variação de 0 69 O conjunto de preços livres registrou recuo de 0 05 Nesse grupo destacou se a queda dos preços de alimentação e bebidas de 0 73 cujo efeito se sobrepôs aos impactos de aumentos ocorridos em outros itens no período 24 O IGP DI recuou 0 79 em agosto registrando variação negativa pelo quarto mês consecutivo No ano o IGP DI acumulou variação de 0 32 e nos últimos doze meses findos em agosto de 2 71 Considerados os componentes do IGP DI o Índice de Preços ao Consumidor Brasil IPC Br diminuiu 0 44 no mês principalmente pela queda de 1 57 nos preços do grupo alimentação enquanto o INCC variou 0 02 O IPA DI componente de maior peso do IGP DI registrou queda pelo quarto mês consecutivo 1 04 acumulando variação negativa de 1 57 no ano e aumento de 1 16 em doze meses 25 O novo recuo do IPA DI em agosto refletiu tanto a redução dos preços agrícolas como dos industriais O IPA agrícola variou 2 47 ante 1 6 em julho sobretudo pela intensificação da queda dos preços de animais e derivados As taxas dos grupos legumes e frutas e cereais e grãos novamente foram negativas no mês após ligeira alta em julho O declínio dos preços industriais também se acentuou em agosto 0 57 ante 0 38 em julho principalmente pela reversão na variação do grupo química 0 67 após alta de 0 26 no mês anterior Outros segmentos importantes da indústria de transformação como produtos alimentares e metalúrgica continuaram com variações negativas de preços Considerando o IPA DI segundo os estágios de processamento as quedas de preços de 1 22 dos bens finais e de 0 81 dos bens intermediários foram de maior magnitude que as do mês anterior Os preços das matérias primas brutas recuaram 1 26 após queda de 1 7 em julho 26 O núcleo de inflação para o IPCA calculado pelo método das médias aparadas com suavização de itens preestabelecidos situou se em 0 36 ante 0 45 no mês anterior e totalizou 7 2 em doze meses A mesma medida para o núcleo calculada sem o procedimento de suavização de itens preestabelecidos passou de 0 31 em julho para 0 28 em agosto com aumento acumulado de 5 82 em doze meses O núcleo calculado pela exclusão de alimentos no domicílio e preços monitorados também recuou em agosto atingindo 0 26 ante 0 37 em julho Em doze meses essa medida de núcleo do IPCA acumulou variação de 6 56 27 O índice de difusão do IPCA mostrou em agosto nova redução da proporção de itens com variações positivas 48 4 ante 53 7 no mês anterior 28 O núcleo de inflação para o IPC Br calculado pela Fundação Getulio Vargas FGV pelo método das médias aparadas simétricas atingiu 0 07 em agosto o menor resultado mensal desde novembro de 1998 No ano o indicador acumulou variação de 3 69 totalizando alta de 5 46 em doze meses 29 Para setembro espera se elevação das taxas de inflação em decorrência sobretudo do aumento dos preços dos combustíveis ocorrido em 10 de setembro Estima se que o reajuste concedido à gasolina tenha impacto direto de 0 32 p p sobre o IPCA divididos entre os resultados deste mês e de outubro Atividade econômica 30 Segundo a Associação Comercial de São Paulo ACSP o número de consultas ao Serviço de Proteção ao Crédito SPC cresceu 1 1 em agosto relativamente ao de julho na série dessazonalizada enquanto as consultas efetuadas ao sistema Usecheque diminuíram 1 9 No ano até agosto esses indicadores revelaram aumentos de 5 7 e 3 5 respectivamente quando comparados aos do mesmo período do ano anterior 31 Pesquisa mensal da Federação do Comércio do Estado de São Paulo Fecomercio SP registrou declínio de 13 1 no Índice de Confiança do Consumidor ICC em setembro em comparação ao nível de agosto como resultado das quedas de 13 4 e 12 7 no Índice de Expectativas do Consumidor IEC e no Índice de Condições Econômicas Atuais Icea respectivamente 32 Os indicadores de investimento registraram queda em julho A produção doméstica e a importação de bens de capital diminuíram 7 6 e 1 6 respectivamente em comparação aos níveis observados no mês anterior após ajuste sazonal A produção de insumos da construção civil recuou 3 5 também considerada a série dessazonalizada No ano até julho em comparação com o mesmo período de 2004 esses indicadores acumularam expansões respectivas de 2 6 28 3 e 3 8 33 Segundo a Pesquisa Industrial Mensal PIM do IBGE a produção industrial brasileira caiu 2 5 em julho em relação à do mês anterior após ajuste sazonal A retração da produção em julho após quatro meses consecutivos de crescimento atingiu a produção das indústrias de transformação 1 9 e extrativa 1 1 No ano até julho a indústria acumulou expansão de 4 3 resultado dos acréscimos de 4 na indústria de transformação e de 10 5 na produção extrativa Deve se ressaltar que em parte a queda mensal observada na atividade industrial de julho deve se à incidência do feriado de Corpus Christi em maio ao invés de em junho neste ano O efeito desse deslocamento não é compensado no processo de dessazonalização adotado para a PIM e resultou na elevação do patamar produtivo de junho na série dessazonalizada 34 A análise desagregada da produção industrial considerando as séries sazonalmente ajustadas revelou que 20 das 23 atividades mostraram queda no mês Por categorias de uso todos os segmentos registraram recuo em julho destacando se as quedas de 7 6 na produção de bens de capital e de 5 9 na de bens de consumo duráveis A fabricação de bens intermediários de maior peso no resultado global da indústria diminuiu 1 9 e a de bens de consumo semi e não duráveis 0 8 35 Estatísticas da CNI mostraram quedas de 0 3 nas vendas reais e de 2 2 nas horas trabalhadas na produção em julho em relação às do mês anterior nas séries ajustadas sazonalmente pelo Banco Central Em relação aos índices observados em julho de 2004 as vendas reais diminuíram 2 9 e as horas trabalhadas aumentaram 2 8 O nível de utilização da capacidade instalada alcançou 81 8 no mês na série dessazonalizada recuando 0 9 p p em relação ao observado em junho Considerando a série sem ajuste sazonal o nível de utilização de 81 7 ficou 1 1 p p abaixo do verificado em julho de 2004 Registre se que também as variações mensais desses indicadores nas séries dessazonalizadas foram parcialmente influenciadas pelo deslocamento do feriado de Corpus Christi 36 Indicadores setoriais da indústria delinearam perspectiva favorável para a atividade fabril em agosto Nesse sentido as variações da carga própria de energia elétrica dado do Operador Nacional do Sistema Elétrico ONS a produção de autoveículos segundo a Associação Nacional dos Fabricantes de Veículos Automotores Anfavea e o número de pedágios efetuados por veículos pesados conforme o indicador da Associação Brasileira de Concessionárias de Rodovias ABCR apontaram conjuntamente recuperação da produção industrial no mês após ajuste sazonal Mercado de trabalho 37 O índice de emprego formal registrou crescimento mensal de 0 4 em julho após ajuste sazonal de acordo com informações do MTE Comparativamente ao índice de julho de 2004 houve expansão de 5 6 no nível de ocupação formal resultante da criação líquida de 1 370 mil empregos no período com destaque para a expansão de 7 5 nos postos de trabalho no comércio 38 Segundo a Pesquisa Mensal de Emprego PME realizada pelo IBGE nas seis principais regiões metropolitanas do País a taxa de desemprego ficou estável em 9 4 em julho situando se 1 8 p p abaixo da observada em julho de 2004 A estabilidade da População Economicamente Ativa PEA e o aumento de 0 5 no número de trabalhadores desocupados explicam a manutenção da taxa de desemprego de junho e julho O número de trabalhadores ocupados manteve se praticamente no mesmo patamar com redução de 18 mil postos de trabalho ou 0 1 Segundo a mesma pesquisa o rendimento médio real habitual das pessoas ocupadas cresceu 2 3 em julho deste ano comparativamente ao registrado em junho ao situar se em R 967 18 39 No setor industrial segundo os índices da CNI ajustados sazonalmente pelo Banco Central o contingente de pessoal empregado caiu 0 2 e a massa salarial real aumentou 0 8 em julho ante os níveis de junho Em relação aos patamares observados em julho de 2004 o pessoal empregado e a massa salarial real evoluíram 3 9 e 9 3 respectivamente Crédito e inadimplência 40 O saldo das operações de crédito do sistema financeiro com recursos livres cresceu 1 6 em agosto Nas operações com pessoas físicas o saldo aumentou 3 4 resultado basicamente do comportamento das modalidades de crédito pessoal e aquisição de bens Nas carteiras destinadas a pessoas jurídicas o total das operações com recursos domésticos registrou incremento de 0 6 enquanto o das operações referenciadas em moeda estrangeira apresentou queda de 0 9 41 A taxa média de juros incidente sobre as operações de crédito com recursos livres subiu 0 3 p p em agosto Nas operações com pessoas físicas a taxa média ficou estável em 64 4 a a enquanto naquelas contratadas com pessoas jurídicas observou se acréscimo de 0 2 p p para 33 2 a a 42 No sistema financeiro a taxa de inadimplência relativa às operações de crédito com recursos livres situou se em 7 6 em agosto 0 1p p acima do registrado no mês anterior Igual incremento foi observado nas taxas dos créditos em atraso relativas às operações com pessoas físicas que se situou em 12 4 e com pessoas jurídicas em 3 6 43 A taxa líquida de inadimplência no comércio calculada pela ACSP passou de 4 2 em julho para 4 7 em agosto Esse resultado decorreu das expansões de 8 3 no número de novos registros e de 4 8 no número registros cancelados no mês Ambiente externo 44 A economia mundial se mantém em trajetória de crescimento sólido porém arrefecido comparativamente a 2004 O PIB dos Estados Unidos avançou 3 3 em termos anualizados no segundo trimestre de acordo com dados revisados A forte contração nos estoques traz perspectivas favoráveis para o período seguinte à medida que aqueles forem recompostos Japão e Área do Euro seguem registrando nível de atividade menos aquecido com expectativas mais positivas para a economia japonesa na qual o aumento da participação do consumo doméstico sinaliza melhores possibilidades de sustentação do crescimento econômico Os principais riscos à continuidade do crescimento global são a alta dos preços do petróleo cujo impacto sobre expectativas de consumidores já se faz sentir nas principais regiões econômicas e a possibilidade de reversão dos preços de imóveis que se encontram em patamares muito elevados em alguns países como os Estados Unidos em particular Com relação a este último aspecto vale observar que os principais indicadores referentes ao mercado imobiliário dos Estados Unidos embora permaneçam em níveis elevados demonstram arrefecimento conforme atesta a última versão do Beige Book compilação publicada pelos doze escritórios regionais do banco central norte americano 45 Os danos causados à economia norte americana pelo furacão Katrina adicionaram incerteza ao quadro econômico ao final de agosto Embora os efeitos de catástrofes desse tipo sobre a economia agregada tendam a ser pouco expressivos a região atingida responde por parcela significativa das atividades de extração refino e distribuição de petróleo e derivados nos Estados Unidos Nesse sentido a decorrente restrição de oferta trouxe pressão adicional às cotações do petróleo podendo resultar em pressões inflacionárias e conseqüentes efeitos sobre a renda disponível e sobre a confiança dos consumidores A possibilidade de que o Federal Open Market Committe Fomc viesse a interromper sua seqüência de elevações da taxa básica de juros de modo a compensar possível impacto sobre o nível de atividade refletiu se em acentuado recuo das taxas de juros dos títulos públicos norte americanos comportamento seguido também pelos spreads associados aos títulos de mercados emergentes Porém já nos primeiros dias de setembro as cotações do petróleo retrocederam e as taxas de juros dos títulos do tesouro americano retornaram para próximo de seus patamares anteriores Caso sejam mantidas as tendências de retorno ao quadro que se apresentava antes da passagem do furacão aumenta a probabilidade de que a política monetária nos Estados Unidos permaneça em seu curso de gradual retorno a uma postura neutra Comércio exterior e reservas internacionais 46 O comércio exterior trouxe resultados que reforçam a sustentabilidade observada nos últimos anos Praticamente todos os resultados se constituíram em novos recordes históricos no mês no ano e para o período de doze meses No ano o superávit alcançou US 28 3 bilhões e em doze meses US 40 1 bilhões com acréscimos respectivos de 29 4 e 28 6 em relação aos respectivos períodos do ano anterior Nos mesmos períodos a corrente de comércio somou US 123 8 bilhões e US 182 3 bilhões configurando expansões de 22 8 e de 26 1 sobre os períodos anteriores equivalentes Em setembro o saldo de US 1 381 milhões apurado nos seis primeiros dias úteis do mês mostrou variações de 15 2 e de 5 3 respectivamente nas exportações e importações ante os valores médios observados em setembro de 2004 47 Em agosto as exportações alcançaram US 11 3 bilhões cifra recorde histórica A média diária teve expansão de 19 9 comparativamente à de agosto de 2004 As vendas de produtos manufaturados de US 6 bilhões constituíram recorde histórico mensal para a categoria tanto por elevação de preços quanto por ampliação significativa de itens na pauta Dentre os principais produtos destacaram se os aumentos de receita nas vendas de aparelhos transmissores receptores açúcar refinado laminados planos veículos de carga aviões autopeças tratores automóveis de passageiros e gasolina As vendas de básicos e semimanufaturados foram recordes para meses de agosto O aumento de 23 8 na venda de produtos básicos decorreu principalmente da expansão de 88 9 nas vendas de petróleo em bruto As exportações de café em grão carnes e minério de ferro também cresceram acima da média entre os produtos do grupo 48 No ano até agosto merece destaque o aumento para 54 7 da representatividade das exportações de produtos manufaturados na pauta de exportações ante 52 9 no mesmo período de 2004 Além da continuidade da diversificação da pauta brasileira observou se expansão das exportações para todas as regiões com crescimento expressivo das vendas para novos mercados 49 As importações ultrapassaram pela primeira vez o patamar de US 7 bilhões e atingiram US 7 7 bilhões com acréscimo de 30 6 em termos de médias diárias comparativamente ao ocorrido em agosto de 2004 Todas as categorias de produtos de importação registraram expansão no mês comparativamente ao resultado de agosto de 2004 No ano até agosto observaram se aumentos de 28 8 em bens de capital 21 8 em combustíveis e lubrificantes 20 3 em bens de consumo e 18 1 em matérias primas e bens intermediários considerados os valores médios diários de igual período do ano anterior 50 Ao final de agosto as reservas internacionais situaram se em US 55 1 bilhões aumento de US 388 milhões ante a posição registrada no final de julho As reservas líquidas ajustadas atingiram US 40 4 bilhões com redução de US 48 milhões na mesma base de comparação Mercado monetário e operações de mercado aberto 51 A curva de juros manteve se pressionada durante o período que sucedeu a reunião do Copom de agosto em conseqüência principalmente de incertezas no cenário doméstico A partir do início de setembro as taxas futuras recuaram reagindo à queda dos índices de inflação corrente e das expectativas de inflação e à divulgação dos dados da produção industrial de julho que ficaram abaixo das projeções A redução das cotações do petróleo e do risco país e a valorização do real frente ao dólar também influenciaram favoravelmente a curva de juros em setembro Entre 17 de agosto e 14 de setembro as taxas de 1 de 3 e de 6 meses e as taxas de um ano cederam respectivamente 0 11 p p 0 10 p p 0 01 p p e 0 05 p p As taxas de dois e de três anos caíram de forma bem mais acentuada a primeira 0 39 p p e a segunda 0 55 p p A taxa real de juros medida pelo quociente entre a taxa nominal de um ano e a expectativa de inflação para os próximos doze meses manteve se relativamente estável passando de 12 54 para 12 53 52 No período de 18 de agosto a 14 de setembro não houve colocação ou pagamento de instrumentos cambiais mantendo se em US 15 1 bilhões o resgate líquido acumulado em 2005 53 Entre as reuniões do Copom de agosto e de setembro o Tesouro Nacional captou R 16 2 bilhões em leilões de venda de títulos prefixados R 15 8 bilhões mediante a venda de LTN de vencimento em 2006 2007 e 2008 e R 388 4 milhões com a colocação de NTN F de vencimento em 2010 e 2012 Os leilões de venda de LFT de vencimento em 2008 e 2009 movimentaram o equivalente a R 7 7 bilhões 54 Na administração da liquidez o Banco Central interveio no mercado monetário por meio de quatro operações compromissadas prefixadas com prazo de três meses e de operações compromissadas de curtíssimo prazo Dentre estas últimas nove se destinaram a prover e cinco a retirar reservas bancárias Realizou também operações de nivelamento da liquidez ao final do dia O saldo diário médio das operações de três meses que corresponde ao excesso de liquidez bancária esterilizado por essas operações alcançou R 46 4 bilhões As operações de curtíssimo prazo inclusive as de nivelamento apresentaram saldo diário médio de R 1 3 bilhão doador 55 Com o objetivo de reduzir o excedente de liquidez bancária previsto para o quarto trimestre o Banco Central realizou em 17 8 24 8 31 8 e 8 9 leilões de venda de LTN de sua carteira de vencimento em janeiro de 2006 conjugada à compra de Letras do Tesouro Naciona LTN de vencimento em outubro de 2005 O volume financeiro total dessas operações foi de R 6 5 bilhões 56 Em agosto o estoque da Dívida Pública Mobiliária Federal interna DPMFi aumentou 0 6 atingindo R 921bilhões A apropriação de juros foi parcialmente compensada pelo resgate líquido de R 7 8 bilhões A parcela da dívida correspondente a títulos de rentabilidade prefixada alcançou 23 9 ante 22 4 no final de julho conteudo TAG_CONTEUDO_FIM Atendimento 145 custo de ligação local Fale conosco Ajuda Política de privacidade Política de acessibilidade Banco Central do Brasil Todos os direitos reservados '"
      ]
     },
     "execution_count": 85,
     "metadata": {},
     "output_type": "execute_result"
    }
   ],
   "source": [
    "clean_string(full_text)"
   ]
  },
  {
   "cell_type": "code",
   "execution_count": null,
   "metadata": {
    "collapsed": true
   },
   "outputs": [],
   "source": []
  }
 ],
 "metadata": {
  "kernelspec": {
   "display_name": "Python 3",
   "language": "python",
   "name": "python3"
  },
  "language_info": {
   "codemirror_mode": {
    "name": "ipython",
    "version": 3
   },
   "file_extension": ".py",
   "mimetype": "text/x-python",
   "name": "python",
   "nbconvert_exporter": "python",
   "pygments_lexer": "ipython3",
   "version": "3.6.0"
  }
 },
 "nbformat": 4,
 "nbformat_minor": 2
}
