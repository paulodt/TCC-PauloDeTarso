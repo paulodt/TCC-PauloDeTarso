{
 "cells": [
  {
   "cell_type": "markdown",
   "metadata": {},
   "source": [
    "# Código do TCC de Paulo de Tarso, da EMAp FGV"
   ]
  },
  {
   "cell_type": "markdown",
   "metadata": {},
   "source": [
    "### Repositório do Github: https://github.com/paulodt/TCC-PauloDeTarso"
   ]
  },
  {
   "cell_type": "code",
   "execution_count": 1,
   "metadata": {
    "collapsed": false
   },
   "outputs": [],
   "source": [
    "import urllib.request as url\n",
    "import ssl\n",
    "from multiprocessing import Pool\n",
    "from bs4 import BeautifulSoup as BS\n",
    "import time\n",
    "import os\n",
    "import re"
   ]
  },
  {
   "cell_type": "markdown",
   "metadata": {},
   "source": [
    "## Códigos auxiliares\n",
    "### Código para transformar os pdfs em texto. Criado a partir da modificação de:\n",
    "\n",
    "http://stackoverflow.com/questions/5725278/how-do-i-use-pdfminer-as-a-library"
   ]
  },
  {
   "cell_type": "code",
   "execution_count": 2,
   "metadata": {
    "collapsed": false
   },
   "outputs": [],
   "source": [
    "from pdfminer.pdfinterp import PDFResourceManager, process_pdf\n",
    "from pdfminer.converter import TextConverter\n",
    "from pdfminer.layout import LAParams\n",
    "from io import StringIO\n",
    "\n",
    "def convert_pdf(path):\n",
    "\n",
    "    rsrcmgr = PDFResourceManager()\n",
    "    retstr = StringIO()\n",
    "    codec = 'utf-8'\n",
    "    laparams = LAParams()\n",
    "    device = TextConverter(rsrcmgr, retstr, laparams=laparams)\n",
    "\n",
    "    fp = open(path, 'rb')\n",
    "    process_pdf(rsrcmgr, device, fp)\n",
    "    fp.close()\n",
    "    device.close()\n",
    "\n",
    "    str = retstr.getvalue()\n",
    "    retstr.close()\n",
    "    return str"
   ]
  },
  {
   "cell_type": "markdown",
   "metadata": {},
   "source": [
    "## Baixar as atas do COPOM"
   ]
  },
  {
   "cell_type": "markdown",
   "metadata": {},
   "source": [
    "### Para ignorar a verificação de certificados, me baseio em:\n",
    "http://stackoverflow.com/questions/36600583/python-3-urllib-ignore-ssl-certificate-verification"
   ]
  },
  {
   "cell_type": "code",
   "execution_count": 3,
   "metadata": {
    "collapsed": true
   },
   "outputs": [],
   "source": [
    "#Ignorar a verificação de certificados no \"urlopen\"\n",
    "ctx = ssl.create_default_context()\n",
    "ctx.check_hostname = False\n",
    "ctx.verify_mode = ssl.CERT_NONE"
   ]
  },
  {
   "cell_type": "markdown",
   "metadata": {},
   "source": [
    "### Parâmetros"
   ]
  },
  {
   "cell_type": "code",
   "execution_count": 4,
   "metadata": {
    "collapsed": true
   },
   "outputs": [],
   "source": [
    "#Parâmetros\n",
    "inicio_atas = 104 #Utilizarei as atas a partir de 2005\n",
    "final_atas = 205\n",
    "\n",
    "total_atas = final_atas - inicio_atas + 1\n",
    "atas = range(inicio_atas,final_atas+1)\n",
    "\n",
    "path = \"D:/Users/paulotarsosantos/Documents/Documentos/TCC/Atas/\""
   ]
  },
  {
   "cell_type": "markdown",
   "metadata": {},
   "source": [
    "### Se a ata estiver em pdf, utilizo o programa \"convert_pdf\" acima para transformar em um txt. Se for um html, transformo em um txt diretamente."
   ]
  },
  {
   "cell_type": "code",
   "execution_count": 6,
   "metadata": {
    "collapsed": false
   },
   "outputs": [
    {
     "name": "stdout",
     "output_type": "stream",
     "text": [
      "Progresso: 100%\r"
     ]
    }
   ],
   "source": [
    "for n_ata in atas:\n",
    "    \n",
    "    #Progresso\n",
    "    print(\"Progresso: \" + str(round(100*(n_ata-inicio_atas+1)/total_atas)) + \"%\",end=\"\\r\")\n",
    "\n",
    "    #Parâmetros a serem construídos\n",
    "    ata = str(n_ata)\n",
    "    link = \"https://www.bcb.gov.br/?COPOM\" + ata\n",
    "    filename = \"COPOM_\" + ata\n",
    "\n",
    "    #Acessar o site e obter o tipo (html ou PDF)\n",
    "    site = url.urlopen(link,context=ctx)\n",
    "    content_type = dict(site.getheaders())[\"Content-Type\"]\n",
    "    \n",
    "    if \"pdf\" not in content_type:\n",
    "        #Caso: HTML\n",
    "        \n",
    "        full_text = site.read()\n",
    "        full_text = \"\\n\".join(BS(full_text,\"lxml\").findAll(text=True))\n",
    "        clean_text = full_text[full_text.index(\"Data\"):]\n",
    "\n",
    "        \n",
    "        file_out = open(path + filename + \".txt\",\"w\")\n",
    "        #Caso não consiga escrever o texto inteiro, tento escrever cada\n",
    "        #caractere isoladamente. Se encontrar um erro, pulo ele.\n",
    "        try:\n",
    "            file_out.write(clean_text)\n",
    "        except:\n",
    "            for char in clean_text:\n",
    "                try:\n",
    "                    file_out.write(char)\n",
    "                except:\n",
    "                    continue\n",
    "        file_out.close()\n",
    "        \n",
    "    else:\n",
    "        #Caso: PDF\n",
    "        \n",
    "        #Escrever a página em um arquivo pdf local\n",
    "        with open(path + filename + \".pdf\",\"wb\") as file_in:\n",
    "            file_in.write(site.read())\n",
    "        file_in.close()\n",
    "\n",
    "        #Converter esse arquivo em pdf para txt usando o \"convert_pdf\"\n",
    "        full_text = convert_pdf(path + filename + \".pdf\")\n",
    "        full_text = full_text[full_text.index(\"Data\"):]\n",
    "\n",
    "        #Escrever no arquivo txt\n",
    "        file_out = open(path + filename + \".txt\",\"w\")\n",
    "        file_out.write(full_text)\n",
    "        file_out.close()\n",
    "\n",
    "        #Remover o arquivo pdf original\n",
    "        os.remove(path + filename + \".pdf\")"
   ]
  },
  {
   "cell_type": "markdown",
   "metadata": {},
   "source": [
    "### Checar o resultado"
   ]
  },
  {
   "cell_type": "code",
   "execution_count": 7,
   "metadata": {
    "collapsed": false
   },
   "outputs": [
    {
     "name": "stdout",
     "output_type": "stream",
     "text": [
      "Todos os arquivos estão ok!\n"
     ]
    }
   ],
   "source": [
    "flag = False\n",
    "for file in os.listdir(path):\n",
    "    if open(path + file).readline() == \"\":\n",
    "        print(file)\n",
    "if flag == False:\n",
    "    print(\"Todos os arquivos estão ok!\")"
   ]
  }
 ],
 "metadata": {
  "kernelspec": {
   "display_name": "Python 3",
   "language": "python",
   "name": "python3"
  },
  "language_info": {
   "codemirror_mode": {
    "name": "ipython",
    "version": 3
   },
   "file_extension": ".py",
   "mimetype": "text/x-python",
   "name": "python",
   "nbconvert_exporter": "python",
   "pygments_lexer": "ipython3",
   "version": "3.6.0"
  }
 },
 "nbformat": 4,
 "nbformat_minor": 2
}
